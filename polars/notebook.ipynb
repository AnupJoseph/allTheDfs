{
 "cells": [
  {
   "cell_type": "code",
   "execution_count": 1,
   "metadata": {},
   "outputs": [
    {
     "name": "stdout",
     "output_type": "stream",
     "text": [
      "--2024-01-27 13:29:20--  https://github.com/mattharrison/datasets/raw/master/data/__mharrison__2020-2021.csv\n",
      "Resolving github.com (github.com)... 20.207.73.82\n",
      "Connecting to github.com (github.com)|20.207.73.82|:443... connected.\n",
      "HTTP request sent, awaiting response... 302 Found\n",
      "Location: https://raw.githubusercontent.com/mattharrison/datasets/master/data/__mharrison__2020-2021.csv [following]\n",
      "--2024-01-27 13:29:20--  https://raw.githubusercontent.com/mattharrison/datasets/master/data/__mharrison__2020-2021.csv\n",
      "Resolving raw.githubusercontent.com (raw.githubusercontent.com)... 185.199.111.133, 185.199.108.133, 185.199.109.133, ...\n",
      "Connecting to raw.githubusercontent.com (raw.githubusercontent.com)|185.199.111.133|:443... connected.\n",
      "HTTP request sent, awaiting response... 200 OK\n",
      "Length: 1725101 (1.6M) [text/plain]\n",
      "Saving to: ‘../data/__mharrison__2020-2021.csv’\n",
      "\n",
      "__mharrison__2020-2 100%[===================>]   1.64M  6.35MB/s    in 0.3s    \n",
      "\n",
      "2024-01-27 13:29:21 (6.35 MB/s) - ‘../data/__mharrison__2020-2021.csv’ saved [1725101/1725101]\n",
      "\n"
     ]
    }
   ],
   "source": [
    "!wget -P \"../data/\"  https://github.com/mattharrison/datasets/raw/master/data/__mharrison__2020-2021.csv"
   ]
  },
  {
   "cell_type": "code",
   "execution_count": 2,
   "metadata": {},
   "outputs": [],
   "source": [
    "!mv ../data/__mharrison__2020-2021.csv ../data/mharrison__2020-2021.csv"
   ]
  },
  {
   "cell_type": "code",
   "execution_count": 3,
   "metadata": {},
   "outputs": [],
   "source": [
    "# Internal\n",
    "\n",
    "# External\n",
    "import polars as pl\n",
    "\n",
    "# Project\n",
    "\n",
    "# Project Specific Configuration"
   ]
  },
  {
   "cell_type": "code",
   "execution_count": 4,
   "metadata": {},
   "outputs": [],
   "source": [
    "df = pl.read_csv(\"../data/mharrison__2020-2021.csv\")\n"
   ]
  },
  {
   "cell_type": "code",
   "execution_count": 5,
   "metadata": {},
   "outputs": [
    {
     "data": {
      "text/html": [
       "<div><style>\n",
       ".dataframe > thead > tr,\n",
       ".dataframe > tbody > tr {\n",
       "  text-align: right;\n",
       "  white-space: pre-wrap;\n",
       "}\n",
       "</style>\n",
       "<small>shape: (5_791, 40)</small><table border=\"1\" class=\"dataframe\"><thead><tr><th>Tweet id</th><th>Tweet permalink</th><th>Tweet text</th><th>time</th><th>impressions</th><th>engagements</th><th>engagement rate</th><th>retweets</th><th>replies</th><th>likes</th><th>user profile clicks</th><th>url clicks</th><th>hashtag clicks</th><th>detail expands</th><th>permalink clicks</th><th>app opens</th><th>app installs</th><th>follows</th><th>email tweet</th><th>dial phone</th><th>media views</th><th>media engagements</th><th>promoted impressions</th><th>promoted engagements</th><th>promoted engagement rate</th><th>promoted retweets</th><th>promoted replies</th><th>promoted likes</th><th>promoted user profile clicks</th><th>promoted url clicks</th><th>promoted hashtag clicks</th><th>promoted detail expands</th><th>promoted permalink clicks</th><th>promoted app opens</th><th>promoted app installs</th><th>promoted follows</th><th>promoted email tweet</th><th>promoted dial phone</th><th>promoted media views</th><th>promoted media engagements</th></tr><tr><td>i64</td><td>str</td><td>str</td><td>str</td><td>f64</td><td>f64</td><td>f64</td><td>f64</td><td>f64</td><td>f64</td><td>f64</td><td>f64</td><td>f64</td><td>f64</td><td>f64</td><td>i64</td><td>i64</td><td>i64</td><td>i64</td><td>i64</td><td>i64</td><td>i64</td><td>str</td><td>str</td><td>str</td><td>str</td><td>str</td><td>str</td><td>str</td><td>str</td><td>str</td><td>str</td><td>str</td><td>str</td><td>str</td><td>str</td><td>str</td><td>str</td><td>str</td><td>str</td></tr></thead><tbody><tr><td>1212580517905780737</td><td>&quot;https://twitte…</td><td>&quot;Sounds like a …</td><td>&quot;2020-01-02 03:…</td><td>1465.0</td><td>7.0</td><td>0.004778</td><td>0.0</td><td>0.0</td><td>3.0</td><td>3.0</td><td>0.0</td><td>0.0</td><td>1.0</td><td>0.0</td><td>0</td><td>0</td><td>0</td><td>0</td><td>0</td><td>0</td><td>0</td><td>null</td><td>null</td><td>null</td><td>null</td><td>null</td><td>null</td><td>null</td><td>null</td><td>null</td><td>null</td><td>null</td><td>null</td><td>null</td><td>null</td><td>null</td><td>null</td><td>null</td><td>null</td></tr><tr><td>1212582494828036097</td><td>&quot;https://twitte…</td><td>&quot;@FogleBird Loo…</td><td>&quot;2020-01-02 03:…</td><td>154.0</td><td>3.0</td><td>0.019481</td><td>0.0</td><td>0.0</td><td>1.0</td><td>1.0</td><td>0.0</td><td>0.0</td><td>1.0</td><td>0.0</td><td>0</td><td>0</td><td>0</td><td>0</td><td>0</td><td>0</td><td>0</td><td>null</td><td>null</td><td>null</td><td>null</td><td>null</td><td>null</td><td>null</td><td>null</td><td>null</td><td>null</td><td>null</td><td>null</td><td>null</td><td>null</td><td>null</td><td>null</td><td>null</td><td>null</td></tr><tr><td>1212613735698690049</td><td>&quot;https://twitte…</td><td>&quot;@afilina That&#x27;…</td><td>&quot;2020-01-02 05:…</td><td>1024.0</td><td>6.0</td><td>0.005859</td><td>0.0</td><td>0.0</td><td>1.0</td><td>2.0</td><td>0.0</td><td>0.0</td><td>3.0</td><td>0.0</td><td>0</td><td>0</td><td>0</td><td>0</td><td>0</td><td>0</td><td>0</td><td>null</td><td>null</td><td>null</td><td>null</td><td>null</td><td>null</td><td>null</td><td>null</td><td>null</td><td>null</td><td>null</td><td>null</td><td>null</td><td>null</td><td>null</td><td>null</td><td>null</td><td>null</td></tr><tr><td>1212911749617242113</td><td>&quot;https://twitte…</td><td>&quot;@randal_olson …</td><td>&quot;2020-01-03 01:…</td><td>1419.0</td><td>14.0</td><td>0.009866</td><td>0.0</td><td>1.0</td><td>5.0</td><td>7.0</td><td>0.0</td><td>0.0</td><td>1.0</td><td>0.0</td><td>0</td><td>0</td><td>0</td><td>0</td><td>0</td><td>0</td><td>0</td><td>null</td><td>null</td><td>null</td><td>null</td><td>null</td><td>null</td><td>null</td><td>null</td><td>null</td><td>null</td><td>null</td><td>null</td><td>null</td><td>null</td><td>null</td><td>null</td><td>null</td><td>null</td></tr><tr><td>1212920556028252160</td><td>&quot;https://twitte…</td><td>&quot;@AlSweigart So…</td><td>&quot;2020-01-03 02:…</td><td>198.0</td><td>1.0</td><td>0.005051</td><td>0.0</td><td>0.0</td><td>1.0</td><td>0.0</td><td>0.0</td><td>0.0</td><td>0.0</td><td>0.0</td><td>0</td><td>0</td><td>0</td><td>0</td><td>0</td><td>0</td><td>0</td><td>null</td><td>null</td><td>null</td><td>null</td><td>null</td><td>null</td><td>null</td><td>null</td><td>null</td><td>null</td><td>null</td><td>null</td><td>null</td><td>null</td><td>null</td><td>null</td><td>null</td><td>null</td></tr><tr><td>1212921038356434947</td><td>&quot;https://twitte…</td><td>&quot;@tmarthal @Ted…</td><td>&quot;2020-01-03 02:…</td><td>170.0</td><td>3.0</td><td>0.017647</td><td>0.0</td><td>0.0</td><td>1.0</td><td>1.0</td><td>0.0</td><td>0.0</td><td>1.0</td><td>0.0</td><td>0</td><td>0</td><td>0</td><td>0</td><td>0</td><td>0</td><td>0</td><td>null</td><td>null</td><td>null</td><td>null</td><td>null</td><td>null</td><td>null</td><td>null</td><td>null</td><td>null</td><td>null</td><td>null</td><td>null</td><td>null</td><td>null</td><td>null</td><td>null</td><td>null</td></tr><tr><td>1212921192287330304</td><td>&quot;https://twitte…</td><td>&quot;@gabegundy It&#x27;…</td><td>&quot;2020-01-03 02:…</td><td>104.0</td><td>2.0</td><td>0.019231</td><td>0.0</td><td>1.0</td><td>1.0</td><td>0.0</td><td>0.0</td><td>0.0</td><td>0.0</td><td>0.0</td><td>0</td><td>0</td><td>0</td><td>0</td><td>0</td><td>0</td><td>0</td><td>null</td><td>null</td><td>null</td><td>null</td><td>null</td><td>null</td><td>null</td><td>null</td><td>null</td><td>null</td><td>null</td><td>null</td><td>null</td><td>null</td><td>null</td><td>null</td><td>null</td><td>null</td></tr><tr><td>1212969747186208768</td><td>&quot;https://twitte…</td><td>&quot;@anthonypjshaw…</td><td>&quot;2020-01-03 05:…</td><td>189.0</td><td>0.0</td><td>0.0</td><td>0.0</td><td>0.0</td><td>0.0</td><td>0.0</td><td>0.0</td><td>0.0</td><td>0.0</td><td>0.0</td><td>0</td><td>0</td><td>0</td><td>0</td><td>0</td><td>0</td><td>0</td><td>null</td><td>null</td><td>null</td><td>null</td><td>null</td><td>null</td><td>null</td><td>null</td><td>null</td><td>null</td><td>null</td><td>null</td><td>null</td><td>null</td><td>null</td><td>null</td><td>null</td><td>null</td></tr><tr><td>1212971634019033088</td><td>&quot;https://twitte…</td><td>&quot;@jet_set A lit…</td><td>&quot;2020-01-03 05:…</td><td>900.0</td><td>4.0</td><td>0.004444</td><td>0.0</td><td>0.0</td><td>0.0</td><td>4.0</td><td>0.0</td><td>0.0</td><td>0.0</td><td>0.0</td><td>0</td><td>0</td><td>0</td><td>0</td><td>0</td><td>0</td><td>0</td><td>null</td><td>null</td><td>null</td><td>null</td><td>null</td><td>null</td><td>null</td><td>null</td><td>null</td><td>null</td><td>null</td><td>null</td><td>null</td><td>null</td><td>null</td><td>null</td><td>null</td><td>null</td></tr><tr><td>1213194379793293312</td><td>&quot;https://twitte…</td><td>&quot;@juliasilge @r…</td><td>&quot;2020-01-03 20:…</td><td>252.0</td><td>2.0</td><td>0.007937</td><td>0.0</td><td>0.0</td><td>1.0</td><td>1.0</td><td>0.0</td><td>0.0</td><td>0.0</td><td>0.0</td><td>0</td><td>0</td><td>0</td><td>0</td><td>0</td><td>0</td><td>0</td><td>null</td><td>null</td><td>null</td><td>null</td><td>null</td><td>null</td><td>null</td><td>null</td><td>null</td><td>null</td><td>null</td><td>null</td><td>null</td><td>null</td><td>null</td><td>null</td><td>null</td><td>null</td></tr><tr><td>1213699561962631168</td><td>&quot;https://twitte…</td><td>&quot;Herein you wil…</td><td>&quot;2020-01-05 05:…</td><td>1610.0</td><td>6.0</td><td>0.003727</td><td>0.0</td><td>0.0</td><td>2.0</td><td>2.0</td><td>0.0</td><td>0.0</td><td>2.0</td><td>0.0</td><td>0</td><td>0</td><td>0</td><td>0</td><td>0</td><td>0</td><td>0</td><td>null</td><td>null</td><td>null</td><td>null</td><td>null</td><td>null</td><td>null</td><td>null</td><td>null</td><td>null</td><td>null</td><td>null</td><td>null</td><td>null</td><td>null</td><td>null</td><td>null</td><td>null</td></tr><tr><td>1213896543985516544</td><td>&quot;https://twitte…</td><td>&quot;@Austen Care t…</td><td>&quot;2020-01-05 18:…</td><td>165.0</td><td>3.0</td><td>0.018182</td><td>0.0</td><td>0.0</td><td>0.0</td><td>1.0</td><td>0.0</td><td>0.0</td><td>2.0</td><td>0.0</td><td>0</td><td>0</td><td>0</td><td>0</td><td>0</td><td>0</td><td>0</td><td>null</td><td>null</td><td>null</td><td>null</td><td>null</td><td>null</td><td>null</td><td>null</td><td>null</td><td>null</td><td>null</td><td>null</td><td>null</td><td>null</td><td>null</td><td>null</td><td>null</td><td>null</td></tr><tr><td>&hellip;</td><td>&hellip;</td><td>&hellip;</td><td>&hellip;</td><td>&hellip;</td><td>&hellip;</td><td>&hellip;</td><td>&hellip;</td><td>&hellip;</td><td>&hellip;</td><td>&hellip;</td><td>&hellip;</td><td>&hellip;</td><td>&hellip;</td><td>&hellip;</td><td>&hellip;</td><td>&hellip;</td><td>&hellip;</td><td>&hellip;</td><td>&hellip;</td><td>&hellip;</td><td>&hellip;</td><td>&hellip;</td><td>&hellip;</td><td>&hellip;</td><td>&hellip;</td><td>&hellip;</td><td>&hellip;</td><td>&hellip;</td><td>&hellip;</td><td>&hellip;</td><td>&hellip;</td><td>&hellip;</td><td>&hellip;</td><td>&hellip;</td><td>&hellip;</td><td>&hellip;</td><td>&hellip;</td><td>&hellip;</td><td>&hellip;</td></tr><tr><td>1474805013343981570</td><td>&quot;https://twitte…</td><td>&quot;@EricSchles @s…</td><td>&quot;2021-12-25 18:…</td><td>416.0</td><td>3.0</td><td>0.007212</td><td>0.0</td><td>0.0</td><td>2.0</td><td>1.0</td><td>0.0</td><td>0.0</td><td>0.0</td><td>0.0</td><td>0</td><td>0</td><td>0</td><td>0</td><td>0</td><td>0</td><td>0</td><td>null</td><td>null</td><td>null</td><td>null</td><td>null</td><td>null</td><td>null</td><td>null</td><td>null</td><td>null</td><td>null</td><td>null</td><td>null</td><td>null</td><td>null</td><td>null</td><td>null</td><td>null</td></tr><tr><td>1474820707234185217</td><td>&quot;https://twitte…</td><td>&quot;Mele kalikimak…</td><td>&quot;2021-12-25 19:…</td><td>15840.0</td><td>372.0</td><td>0.023485</td><td>0.0</td><td>2.0</td><td>61.0</td><td>59.0</td><td>6.0</td><td>0.0</td><td>66.0</td><td>0.0</td><td>0</td><td>0</td><td>0</td><td>0</td><td>0</td><td>178</td><td>178</td><td>null</td><td>null</td><td>null</td><td>null</td><td>null</td><td>null</td><td>null</td><td>null</td><td>null</td><td>null</td><td>null</td><td>null</td><td>null</td><td>null</td><td>null</td><td>null</td><td>null</td><td>null</td></tr><tr><td>1475023008620154882</td><td>&quot;https://twitte…</td><td>&quot;Good looking c…</td><td>&quot;2021-12-26 08:…</td><td>22557.0</td><td>501.0</td><td>0.02221</td><td>0.0</td><td>9.0</td><td>50.0</td><td>89.0</td><td>14.0</td><td>0.0</td><td>118.0</td><td>0.0</td><td>0</td><td>0</td><td>0</td><td>0</td><td>0</td><td>221</td><td>221</td><td>null</td><td>null</td><td>null</td><td>null</td><td>null</td><td>null</td><td>null</td><td>null</td><td>null</td><td>null</td><td>null</td><td>null</td><td>null</td><td>null</td><td>null</td><td>null</td><td>null</td><td>null</td></tr><tr><td>1475299210291343362</td><td>&quot;https://twitte…</td><td>&quot;@youtah A litt…</td><td>&quot;2021-12-27 02:…</td><td>1586.0</td><td>35.0</td><td>0.022068</td><td>0.0</td><td>0.0</td><td>2.0</td><td>1.0</td><td>1.0</td><td>0.0</td><td>0.0</td><td>0.0</td><td>0</td><td>0</td><td>0</td><td>0</td><td>0</td><td>31</td><td>31</td><td>null</td><td>null</td><td>null</td><td>null</td><td>null</td><td>null</td><td>null</td><td>null</td><td>null</td><td>null</td><td>null</td><td>null</td><td>null</td><td>null</td><td>null</td><td>null</td><td>null</td><td>null</td></tr><tr><td>1475299401681682434</td><td>&quot;https://twitte…</td><td>&quot;@mathsppblog S…</td><td>&quot;2021-12-27 02:…</td><td>4641.0</td><td>35.0</td><td>0.007541</td><td>0.0</td><td>4.0</td><td>11.0</td><td>10.0</td><td>0.0</td><td>0.0</td><td>10.0</td><td>0.0</td><td>0</td><td>0</td><td>0</td><td>0</td><td>0</td><td>0</td><td>0</td><td>null</td><td>null</td><td>null</td><td>null</td><td>null</td><td>null</td><td>null</td><td>null</td><td>null</td><td>null</td><td>null</td><td>null</td><td>null</td><td>null</td><td>null</td><td>null</td><td>null</td><td>null</td></tr><tr><td>1475299848093978626</td><td>&quot;https://twitte…</td><td>&quot;@willmcgugan P…</td><td>&quot;2021-12-27 02:…</td><td>1969.0</td><td>4.0</td><td>0.002031</td><td>0.0</td><td>0.0</td><td>4.0</td><td>0.0</td><td>0.0</td><td>0.0</td><td>0.0</td><td>0.0</td><td>0</td><td>0</td><td>0</td><td>0</td><td>0</td><td>0</td><td>0</td><td>null</td><td>null</td><td>null</td><td>null</td><td>null</td><td>null</td><td>null</td><td>null</td><td>null</td><td>null</td><td>null</td><td>null</td><td>null</td><td>null</td><td>null</td><td>null</td><td>null</td><td>null</td></tr><tr><td>1475300370138087426</td><td>&quot;https://twitte…</td><td>&quot;@reuvenmlerner…</td><td>&quot;2021-12-27 02:…</td><td>1669.0</td><td>5.0</td><td>0.002996</td><td>0.0</td><td>0.0</td><td>3.0</td><td>0.0</td><td>0.0</td><td>0.0</td><td>2.0</td><td>0.0</td><td>0</td><td>0</td><td>0</td><td>0</td><td>0</td><td>0</td><td>0</td><td>null</td><td>null</td><td>null</td><td>null</td><td>null</td><td>null</td><td>null</td><td>null</td><td>null</td><td>null</td><td>null</td><td>null</td><td>null</td><td>null</td><td>null</td><td>null</td><td>null</td><td>null</td></tr><tr><td>1475300661851934721</td><td>&quot;https://twitte…</td><td>&quot;@allison_horst…</td><td>&quot;2021-12-27 03:…</td><td>986.0</td><td>1.0</td><td>0.001014</td><td>0.0</td><td>0.0</td><td>0.0</td><td>0.0</td><td>0.0</td><td>0.0</td><td>1.0</td><td>0.0</td><td>0</td><td>0</td><td>0</td><td>0</td><td>0</td><td>0</td><td>0</td><td>null</td><td>null</td><td>null</td><td>null</td><td>null</td><td>null</td><td>null</td><td>null</td><td>null</td><td>null</td><td>null</td><td>null</td><td>null</td><td>null</td><td>null</td><td>null</td><td>null</td><td>null</td></tr><tr><td>1475518143690801156</td><td>&quot;https://twitte…</td><td>&quot;@willmcgugan Y…</td><td>&quot;2021-12-27 17:…</td><td>1790.0</td><td>7.0</td><td>0.003911</td><td>0.0</td><td>0.0</td><td>3.0</td><td>1.0</td><td>0.0</td><td>0.0</td><td>3.0</td><td>0.0</td><td>0</td><td>0</td><td>0</td><td>0</td><td>0</td><td>0</td><td>0</td><td>null</td><td>null</td><td>null</td><td>null</td><td>null</td><td>null</td><td>null</td><td>null</td><td>null</td><td>null</td><td>null</td><td>null</td><td>null</td><td>null</td><td>null</td><td>null</td><td>null</td><td>null</td></tr><tr><td>1475891441243025408</td><td>&quot;https://twitte…</td><td>&quot;@posco Visitin…</td><td>&quot;2021-12-28 18:…</td><td>1611.0</td><td>12.0</td><td>0.007449</td><td>0.0</td><td>0.0</td><td>4.0</td><td>4.0</td><td>0.0</td><td>0.0</td><td>4.0</td><td>0.0</td><td>0</td><td>0</td><td>0</td><td>0</td><td>0</td><td>0</td><td>0</td><td>null</td><td>null</td><td>null</td><td>null</td><td>null</td><td>null</td><td>null</td><td>null</td><td>null</td><td>null</td><td>null</td><td>null</td><td>null</td><td>null</td><td>null</td><td>null</td><td>null</td><td>null</td></tr><tr><td>1476453819751878656</td><td>&quot;https://twitte…</td><td>&quot;@johndsaunders…</td><td>&quot;2021-12-30 07:…</td><td>1354.0</td><td>8.0</td><td>0.005908</td><td>0.0</td><td>0.0</td><td>2.0</td><td>4.0</td><td>0.0</td><td>0.0</td><td>2.0</td><td>0.0</td><td>0</td><td>0</td><td>0</td><td>0</td><td>0</td><td>0</td><td>0</td><td>null</td><td>null</td><td>null</td><td>null</td><td>null</td><td>null</td><td>null</td><td>null</td><td>null</td><td>null</td><td>null</td><td>null</td><td>null</td><td>null</td><td>null</td><td>null</td><td>null</td><td>null</td></tr><tr><td>1477024722051158018</td><td>&quot;https://twitte…</td><td>&quot;@tunguz Xgboos…</td><td>&quot;2021-12-31 21:…</td><td>5041.0</td><td>63.0</td><td>0.012498</td><td>0.0</td><td>3.0</td><td>23.0</td><td>8.0</td><td>0.0</td><td>0.0</td><td>29.0</td><td>0.0</td><td>0</td><td>0</td><td>0</td><td>0</td><td>0</td><td>0</td><td>0</td><td>null</td><td>null</td><td>null</td><td>null</td><td>null</td><td>null</td><td>null</td><td>null</td><td>null</td><td>null</td><td>null</td><td>null</td><td>null</td><td>null</td><td>null</td><td>null</td><td>null</td><td>null</td></tr></tbody></table></div>"
      ],
      "text/plain": [
       "shape: (5_791, 40)\n",
       "┌───────────┬───────────┬───────────┬───────────┬───┬───────────┬───────────┬───────────┬──────────┐\n",
       "│ Tweet id  ┆ Tweet     ┆ Tweet     ┆ time      ┆ … ┆ promoted  ┆ promoted  ┆ promoted  ┆ promoted │\n",
       "│ ---       ┆ permalink ┆ text      ┆ ---       ┆   ┆ email     ┆ dial      ┆ media     ┆ media    │\n",
       "│ i64       ┆ ---       ┆ ---       ┆ str       ┆   ┆ tweet     ┆ phone     ┆ views     ┆ engageme │\n",
       "│           ┆ str       ┆ str       ┆           ┆   ┆ ---       ┆ ---       ┆ ---       ┆ nts      │\n",
       "│           ┆           ┆           ┆           ┆   ┆ str       ┆ str       ┆ str       ┆ ---      │\n",
       "│           ┆           ┆           ┆           ┆   ┆           ┆           ┆           ┆ str      │\n",
       "╞═══════════╪═══════════╪═══════════╪═══════════╪═══╪═══════════╪═══════════╪═══════════╪══════════╡\n",
       "│ 121258051 ┆ https://t ┆ Sounds    ┆ 2020-01-0 ┆ … ┆ null      ┆ null      ┆ null      ┆ null     │\n",
       "│ 790578073 ┆ witter.co ┆ like a    ┆ 2 03:44:0 ┆   ┆           ┆           ┆           ┆          │\n",
       "│ 7         ┆ m/__mharr ┆ great     ┆ 0+00:00   ┆   ┆           ┆           ┆           ┆          │\n",
       "│           ┆ ison_…    ┆ topic!    ┆           ┆   ┆           ┆           ┆           ┆          │\n",
       "│           ┆           ┆ https…    ┆           ┆   ┆           ┆           ┆           ┆          │\n",
       "│ 121258249 ┆ https://t ┆ @FogleBir ┆ 2020-01-0 ┆ … ┆ null      ┆ null      ┆ null      ┆ null     │\n",
       "│ 482803609 ┆ witter.co ┆ d Looks   ┆ 2 03:52:0 ┆   ┆           ┆           ┆           ┆          │\n",
       "│ 7         ┆ m/__mharr ┆ like SLC. ┆ 0+00:00   ┆   ┆           ┆           ┆           ┆          │\n",
       "│           ┆ ison_…    ┆ I can…    ┆           ┆   ┆           ┆           ┆           ┆          │\n",
       "│ 121261373 ┆ https://t ┆ @afilina  ┆ 2020-01-0 ┆ … ┆ null      ┆ null      ┆ null      ┆ null     │\n",
       "│ 569869004 ┆ witter.co ┆ That's    ┆ 2 05:56:0 ┆   ┆           ┆           ┆           ┆          │\n",
       "│ 9         ┆ m/__mharr ┆ really    ┆ 0+00:00   ┆   ┆           ┆           ┆           ┆          │\n",
       "│           ┆ ison_…    ┆ amount    ┆           ┆   ┆           ┆           ┆           ┆          │\n",
       "│           ┆           ┆ an…       ┆           ┆   ┆           ┆           ┆           ┆          │\n",
       "│ 121291174 ┆ https://t ┆ @randal_o ┆ 2020-01-0 ┆ … ┆ null      ┆ null      ┆ null      ┆ null     │\n",
       "│ 961724211 ┆ witter.co ┆ lson I    ┆ 3 01:41:0 ┆   ┆           ┆           ┆           ┆          │\n",
       "│ 3         ┆ m/__mharr ┆ use       ┆ 0+00:00   ┆   ┆           ┆           ┆           ┆          │\n",
       "│           ┆ ison_…    ┆ anaconda  ┆           ┆   ┆           ┆           ┆           ┆          │\n",
       "│           ┆           ┆ whe…      ┆           ┆   ┆           ┆           ┆           ┆          │\n",
       "│ …         ┆ …         ┆ …         ┆ …         ┆ … ┆ …         ┆ …         ┆ …         ┆ …        │\n",
       "│ 147551814 ┆ https://t ┆ @willmcgu ┆ 2021-12-2 ┆ … ┆ null      ┆ null      ┆ null      ┆ null     │\n",
       "│ 369080115 ┆ witter.co ┆ gan You   ┆ 7 17:25:0 ┆   ┆           ┆           ┆           ┆          │\n",
       "│ 6         ┆ m/__mharr ┆ need to   ┆ 0+00:00   ┆   ┆           ┆           ┆           ┆          │\n",
       "│           ┆ ison_…    ┆ find ou…  ┆           ┆   ┆           ┆           ┆           ┆          │\n",
       "│ 147589144 ┆ https://t ┆ @posco    ┆ 2021-12-2 ┆ … ┆ null      ┆ null      ┆ null      ┆ null     │\n",
       "│ 124302540 ┆ witter.co ┆ Visiting  ┆ 8 18:08:0 ┆   ┆           ┆           ┆           ┆          │\n",
       "│ 8         ┆ m/__mharr ┆ Hawaii    ┆ 0+00:00   ┆   ┆           ┆           ┆           ┆          │\n",
       "│           ┆ ison_…    ┆ for the   ┆           ┆   ┆           ┆           ┆           ┆          │\n",
       "│           ┆           ┆ h…        ┆           ┆   ┆           ┆           ┆           ┆          │\n",
       "│ 147645381 ┆ https://t ┆ @johndsau ┆ 2021-12-3 ┆ … ┆ null      ┆ null      ┆ null      ┆ null     │\n",
       "│ 975187865 ┆ witter.co ┆ nders My  ┆ 0 07:23:0 ┆   ┆           ┆           ┆           ┆          │\n",
       "│ 6         ┆ m/__mharr ┆ son just  ┆ 0+00:00   ┆   ┆           ┆           ┆           ┆          │\n",
       "│           ┆ ison_…    ┆ built…    ┆           ┆   ┆           ┆           ┆           ┆          │\n",
       "│ 147702472 ┆ https://t ┆ @tunguz   ┆ 2021-12-3 ┆ … ┆ null      ┆ null      ┆ null      ┆ null     │\n",
       "│ 205115801 ┆ witter.co ┆ Xgboost   ┆ 1 21:11:0 ┆   ┆           ┆           ┆           ┆          │\n",
       "│ 8         ┆ m/__mharr ┆           ┆ 0+00:00   ┆   ┆           ┆           ┆           ┆          │\n",
       "│           ┆ ison_…    ┆           ┆           ┆   ┆           ┆           ┆           ┆          │\n",
       "└───────────┴───────────┴───────────┴───────────┴───┴───────────┴───────────┴───────────┴──────────┘"
      ]
     },
     "execution_count": 5,
     "metadata": {},
     "output_type": "execute_result"
    }
   ],
   "source": [
    "df"
   ]
  },
  {
   "cell_type": "code",
   "execution_count": 6,
   "metadata": {},
   "outputs": [
    {
     "data": {
      "text/plain": [
       "['__add__',\n",
       " '__annotations__',\n",
       " '__array__',\n",
       " '__bool__',\n",
       " '__class__',\n",
       " '__contains__',\n",
       " '__copy__',\n",
       " '__dataframe__',\n",
       " '__dataframe_consortium_standard__',\n",
       " '__deepcopy__',\n",
       " '__delattr__',\n",
       " '__dict__',\n",
       " '__dir__',\n",
       " '__doc__',\n",
       " '__eq__',\n",
       " '__floordiv__',\n",
       " '__format__',\n",
       " '__ge__',\n",
       " '__getattribute__',\n",
       " '__getitem__',\n",
       " '__getstate__',\n",
       " '__gt__',\n",
       " '__hash__',\n",
       " '__init__',\n",
       " '__init_subclass__',\n",
       " '__iter__',\n",
       " '__le__',\n",
       " '__len__',\n",
       " '__lt__',\n",
       " '__mod__',\n",
       " '__module__',\n",
       " '__mul__',\n",
       " '__ne__',\n",
       " '__new__',\n",
       " '__radd__',\n",
       " '__reduce__',\n",
       " '__reduce_ex__',\n",
       " '__repr__',\n",
       " '__reversed__',\n",
       " '__rmul__',\n",
       " '__setattr__',\n",
       " '__setitem__',\n",
       " '__setstate__',\n",
       " '__sizeof__',\n",
       " '__str__',\n",
       " '__sub__',\n",
       " '__subclasshook__',\n",
       " '__truediv__',\n",
       " '__weakref__',\n",
       " '_accessors',\n",
       " '_cast_all_from_to',\n",
       " '_comp',\n",
       " '_compare_to_non_df',\n",
       " '_compare_to_other_df',\n",
       " '_df',\n",
       " '_div',\n",
       " '_from_arrow',\n",
       " '_from_dict',\n",
       " '_from_dicts',\n",
       " '_from_numpy',\n",
       " '_from_pandas',\n",
       " '_from_pydf',\n",
       " '_from_records',\n",
       " '_ipython_key_completions_',\n",
       " '_pos_idx',\n",
       " '_read_avro',\n",
       " '_read_csv',\n",
       " '_read_ipc',\n",
       " '_read_ipc_stream',\n",
       " '_read_json',\n",
       " '_read_ndjson',\n",
       " '_read_parquet',\n",
       " '_replace',\n",
       " '_repr_html_',\n",
       " '_take_with_series',\n",
       " 'apply',\n",
       " 'approx_n_unique',\n",
       " 'bottom_k',\n",
       " 'cast',\n",
       " 'clear',\n",
       " 'clone',\n",
       " 'columns',\n",
       " 'corr',\n",
       " 'count',\n",
       " 'describe',\n",
       " 'drop',\n",
       " 'drop_in_place',\n",
       " 'drop_nulls',\n",
       " 'dtypes',\n",
       " 'equals',\n",
       " 'estimated_size',\n",
       " 'explode',\n",
       " 'extend',\n",
       " 'fill_nan',\n",
       " 'fill_null',\n",
       " 'filter',\n",
       " 'find_idx_by_name',\n",
       " 'flags',\n",
       " 'fold',\n",
       " 'frame_equal',\n",
       " 'gather_every',\n",
       " 'get_column',\n",
       " 'get_column_index',\n",
       " 'get_columns',\n",
       " 'glimpse',\n",
       " 'group_by',\n",
       " 'group_by_dynamic',\n",
       " 'group_by_rolling',\n",
       " 'groupby',\n",
       " 'groupby_dynamic',\n",
       " 'groupby_rolling',\n",
       " 'hash_rows',\n",
       " 'head',\n",
       " 'height',\n",
       " 'hstack',\n",
       " 'insert_at_idx',\n",
       " 'insert_column',\n",
       " 'interpolate',\n",
       " 'is_duplicated',\n",
       " 'is_empty',\n",
       " 'is_unique',\n",
       " 'item',\n",
       " 'iter_columns',\n",
       " 'iter_rows',\n",
       " 'iter_slices',\n",
       " 'join',\n",
       " 'join_asof',\n",
       " 'lazy',\n",
       " 'limit',\n",
       " 'map_rows',\n",
       " 'max',\n",
       " 'max_horizontal',\n",
       " 'mean',\n",
       " 'mean_horizontal',\n",
       " 'median',\n",
       " 'melt',\n",
       " 'merge_sorted',\n",
       " 'min',\n",
       " 'min_horizontal',\n",
       " 'n_chunks',\n",
       " 'n_unique',\n",
       " 'null_count',\n",
       " 'partition_by',\n",
       " 'pipe',\n",
       " 'pivot',\n",
       " 'plot',\n",
       " 'product',\n",
       " 'quantile',\n",
       " 'rechunk',\n",
       " 'rename',\n",
       " 'replace',\n",
       " 'replace_at_idx',\n",
       " 'replace_column',\n",
       " 'reverse',\n",
       " 'rolling',\n",
       " 'row',\n",
       " 'rows',\n",
       " 'rows_by_key',\n",
       " 'sample',\n",
       " 'schema',\n",
       " 'select',\n",
       " 'select_seq',\n",
       " 'set_sorted',\n",
       " 'shape',\n",
       " 'shift',\n",
       " 'shift_and_fill',\n",
       " 'shrink_to_fit',\n",
       " 'slice',\n",
       " 'sort',\n",
       " 'std',\n",
       " 'sum',\n",
       " 'sum_horizontal',\n",
       " 'tail',\n",
       " 'take_every',\n",
       " 'to_arrow',\n",
       " 'to_dict',\n",
       " 'to_dicts',\n",
       " 'to_dummies',\n",
       " 'to_init_repr',\n",
       " 'to_numpy',\n",
       " 'to_pandas',\n",
       " 'to_series',\n",
       " 'to_struct',\n",
       " 'top_k',\n",
       " 'transpose',\n",
       " 'unique',\n",
       " 'unnest',\n",
       " 'unstack',\n",
       " 'update',\n",
       " 'upsample',\n",
       " 'var',\n",
       " 'vstack',\n",
       " 'width',\n",
       " 'with_columns',\n",
       " 'with_columns_seq',\n",
       " 'with_row_count',\n",
       " 'with_row_index',\n",
       " 'write_avro',\n",
       " 'write_csv',\n",
       " 'write_database',\n",
       " 'write_delta',\n",
       " 'write_excel',\n",
       " 'write_ipc',\n",
       " 'write_ipc_stream',\n",
       " 'write_json',\n",
       " 'write_ndjson',\n",
       " 'write_parquet']"
      ]
     },
     "execution_count": 6,
     "metadata": {},
     "output_type": "execute_result"
    }
   ],
   "source": [
    "dir(df)"
   ]
  },
  {
   "cell_type": "code",
   "execution_count": 7,
   "metadata": {},
   "outputs": [
    {
     "data": {
      "text/plain": [
       "['Tweet id',\n",
       " 'Tweet permalink',\n",
       " 'Tweet text',\n",
       " 'time',\n",
       " 'impressions',\n",
       " 'engagements',\n",
       " 'engagement rate',\n",
       " 'retweets',\n",
       " 'replies',\n",
       " 'likes',\n",
       " 'user profile clicks',\n",
       " 'url clicks',\n",
       " 'hashtag clicks',\n",
       " 'detail expands',\n",
       " 'permalink clicks',\n",
       " 'app opens',\n",
       " 'app installs',\n",
       " 'follows',\n",
       " 'email tweet',\n",
       " 'dial phone',\n",
       " 'media views',\n",
       " 'media engagements',\n",
       " 'promoted impressions',\n",
       " 'promoted engagements',\n",
       " 'promoted engagement rate',\n",
       " 'promoted retweets',\n",
       " 'promoted replies',\n",
       " 'promoted likes',\n",
       " 'promoted user profile clicks',\n",
       " 'promoted url clicks',\n",
       " 'promoted hashtag clicks',\n",
       " 'promoted detail expands',\n",
       " 'promoted permalink clicks',\n",
       " 'promoted app opens',\n",
       " 'promoted app installs',\n",
       " 'promoted follows',\n",
       " 'promoted email tweet',\n",
       " 'promoted dial phone',\n",
       " 'promoted media views',\n",
       " 'promoted media engagements']"
      ]
     },
     "execution_count": 7,
     "metadata": {},
     "output_type": "execute_result"
    }
   ],
   "source": [
    "df.columns"
   ]
  },
  {
   "cell_type": "code",
   "execution_count": 8,
   "metadata": {},
   "outputs": [
    {
     "data": {
      "text/html": [
       "<div><style>\n",
       ".dataframe > thead > tr,\n",
       ".dataframe > tbody > tr {\n",
       "  text-align: right;\n",
       "  white-space: pre-wrap;\n",
       "}\n",
       "</style>\n",
       "<small>shape: (40, 20)</small><table border=\"1\" class=\"dataframe\"><thead><tr><th>column_0</th><th>column_1</th><th>column_2</th><th>column_3</th><th>column_4</th><th>column_5</th><th>column_6</th><th>column_7</th><th>column_8</th><th>column_9</th><th>column_10</th><th>column_11</th><th>column_12</th><th>column_13</th><th>column_14</th><th>column_15</th><th>column_16</th><th>column_17</th><th>column_18</th><th>column_19</th></tr><tr><td>str</td><td>str</td><td>str</td><td>str</td><td>str</td><td>str</td><td>str</td><td>str</td><td>str</td><td>str</td><td>str</td><td>str</td><td>str</td><td>str</td><td>str</td><td>str</td><td>str</td><td>str</td><td>str</td><td>str</td></tr></thead><tbody><tr><td>&quot;12944289919782…</td><td>&quot;14459264323250…</td><td>&quot;14589410234935…</td><td>&quot;13095105666129…</td><td>&quot;14534539116882…</td><td>&quot;13360402417029…</td><td>&quot;12839521261760…</td><td>&quot;14698849156257…</td><td>&quot;13445191756669…</td><td>&quot;13137233638192…</td><td>&quot;13727213297916…</td><td>&quot;12936717955354…</td><td>&quot;14347384533384…</td><td>&quot;12926548630341…</td><td>&quot;14537275909973…</td><td>&quot;13288598614136…</td><td>&quot;12486308184292…</td><td>&quot;13487480068210…</td><td>&quot;14005172841630…</td><td>&quot;13143236209408…</td></tr><tr><td>&quot;https://twitte…</td><td>&quot;https://twitte…</td><td>&quot;https://twitte…</td><td>&quot;https://twitte…</td><td>&quot;https://twitte…</td><td>&quot;https://twitte…</td><td>&quot;https://twitte…</td><td>&quot;https://twitte…</td><td>&quot;https://twitte…</td><td>&quot;https://twitte…</td><td>&quot;https://twitte…</td><td>&quot;https://twitte…</td><td>&quot;https://twitte…</td><td>&quot;https://twitte…</td><td>&quot;https://twitte…</td><td>&quot;https://twitte…</td><td>&quot;https://twitte…</td><td>&quot;https://twitte…</td><td>&quot;https://twitte…</td><td>&quot;https://twitte…</td></tr><tr><td>&quot;@chrisalbon Ho…</td><td>&quot;@ampyourgrowth…</td><td>&quot;Today&#x27;s image.…</td><td>&quot;@mjasay @craig…</td><td>&quot;@Ryanstechpath…</td><td>&quot;AOC Day 7 Part…</td><td>&quot;@ClementYChow …</td><td>&quot;@seanjtaylor I…</td><td>&quot;@louisnicholls…</td><td>&quot;@tahsin_mayees…</td><td>&quot;@gilbertglee W…</td><td>&quot;Spent the day …</td><td>&quot;@ahidalgosre J…</td><td>&quot;@chrisalbon Yo…</td><td>&quot;@dvassallo Whe…</td><td>&quot;@jgilleard The…</td><td>&quot;@dataandme @jo…</td><td>&quot;@WeightReed I …</td><td>&quot;@davefarley77 …</td><td>&quot;WFH tweeps... …</td></tr><tr><td>&quot;2020-08-15 00:…</td><td>&quot;2021-10-07 01:…</td><td>&quot;2021-11-11 23:…</td><td>&quot;2020-09-25 15:…</td><td>&quot;2021-10-27 20:…</td><td>&quot;2020-12-07 20:…</td><td>&quot;2020-07-17 02:…</td><td>&quot;2021-12-12 04:…</td><td>&quot;2020-12-31 05:…</td><td>&quot;2020-10-07 06:…</td><td>&quot;2021-03-19 01:…</td><td>&quot;2020-08-12 22:…</td><td>&quot;2021-09-06 04:…</td><td>&quot;2020-08-10 02:…</td><td>&quot;2021-10-28 14:…</td><td>&quot;2020-11-18 00:…</td><td>&quot;2020-04-10 15:…</td><td>&quot;2021-01-11 21:…</td><td>&quot;2021-06-03 18:…</td><td>&quot;2020-10-08 21:…</td></tr><tr><td>&quot;219.0&quot;</td><td>&quot;86.0&quot;</td><td>&quot;11717.0&quot;</td><td>&quot;56.0&quot;</td><td>&quot;728.0&quot;</td><td>&quot;1366.0&quot;</td><td>&quot;435.0&quot;</td><td>&quot;2355.0&quot;</td><td>&quot;326.0&quot;</td><td>&quot;192.0&quot;</td><td>&quot;54.0&quot;</td><td>&quot;9678.0&quot;</td><td>&quot;4279.0&quot;</td><td>&quot;3696.0&quot;</td><td>&quot;990.0&quot;</td><td>&quot;1570.0&quot;</td><td>&quot;790.0&quot;</td><td>&quot;231.0&quot;</td><td>&quot;1730.0&quot;</td><td>&quot;2744.0&quot;</td></tr><tr><td>&quot;0.0&quot;</td><td>&quot;3.0&quot;</td><td>&quot;1012.0&quot;</td><td>&quot;8.0&quot;</td><td>&quot;4.0&quot;</td><td>&quot;68.0&quot;</td><td>&quot;8.0&quot;</td><td>&quot;24.0&quot;</td><td>&quot;6.0&quot;</td><td>&quot;20.0&quot;</td><td>&quot;1.0&quot;</td><td>&quot;2243.0&quot;</td><td>&quot;15.0&quot;</td><td>&quot;32.0&quot;</td><td>&quot;3.0&quot;</td><td>&quot;4.0&quot;</td><td>&quot;5.0&quot;</td><td>&quot;2.0&quot;</td><td>&quot;18.0&quot;</td><td>&quot;143.0&quot;</td></tr><tr><td>&quot;0.0&quot;</td><td>&quot;0.034883720930…</td><td>&quot;0.086370231287…</td><td>&quot;0.142857142857…</td><td>&quot;0.005494505494…</td><td>&quot;0.049780380673…</td><td>&quot;0.018390804597…</td><td>&quot;0.010191082802…</td><td>&quot;0.018404907975…</td><td>&quot;0.104166666666…</td><td>&quot;0.018518518518…</td><td>&quot;0.231762760901…</td><td>&quot;0.003505491937…</td><td>&quot;0.008658008658…</td><td>&quot;0.003030303030…</td><td>&quot;0.002547770700…</td><td>&quot;0.006329113924…</td><td>&quot;0.008658008658…</td><td>&quot;0.010404624277…</td><td>&quot;0.052113702623…</td></tr><tr><td>&quot;0.0&quot;</td><td>&quot;0.0&quot;</td><td>&quot;2.0&quot;</td><td>&quot;0.0&quot;</td><td>&quot;0.0&quot;</td><td>&quot;0.0&quot;</td><td>&quot;0.0&quot;</td><td>&quot;0.0&quot;</td><td>&quot;0.0&quot;</td><td>&quot;0.0&quot;</td><td>&quot;0.0&quot;</td><td>&quot;6.0&quot;</td><td>&quot;0.0&quot;</td><td>&quot;0.0&quot;</td><td>&quot;0.0&quot;</td><td>&quot;0.0&quot;</td><td>&quot;0.0&quot;</td><td>&quot;0.0&quot;</td><td>&quot;0.0&quot;</td><td>&quot;0.0&quot;</td></tr><tr><td>&quot;0.0&quot;</td><td>&quot;1.0&quot;</td><td>&quot;6.0&quot;</td><td>&quot;1.0&quot;</td><td>&quot;0.0&quot;</td><td>&quot;0.0&quot;</td><td>&quot;0.0&quot;</td><td>&quot;0.0&quot;</td><td>&quot;2.0&quot;</td><td>&quot;5.0&quot;</td><td>&quot;1.0&quot;</td><td>&quot;11.0&quot;</td><td>&quot;2.0&quot;</td><td>&quot;0.0&quot;</td><td>&quot;1.0&quot;</td><td>&quot;0.0&quot;</td><td>&quot;1.0&quot;</td><td>&quot;1.0&quot;</td><td>&quot;0.0&quot;</td><td>&quot;8.0&quot;</td></tr><tr><td>&quot;0.0&quot;</td><td>&quot;1.0&quot;</td><td>&quot;56.0&quot;</td><td>&quot;0.0&quot;</td><td>&quot;3.0&quot;</td><td>&quot;5.0&quot;</td><td>&quot;2.0&quot;</td><td>&quot;4.0&quot;</td><td>&quot;1.0&quot;</td><td>&quot;1.0&quot;</td><td>&quot;0.0&quot;</td><td>&quot;101.0&quot;</td><td>&quot;1.0&quot;</td><td>&quot;3.0&quot;</td><td>&quot;0.0&quot;</td><td>&quot;0.0&quot;</td><td>&quot;1.0&quot;</td><td>&quot;1.0&quot;</td><td>&quot;12.0&quot;</td><td>&quot;4.0&quot;</td></tr><tr><td>&quot;0.0&quot;</td><td>&quot;1.0&quot;</td><td>&quot;30.0&quot;</td><td>&quot;0.0&quot;</td><td>&quot;0.0&quot;</td><td>&quot;11.0&quot;</td><td>&quot;4.0&quot;</td><td>&quot;16.0&quot;</td><td>&quot;0.0&quot;</td><td>&quot;2.0&quot;</td><td>&quot;0.0&quot;</td><td>&quot;130.0&quot;</td><td>&quot;9.0&quot;</td><td>&quot;11.0&quot;</td><td>&quot;1.0&quot;</td><td>&quot;0.0&quot;</td><td>&quot;1.0&quot;</td><td>&quot;0.0&quot;</td><td>&quot;2.0&quot;</td><td>&quot;8.0&quot;</td></tr><tr><td>&quot;0.0&quot;</td><td>&quot;0.0&quot;</td><td>&quot;12.0&quot;</td><td>&quot;0.0&quot;</td><td>&quot;0.0&quot;</td><td>&quot;31.0&quot;</td><td>&quot;0.0&quot;</td><td>&quot;0.0&quot;</td><td>&quot;0.0&quot;</td><td>&quot;0.0&quot;</td><td>&quot;0.0&quot;</td><td>&quot;8.0&quot;</td><td>&quot;0.0&quot;</td><td>&quot;0.0&quot;</td><td>&quot;0.0&quot;</td><td>&quot;0.0&quot;</td><td>&quot;0.0&quot;</td><td>&quot;0.0&quot;</td><td>&quot;0.0&quot;</td><td>&quot;0.0&quot;</td></tr><tr><td>&hellip;</td><td>&hellip;</td><td>&hellip;</td><td>&hellip;</td><td>&hellip;</td><td>&hellip;</td><td>&hellip;</td><td>&hellip;</td><td>&hellip;</td><td>&hellip;</td><td>&hellip;</td><td>&hellip;</td><td>&hellip;</td><td>&hellip;</td><td>&hellip;</td><td>&hellip;</td><td>&hellip;</td><td>&hellip;</td><td>&hellip;</td><td>&hellip;</td></tr><tr><td>null</td><td>null</td><td>null</td><td>null</td><td>null</td><td>null</td><td>null</td><td>null</td><td>null</td><td>null</td><td>null</td><td>null</td><td>null</td><td>null</td><td>null</td><td>null</td><td>null</td><td>null</td><td>null</td><td>null</td></tr><tr><td>null</td><td>null</td><td>null</td><td>null</td><td>null</td><td>null</td><td>null</td><td>null</td><td>null</td><td>null</td><td>null</td><td>null</td><td>null</td><td>null</td><td>null</td><td>null</td><td>null</td><td>null</td><td>null</td><td>null</td></tr><tr><td>null</td><td>null</td><td>null</td><td>null</td><td>null</td><td>null</td><td>null</td><td>null</td><td>null</td><td>null</td><td>null</td><td>null</td><td>null</td><td>null</td><td>null</td><td>null</td><td>null</td><td>null</td><td>null</td><td>null</td></tr><tr><td>null</td><td>null</td><td>null</td><td>null</td><td>null</td><td>null</td><td>null</td><td>null</td><td>null</td><td>null</td><td>null</td><td>null</td><td>null</td><td>null</td><td>null</td><td>null</td><td>null</td><td>null</td><td>null</td><td>null</td></tr><tr><td>null</td><td>null</td><td>null</td><td>null</td><td>null</td><td>null</td><td>null</td><td>null</td><td>null</td><td>null</td><td>null</td><td>null</td><td>null</td><td>null</td><td>null</td><td>null</td><td>null</td><td>null</td><td>null</td><td>null</td></tr><tr><td>null</td><td>null</td><td>null</td><td>null</td><td>null</td><td>null</td><td>null</td><td>null</td><td>null</td><td>null</td><td>null</td><td>null</td><td>null</td><td>null</td><td>null</td><td>null</td><td>null</td><td>null</td><td>null</td><td>null</td></tr><tr><td>null</td><td>null</td><td>null</td><td>null</td><td>null</td><td>null</td><td>null</td><td>null</td><td>null</td><td>null</td><td>null</td><td>null</td><td>null</td><td>null</td><td>null</td><td>null</td><td>null</td><td>null</td><td>null</td><td>null</td></tr><tr><td>null</td><td>null</td><td>null</td><td>null</td><td>null</td><td>null</td><td>null</td><td>null</td><td>null</td><td>null</td><td>null</td><td>null</td><td>null</td><td>null</td><td>null</td><td>null</td><td>null</td><td>null</td><td>null</td><td>null</td></tr><tr><td>null</td><td>null</td><td>null</td><td>null</td><td>null</td><td>null</td><td>null</td><td>null</td><td>null</td><td>null</td><td>null</td><td>null</td><td>null</td><td>null</td><td>null</td><td>null</td><td>null</td><td>null</td><td>null</td><td>null</td></tr><tr><td>null</td><td>null</td><td>null</td><td>null</td><td>null</td><td>null</td><td>null</td><td>null</td><td>null</td><td>null</td><td>null</td><td>null</td><td>null</td><td>null</td><td>null</td><td>null</td><td>null</td><td>null</td><td>null</td><td>null</td></tr><tr><td>null</td><td>null</td><td>null</td><td>null</td><td>null</td><td>null</td><td>null</td><td>null</td><td>null</td><td>null</td><td>null</td><td>null</td><td>null</td><td>null</td><td>null</td><td>null</td><td>null</td><td>null</td><td>null</td><td>null</td></tr><tr><td>null</td><td>null</td><td>null</td><td>null</td><td>null</td><td>null</td><td>null</td><td>null</td><td>null</td><td>null</td><td>null</td><td>null</td><td>null</td><td>null</td><td>null</td><td>null</td><td>null</td><td>null</td><td>null</td><td>null</td></tr></tbody></table></div>"
      ],
      "text/plain": [
       "shape: (40, 20)\n",
       "┌───────────┬───────────┬───────────┬───────────┬───┬───────────┬───────────┬───────────┬──────────┐\n",
       "│ column_0  ┆ column_1  ┆ column_2  ┆ column_3  ┆ … ┆ column_16 ┆ column_17 ┆ column_18 ┆ column_1 │\n",
       "│ ---       ┆ ---       ┆ ---       ┆ ---       ┆   ┆ ---       ┆ ---       ┆ ---       ┆ 9        │\n",
       "│ str       ┆ str       ┆ str       ┆ str       ┆   ┆ str       ┆ str       ┆ str       ┆ ---      │\n",
       "│           ┆           ┆           ┆           ┆   ┆           ┆           ┆           ┆ str      │\n",
       "╞═══════════╪═══════════╪═══════════╪═══════════╪═══╪═══════════╪═══════════╪═══════════╪══════════╡\n",
       "│ 129442899 ┆ 144592643 ┆ 145894102 ┆ 130951056 ┆ … ┆ 124863081 ┆ 134874800 ┆ 140051728 ┆ 13143236 │\n",
       "│ 197825843 ┆ 232507904 ┆ 349358287 ┆ 661293465 ┆   ┆ 842925568 ┆ 682104012 ┆ 416305561 ┆ 20940840 │\n",
       "│ 2         ┆ 1         ┆ 6         ┆ 8         ┆   ┆ 0         ┆ 8         ┆ 6         ┆ 960      │\n",
       "│ https://t ┆ https://t ┆ https://t ┆ https://t ┆ … ┆ https://t ┆ https://t ┆ https://t ┆ https:// │\n",
       "│ witter.co ┆ witter.co ┆ witter.co ┆ witter.co ┆   ┆ witter.co ┆ witter.co ┆ witter.co ┆ twitter. │\n",
       "│ m/__mharr ┆ m/__mharr ┆ m/__mharr ┆ m/__mharr ┆   ┆ m/__mharr ┆ m/__mharr ┆ m/__mharr ┆ com/__mh │\n",
       "│ ison_…    ┆ ison_…    ┆ ison_…    ┆ ison_…    ┆   ┆ ison_…    ┆ ison_…    ┆ ison_…    ┆ arrison_ │\n",
       "│           ┆           ┆           ┆           ┆   ┆           ┆           ┆           ┆ …        │\n",
       "│ @chrisalb ┆ @ampyourg ┆ Today's   ┆ @mjasay   ┆ … ┆ @dataandm ┆ @WeightRe ┆ @davefarl ┆ WFH twee │\n",
       "│ on How    ┆ rowth @Sa ┆ image...  ┆ @craigker ┆   ┆ e @jorane ┆ ed I like ┆ ey77      ┆ ps...    │\n",
       "│ does one  ┆ hilBloom  ┆ https://t ┆ stiens    ┆   ┆ lias @uns ┆ the const ┆ Exercise, ┆ what are │\n",
       "│ do that…  ┆ @gaby…    ┆ .co/ZZ…   ┆ @BobLaur… ┆   ┆ orsod…    ┆ rain…     ┆ shower, … ┆ your     │\n",
       "│           ┆           ┆           ┆           ┆   ┆           ┆           ┆           ┆ favo…    │\n",
       "│ 2020-08-1 ┆ 2021-10-0 ┆ 2021-11-1 ┆ 2020-09-2 ┆ … ┆ 2020-04-1 ┆ 2021-01-1 ┆ 2021-06-0 ┆ 2020-10- │\n",
       "│ 5 00:21:0 ┆ 7 01:38:0 ┆ 1 23:33:0 ┆ 5 15:10:0 ┆   ┆ 0 15:16:0 ┆ 1 21:45:0 ┆ 3 18:18:0 ┆ 08 21:55 │\n",
       "│ 0+00:00   ┆ 0+00:00   ┆ 0+00:00   ┆ 0+00:00   ┆   ┆ 0+00:00   ┆ 0+00:00   ┆ 0+00:00   ┆ :00+00:0 │\n",
       "│           ┆           ┆           ┆           ┆   ┆           ┆           ┆           ┆ 0        │\n",
       "│ …         ┆ …         ┆ …         ┆ …         ┆ … ┆ …         ┆ …         ┆ …         ┆ …        │\n",
       "│ null      ┆ null      ┆ null      ┆ null      ┆ … ┆ null      ┆ null      ┆ null      ┆ null     │\n",
       "│ null      ┆ null      ┆ null      ┆ null      ┆ … ┆ null      ┆ null      ┆ null      ┆ null     │\n",
       "│ null      ┆ null      ┆ null      ┆ null      ┆ … ┆ null      ┆ null      ┆ null      ┆ null     │\n",
       "│ null      ┆ null      ┆ null      ┆ null      ┆ … ┆ null      ┆ null      ┆ null      ┆ null     │\n",
       "└───────────┴───────────┴───────────┴───────────┴───┴───────────┴───────────┴───────────┴──────────┘"
      ]
     },
     "execution_count": 8,
     "metadata": {},
     "output_type": "execute_result"
    }
   ],
   "source": [
    "df.sample(20).transpose()"
   ]
  },
  {
   "cell_type": "code",
   "execution_count": 9,
   "metadata": {},
   "outputs": [
    {
     "data": {
      "text/plain": [
       "(5791, 40)"
      ]
     },
     "execution_count": 9,
     "metadata": {},
     "output_type": "execute_result"
    }
   ],
   "source": [
    "df.shape"
   ]
  },
  {
   "cell_type": "code",
   "execution_count": 10,
   "metadata": {},
   "outputs": [
    {
     "data": {
      "text/plain": [
       "[Int64,\n",
       " String,\n",
       " String,\n",
       " String,\n",
       " Float64,\n",
       " Float64,\n",
       " Float64,\n",
       " Float64,\n",
       " Float64,\n",
       " Float64,\n",
       " Float64,\n",
       " Float64,\n",
       " Float64,\n",
       " Float64,\n",
       " Float64,\n",
       " Int64,\n",
       " Int64,\n",
       " Int64,\n",
       " Int64,\n",
       " Int64,\n",
       " Int64,\n",
       " Int64,\n",
       " String,\n",
       " String,\n",
       " String,\n",
       " String,\n",
       " String,\n",
       " String,\n",
       " String,\n",
       " String,\n",
       " String,\n",
       " String,\n",
       " String,\n",
       " String,\n",
       " String,\n",
       " String,\n",
       " String,\n",
       " String,\n",
       " String,\n",
       " String]"
      ]
     },
     "execution_count": 10,
     "metadata": {},
     "output_type": "execute_result"
    }
   ],
   "source": [
    "df.dtypes"
   ]
  },
  {
   "cell_type": "code",
   "execution_count": null,
   "metadata": {},
   "outputs": [],
   "source": []
  },
  {
   "cell_type": "code",
   "execution_count": 11,
   "metadata": {},
   "outputs": [
    {
     "data": {
      "text/plain": [
       "2914731"
      ]
     },
     "execution_count": 11,
     "metadata": {},
     "output_type": "execute_result"
    }
   ],
   "source": [
    "df.estimated_size()"
   ]
  },
  {
   "cell_type": "code",
   "execution_count": 12,
   "metadata": {},
   "outputs": [
    {
     "data": {
      "text/html": [
       "<div><style>\n",
       ".dataframe > thead > tr,\n",
       ".dataframe > tbody > tr {\n",
       "  text-align: right;\n",
       "  white-space: pre-wrap;\n",
       "}\n",
       "</style>\n",
       "<small>shape: (9, 41)</small><table border=\"1\" class=\"dataframe\"><thead><tr><th>describe</th><th>Tweet id</th><th>Tweet permalink</th><th>Tweet text</th><th>time</th><th>impressions</th><th>engagements</th><th>engagement rate</th><th>retweets</th><th>replies</th><th>likes</th><th>user profile clicks</th><th>url clicks</th><th>hashtag clicks</th><th>detail expands</th><th>permalink clicks</th><th>app opens</th><th>app installs</th><th>follows</th><th>email tweet</th><th>dial phone</th><th>media views</th><th>media engagements</th><th>promoted impressions</th><th>promoted engagements</th><th>promoted engagement rate</th><th>promoted retweets</th><th>promoted replies</th><th>promoted likes</th><th>promoted user profile clicks</th><th>promoted url clicks</th><th>promoted hashtag clicks</th><th>promoted detail expands</th><th>promoted permalink clicks</th><th>promoted app opens</th><th>promoted app installs</th><th>promoted follows</th><th>promoted email tweet</th><th>promoted dial phone</th><th>promoted media views</th><th>promoted media engagements</th></tr><tr><td>str</td><td>f64</td><td>str</td><td>str</td><td>str</td><td>f64</td><td>f64</td><td>f64</td><td>f64</td><td>f64</td><td>f64</td><td>f64</td><td>f64</td><td>f64</td><td>f64</td><td>f64</td><td>f64</td><td>f64</td><td>f64</td><td>f64</td><td>f64</td><td>f64</td><td>f64</td><td>str</td><td>str</td><td>str</td><td>str</td><td>str</td><td>str</td><td>str</td><td>str</td><td>str</td><td>str</td><td>str</td><td>str</td><td>str</td><td>str</td><td>str</td><td>str</td><td>str</td><td>str</td></tr></thead><tbody><tr><td>&quot;count&quot;</td><td>5791.0</td><td>&quot;5791&quot;</td><td>&quot;5791&quot;</td><td>&quot;5791&quot;</td><td>5791.0</td><td>5791.0</td><td>5791.0</td><td>5791.0</td><td>5791.0</td><td>5791.0</td><td>5791.0</td><td>5791.0</td><td>5791.0</td><td>5791.0</td><td>5791.0</td><td>5791.0</td><td>5791.0</td><td>5791.0</td><td>5791.0</td><td>5791.0</td><td>5791.0</td><td>5791.0</td><td>&quot;0&quot;</td><td>&quot;0&quot;</td><td>&quot;0&quot;</td><td>&quot;0&quot;</td><td>&quot;0&quot;</td><td>&quot;0&quot;</td><td>&quot;0&quot;</td><td>&quot;0&quot;</td><td>&quot;0&quot;</td><td>&quot;0&quot;</td><td>&quot;0&quot;</td><td>&quot;0&quot;</td><td>&quot;0&quot;</td><td>&quot;0&quot;</td><td>&quot;0&quot;</td><td>&quot;0&quot;</td><td>&quot;0&quot;</td><td>&quot;0&quot;</td></tr><tr><td>&quot;null_count&quot;</td><td>0.0</td><td>&quot;0&quot;</td><td>&quot;0&quot;</td><td>&quot;0&quot;</td><td>0.0</td><td>0.0</td><td>0.0</td><td>0.0</td><td>0.0</td><td>0.0</td><td>0.0</td><td>0.0</td><td>0.0</td><td>0.0</td><td>0.0</td><td>0.0</td><td>0.0</td><td>0.0</td><td>0.0</td><td>0.0</td><td>0.0</td><td>0.0</td><td>&quot;5791&quot;</td><td>&quot;5791&quot;</td><td>&quot;5791&quot;</td><td>&quot;5791&quot;</td><td>&quot;5791&quot;</td><td>&quot;5791&quot;</td><td>&quot;5791&quot;</td><td>&quot;5791&quot;</td><td>&quot;5791&quot;</td><td>&quot;5791&quot;</td><td>&quot;5791&quot;</td><td>&quot;5791&quot;</td><td>&quot;5791&quot;</td><td>&quot;5791&quot;</td><td>&quot;5791&quot;</td><td>&quot;5791&quot;</td><td>&quot;5791&quot;</td><td>&quot;5791&quot;</td></tr><tr><td>&quot;mean&quot;</td><td>1.3604e18</td><td>null</td><td>null</td><td>null</td><td>2297.820411</td><td>111.400967</td><td>0.034748</td><td>0.979796</td><td>1.124504</td><td>9.400622</td><td>20.594543</td><td>4.502331</td><td>0.019686</td><td>34.658436</td><td>0.0</td><td>0.001036</td><td>0.0</td><td>0.135901</td><td>0.0</td><td>0.0</td><td>39.868935</td><td>39.712485</td><td>null</td><td>null</td><td>null</td><td>null</td><td>null</td><td>null</td><td>null</td><td>null</td><td>null</td><td>null</td><td>null</td><td>null</td><td>null</td><td>null</td><td>null</td><td>null</td><td>null</td><td>null</td></tr><tr><td>&quot;std&quot;</td><td>6.8508e16</td><td>null</td><td>null</td><td>null</td><td>16414.560844</td><td>976.353689</td><td>0.050031</td><td>10.903919</td><td>6.322059</td><td>108.117865</td><td>436.521415</td><td>32.377223</td><td>0.302481</td><td>355.671163</td><td>0.0</td><td>0.045513</td><td>0.0</td><td>3.870531</td><td>0.0</td><td>0.0</td><td>333.838003</td><td>333.753866</td><td>null</td><td>null</td><td>null</td><td>null</td><td>null</td><td>null</td><td>null</td><td>null</td><td>null</td><td>null</td><td>null</td><td>null</td><td>null</td><td>null</td><td>null</td><td>null</td><td>null</td><td>null</td></tr><tr><td>&quot;min&quot;</td><td>1.2126e18</td><td>&quot;https://twitte…</td><td>&quot;&quot;i&quot; has a spec…</td><td>&quot;2020-01-02 03:…</td><td>7.0</td><td>0.0</td><td>0.0</td><td>0.0</td><td>0.0</td><td>0.0</td><td>0.0</td><td>0.0</td><td>0.0</td><td>0.0</td><td>0.0</td><td>0.0</td><td>0.0</td><td>0.0</td><td>0.0</td><td>0.0</td><td>0.0</td><td>0.0</td><td>null</td><td>null</td><td>null</td><td>null</td><td>null</td><td>null</td><td>null</td><td>null</td><td>null</td><td>null</td><td>null</td><td>null</td><td>null</td><td>null</td><td>null</td><td>null</td><td>null</td><td>null</td></tr><tr><td>&quot;25%&quot;</td><td>1.3142e18</td><td>null</td><td>null</td><td>null</td><td>175.0</td><td>3.0</td><td>0.007064</td><td>0.0</td><td>0.0</td><td>0.0</td><td>0.0</td><td>0.0</td><td>0.0</td><td>1.0</td><td>0.0</td><td>0.0</td><td>0.0</td><td>0.0</td><td>0.0</td><td>0.0</td><td>0.0</td><td>0.0</td><td>null</td><td>null</td><td>null</td><td>null</td><td>null</td><td>null</td><td>null</td><td>null</td><td>null</td><td>null</td><td>null</td><td>null</td><td>null</td><td>null</td><td>null</td><td>null</td><td>null</td><td>null</td></tr><tr><td>&quot;50%&quot;</td><td>1.3589e18</td><td>null</td><td>null</td><td>null</td><td>612.0</td><td>7.0</td><td>0.016043</td><td>0.0</td><td>0.0</td><td>1.0</td><td>1.0</td><td>0.0</td><td>0.0</td><td>3.0</td><td>0.0</td><td>0.0</td><td>0.0</td><td>0.0</td><td>0.0</td><td>0.0</td><td>0.0</td><td>0.0</td><td>null</td><td>null</td><td>null</td><td>null</td><td>null</td><td>null</td><td>null</td><td>null</td><td>null</td><td>null</td><td>null</td><td>null</td><td>null</td><td>null</td><td>null</td><td>null</td><td>null</td><td>null</td></tr><tr><td>&quot;75%&quot;</td><td>1.4155e18</td><td>null</td><td>null</td><td>null</td><td>1617.0</td><td>25.0</td><td>0.040902</td><td>0.0</td><td>1.0</td><td>4.0</td><td>4.0</td><td>0.0</td><td>0.0</td><td>8.0</td><td>0.0</td><td>0.0</td><td>0.0</td><td>0.0</td><td>0.0</td><td>0.0</td><td>0.0</td><td>0.0</td><td>null</td><td>null</td><td>null</td><td>null</td><td>null</td><td>null</td><td>null</td><td>null</td><td>null</td><td>null</td><td>null</td><td>null</td><td>null</td><td>null</td><td>null</td><td>null</td><td>null</td><td>null</td></tr><tr><td>&quot;max&quot;</td><td>1.4770e18</td><td>&quot;https://twitte…</td><td>&quot;🤯🙏 https://t.c…</td><td>&quot;2021-12-31 21:…</td><td>856749.0</td><td>45660.0</td><td>0.484127</td><td>465.0</td><td>207.0</td><td>5358.0</td><td>22393.0</td><td>1272.0</td><td>12.0</td><td>17078.0</td><td>0.0</td><td>3.0</td><td>0.0</td><td>191.0</td><td>0.0</td><td>0.0</td><td>16816.0</td><td>16816.0</td><td>null</td><td>null</td><td>null</td><td>null</td><td>null</td><td>null</td><td>null</td><td>null</td><td>null</td><td>null</td><td>null</td><td>null</td><td>null</td><td>null</td><td>null</td><td>null</td><td>null</td><td>null</td></tr></tbody></table></div>"
      ],
      "text/plain": [
       "shape: (9, 41)\n",
       "┌───────────┬───────────┬───────────┬───────────┬───┬───────────┬───────────┬───────────┬──────────┐\n",
       "│ describe  ┆ Tweet id  ┆ Tweet     ┆ Tweet     ┆ … ┆ promoted  ┆ promoted  ┆ promoted  ┆ promoted │\n",
       "│ ---       ┆ ---       ┆ permalink ┆ text      ┆   ┆ email     ┆ dial      ┆ media     ┆ media    │\n",
       "│ str       ┆ f64       ┆ ---       ┆ ---       ┆   ┆ tweet     ┆ phone     ┆ views     ┆ engageme │\n",
       "│           ┆           ┆ str       ┆ str       ┆   ┆ ---       ┆ ---       ┆ ---       ┆ nts      │\n",
       "│           ┆           ┆           ┆           ┆   ┆ str       ┆ str       ┆ str       ┆ ---      │\n",
       "│           ┆           ┆           ┆           ┆   ┆           ┆           ┆           ┆ str      │\n",
       "╞═══════════╪═══════════╪═══════════╪═══════════╪═══╪═══════════╪═══════════╪═══════════╪══════════╡\n",
       "│ count     ┆ 5791.0    ┆ 5791      ┆ 5791      ┆ … ┆ 0         ┆ 0         ┆ 0         ┆ 0        │\n",
       "│ null_coun ┆ 0.0       ┆ 0         ┆ 0         ┆ … ┆ 5791      ┆ 5791      ┆ 5791      ┆ 5791     │\n",
       "│ t         ┆           ┆           ┆           ┆   ┆           ┆           ┆           ┆          │\n",
       "│ mean      ┆ 1.3604e18 ┆ null      ┆ null      ┆ … ┆ null      ┆ null      ┆ null      ┆ null     │\n",
       "│ std       ┆ 6.8508e16 ┆ null      ┆ null      ┆ … ┆ null      ┆ null      ┆ null      ┆ null     │\n",
       "│ min       ┆ 1.2126e18 ┆ https://t ┆ \"i\" has a ┆ … ┆ null      ┆ null      ┆ null      ┆ null     │\n",
       "│           ┆           ┆ witter.co ┆ specific  ┆   ┆           ┆           ┆           ┆          │\n",
       "│           ┆           ┆ m/__mharr ┆ connotati ┆   ┆           ┆           ┆           ┆          │\n",
       "│           ┆           ┆ ison_…    ┆ on i…     ┆   ┆           ┆           ┆           ┆          │\n",
       "│ 25%       ┆ 1.3142e18 ┆ null      ┆ null      ┆ … ┆ null      ┆ null      ┆ null      ┆ null     │\n",
       "│ 50%       ┆ 1.3589e18 ┆ null      ┆ null      ┆ … ┆ null      ┆ null      ┆ null      ┆ null     │\n",
       "│ 75%       ┆ 1.4155e18 ┆ null      ┆ null      ┆ … ┆ null      ┆ null      ┆ null      ┆ null     │\n",
       "│ max       ┆ 1.4770e18 ┆ https://t ┆ 🤯🙏 http ┆ … ┆ null      ┆ null      ┆ null      ┆ null     │\n",
       "│           ┆           ┆ witter.co ┆ s://t.co/ ┆   ┆           ┆           ┆           ┆          │\n",
       "│           ┆           ┆ m/__mharr ┆ AsLaS3Hrd ┆   ┆           ┆           ┆           ┆          │\n",
       "│           ┆           ┆ ison_…    ┆ v         ┆   ┆           ┆           ┆           ┆          │\n",
       "└───────────┴───────────┴───────────┴───────────┴───┴───────────┴───────────┴───────────┴──────────┘"
      ]
     },
     "execution_count": 12,
     "metadata": {},
     "output_type": "execute_result"
    }
   ],
   "source": [
    "df.describe()"
   ]
  },
  {
   "cell_type": "code",
   "execution_count": null,
   "metadata": {},
   "outputs": [],
   "source": []
  }
 ],
 "metadata": {
  "kernelspec": {
   "display_name": "Python 3",
   "language": "python",
   "name": "python3"
  },
  "language_info": {
   "codemirror_mode": {
    "name": "ipython",
    "version": 3
   },
   "file_extension": ".py",
   "mimetype": "text/x-python",
   "name": "python",
   "nbconvert_exporter": "python",
   "pygments_lexer": "ipython3",
   "version": "3.10.13"
  }
 },
 "nbformat": 4,
 "nbformat_minor": 2
}
