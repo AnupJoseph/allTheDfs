{
 "cells": [
  {
   "cell_type": "code",
   "execution_count": 1,
   "metadata": {},
   "outputs": [
    {
     "name": "stdout",
     "output_type": "stream",
     "text": [
      "--2024-02-04 12:32:18--  https://github.com/mattharrison/datasets/raw/master/data/__mharrison__2020-2021.csv\n",
      "Resolving github.com (github.com)... 20.207.73.82\n",
      "Connecting to github.com (github.com)|20.207.73.82|:443... connected.\n",
      "HTTP request sent, awaiting response... 302 Found\n",
      "Location: https://raw.githubusercontent.com/mattharrison/datasets/master/data/__mharrison__2020-2021.csv [following]\n",
      "--2024-02-04 12:32:18--  https://raw.githubusercontent.com/mattharrison/datasets/master/data/__mharrison__2020-2021.csv\n",
      "Resolving raw.githubusercontent.com (raw.githubusercontent.com)... 185.199.109.133, 185.199.110.133, 185.199.111.133, ...\n",
      "Connecting to raw.githubusercontent.com (raw.githubusercontent.com)|185.199.109.133|:443... connected.\n",
      "HTTP request sent, awaiting response... 200 OK\n",
      "Length: 1725101 (1.6M) [text/plain]\n",
      "Saving to: ‘../data/__mharrison__2020-2021.csv’\n",
      "\n",
      "__mharrison__2020-2 100%[===================>]   1.64M  5.53MB/s    in 0.3s    \n",
      "\n",
      "2024-02-04 12:32:19 (5.53 MB/s) - ‘../data/__mharrison__2020-2021.csv’ saved [1725101/1725101]\n",
      "\n"
     ]
    }
   ],
   "source": [
    "!wget -P \"../data/\"  https://github.com/mattharrison/datasets/raw/master/data/__mharrison__2020-2021.csv"
   ]
  },
  {
   "cell_type": "code",
   "execution_count": 2,
   "metadata": {},
   "outputs": [],
   "source": [
    "!mv ../data/__mharrison__2020-2021.csv ../data/mharrison__2020-2021.csv"
   ]
  },
  {
   "cell_type": "code",
   "execution_count": 1,
   "metadata": {},
   "outputs": [],
   "source": [
    "# Internal\n",
    "\n",
    "# External\n",
    "import polars as pl\n",
    "\n",
    "# Project\n",
    "\n",
    "# Project Specific Configuration"
   ]
  },
  {
   "cell_type": "code",
   "execution_count": 2,
   "metadata": {},
   "outputs": [],
   "source": [
    "df = pl.read_csv(\"../data/mharrison__2020-2021.csv\")\n"
   ]
  },
  {
   "cell_type": "code",
   "execution_count": 3,
   "metadata": {},
   "outputs": [
    {
     "data": {
      "text/html": [
       "<div><style>\n",
       ".dataframe > thead > tr,\n",
       ".dataframe > tbody > tr {\n",
       "  text-align: right;\n",
       "  white-space: pre-wrap;\n",
       "}\n",
       "</style>\n",
       "<small>shape: (5_791, 40)</small><table border=\"1\" class=\"dataframe\"><thead><tr><th>Tweet id</th><th>Tweet permalink</th><th>Tweet text</th><th>time</th><th>impressions</th><th>engagements</th><th>engagement rate</th><th>retweets</th><th>replies</th><th>likes</th><th>user profile clicks</th><th>url clicks</th><th>hashtag clicks</th><th>detail expands</th><th>permalink clicks</th><th>app opens</th><th>app installs</th><th>follows</th><th>email tweet</th><th>dial phone</th><th>media views</th><th>media engagements</th><th>promoted impressions</th><th>promoted engagements</th><th>promoted engagement rate</th><th>promoted retweets</th><th>promoted replies</th><th>promoted likes</th><th>promoted user profile clicks</th><th>promoted url clicks</th><th>promoted hashtag clicks</th><th>promoted detail expands</th><th>promoted permalink clicks</th><th>promoted app opens</th><th>promoted app installs</th><th>promoted follows</th><th>promoted email tweet</th><th>promoted dial phone</th><th>promoted media views</th><th>promoted media engagements</th></tr><tr><td>i64</td><td>str</td><td>str</td><td>str</td><td>f64</td><td>f64</td><td>f64</td><td>f64</td><td>f64</td><td>f64</td><td>f64</td><td>f64</td><td>f64</td><td>f64</td><td>f64</td><td>i64</td><td>i64</td><td>i64</td><td>i64</td><td>i64</td><td>i64</td><td>i64</td><td>str</td><td>str</td><td>str</td><td>str</td><td>str</td><td>str</td><td>str</td><td>str</td><td>str</td><td>str</td><td>str</td><td>str</td><td>str</td><td>str</td><td>str</td><td>str</td><td>str</td><td>str</td></tr></thead><tbody><tr><td>1212580517905780737</td><td>&quot;https://twitte…</td><td>&quot;Sounds like a …</td><td>&quot;2020-01-02 03:…</td><td>1465.0</td><td>7.0</td><td>0.004778</td><td>0.0</td><td>0.0</td><td>3.0</td><td>3.0</td><td>0.0</td><td>0.0</td><td>1.0</td><td>0.0</td><td>0</td><td>0</td><td>0</td><td>0</td><td>0</td><td>0</td><td>0</td><td>null</td><td>null</td><td>null</td><td>null</td><td>null</td><td>null</td><td>null</td><td>null</td><td>null</td><td>null</td><td>null</td><td>null</td><td>null</td><td>null</td><td>null</td><td>null</td><td>null</td><td>null</td></tr><tr><td>1212582494828036097</td><td>&quot;https://twitte…</td><td>&quot;@FogleBird Loo…</td><td>&quot;2020-01-02 03:…</td><td>154.0</td><td>3.0</td><td>0.019481</td><td>0.0</td><td>0.0</td><td>1.0</td><td>1.0</td><td>0.0</td><td>0.0</td><td>1.0</td><td>0.0</td><td>0</td><td>0</td><td>0</td><td>0</td><td>0</td><td>0</td><td>0</td><td>null</td><td>null</td><td>null</td><td>null</td><td>null</td><td>null</td><td>null</td><td>null</td><td>null</td><td>null</td><td>null</td><td>null</td><td>null</td><td>null</td><td>null</td><td>null</td><td>null</td><td>null</td></tr><tr><td>1212613735698690049</td><td>&quot;https://twitte…</td><td>&quot;@afilina That&#x27;…</td><td>&quot;2020-01-02 05:…</td><td>1024.0</td><td>6.0</td><td>0.005859</td><td>0.0</td><td>0.0</td><td>1.0</td><td>2.0</td><td>0.0</td><td>0.0</td><td>3.0</td><td>0.0</td><td>0</td><td>0</td><td>0</td><td>0</td><td>0</td><td>0</td><td>0</td><td>null</td><td>null</td><td>null</td><td>null</td><td>null</td><td>null</td><td>null</td><td>null</td><td>null</td><td>null</td><td>null</td><td>null</td><td>null</td><td>null</td><td>null</td><td>null</td><td>null</td><td>null</td></tr><tr><td>1212911749617242113</td><td>&quot;https://twitte…</td><td>&quot;@randal_olson …</td><td>&quot;2020-01-03 01:…</td><td>1419.0</td><td>14.0</td><td>0.009866</td><td>0.0</td><td>1.0</td><td>5.0</td><td>7.0</td><td>0.0</td><td>0.0</td><td>1.0</td><td>0.0</td><td>0</td><td>0</td><td>0</td><td>0</td><td>0</td><td>0</td><td>0</td><td>null</td><td>null</td><td>null</td><td>null</td><td>null</td><td>null</td><td>null</td><td>null</td><td>null</td><td>null</td><td>null</td><td>null</td><td>null</td><td>null</td><td>null</td><td>null</td><td>null</td><td>null</td></tr><tr><td>1212920556028252160</td><td>&quot;https://twitte…</td><td>&quot;@AlSweigart So…</td><td>&quot;2020-01-03 02:…</td><td>198.0</td><td>1.0</td><td>0.005051</td><td>0.0</td><td>0.0</td><td>1.0</td><td>0.0</td><td>0.0</td><td>0.0</td><td>0.0</td><td>0.0</td><td>0</td><td>0</td><td>0</td><td>0</td><td>0</td><td>0</td><td>0</td><td>null</td><td>null</td><td>null</td><td>null</td><td>null</td><td>null</td><td>null</td><td>null</td><td>null</td><td>null</td><td>null</td><td>null</td><td>null</td><td>null</td><td>null</td><td>null</td><td>null</td><td>null</td></tr><tr><td>1212921038356434947</td><td>&quot;https://twitte…</td><td>&quot;@tmarthal @Ted…</td><td>&quot;2020-01-03 02:…</td><td>170.0</td><td>3.0</td><td>0.017647</td><td>0.0</td><td>0.0</td><td>1.0</td><td>1.0</td><td>0.0</td><td>0.0</td><td>1.0</td><td>0.0</td><td>0</td><td>0</td><td>0</td><td>0</td><td>0</td><td>0</td><td>0</td><td>null</td><td>null</td><td>null</td><td>null</td><td>null</td><td>null</td><td>null</td><td>null</td><td>null</td><td>null</td><td>null</td><td>null</td><td>null</td><td>null</td><td>null</td><td>null</td><td>null</td><td>null</td></tr><tr><td>1212921192287330304</td><td>&quot;https://twitte…</td><td>&quot;@gabegundy It&#x27;…</td><td>&quot;2020-01-03 02:…</td><td>104.0</td><td>2.0</td><td>0.019231</td><td>0.0</td><td>1.0</td><td>1.0</td><td>0.0</td><td>0.0</td><td>0.0</td><td>0.0</td><td>0.0</td><td>0</td><td>0</td><td>0</td><td>0</td><td>0</td><td>0</td><td>0</td><td>null</td><td>null</td><td>null</td><td>null</td><td>null</td><td>null</td><td>null</td><td>null</td><td>null</td><td>null</td><td>null</td><td>null</td><td>null</td><td>null</td><td>null</td><td>null</td><td>null</td><td>null</td></tr><tr><td>1212969747186208768</td><td>&quot;https://twitte…</td><td>&quot;@anthonypjshaw…</td><td>&quot;2020-01-03 05:…</td><td>189.0</td><td>0.0</td><td>0.0</td><td>0.0</td><td>0.0</td><td>0.0</td><td>0.0</td><td>0.0</td><td>0.0</td><td>0.0</td><td>0.0</td><td>0</td><td>0</td><td>0</td><td>0</td><td>0</td><td>0</td><td>0</td><td>null</td><td>null</td><td>null</td><td>null</td><td>null</td><td>null</td><td>null</td><td>null</td><td>null</td><td>null</td><td>null</td><td>null</td><td>null</td><td>null</td><td>null</td><td>null</td><td>null</td><td>null</td></tr><tr><td>1212971634019033088</td><td>&quot;https://twitte…</td><td>&quot;@jet_set A lit…</td><td>&quot;2020-01-03 05:…</td><td>900.0</td><td>4.0</td><td>0.004444</td><td>0.0</td><td>0.0</td><td>0.0</td><td>4.0</td><td>0.0</td><td>0.0</td><td>0.0</td><td>0.0</td><td>0</td><td>0</td><td>0</td><td>0</td><td>0</td><td>0</td><td>0</td><td>null</td><td>null</td><td>null</td><td>null</td><td>null</td><td>null</td><td>null</td><td>null</td><td>null</td><td>null</td><td>null</td><td>null</td><td>null</td><td>null</td><td>null</td><td>null</td><td>null</td><td>null</td></tr><tr><td>1213194379793293312</td><td>&quot;https://twitte…</td><td>&quot;@juliasilge @r…</td><td>&quot;2020-01-03 20:…</td><td>252.0</td><td>2.0</td><td>0.007937</td><td>0.0</td><td>0.0</td><td>1.0</td><td>1.0</td><td>0.0</td><td>0.0</td><td>0.0</td><td>0.0</td><td>0</td><td>0</td><td>0</td><td>0</td><td>0</td><td>0</td><td>0</td><td>null</td><td>null</td><td>null</td><td>null</td><td>null</td><td>null</td><td>null</td><td>null</td><td>null</td><td>null</td><td>null</td><td>null</td><td>null</td><td>null</td><td>null</td><td>null</td><td>null</td><td>null</td></tr><tr><td>1213699561962631168</td><td>&quot;https://twitte…</td><td>&quot;Herein you wil…</td><td>&quot;2020-01-05 05:…</td><td>1610.0</td><td>6.0</td><td>0.003727</td><td>0.0</td><td>0.0</td><td>2.0</td><td>2.0</td><td>0.0</td><td>0.0</td><td>2.0</td><td>0.0</td><td>0</td><td>0</td><td>0</td><td>0</td><td>0</td><td>0</td><td>0</td><td>null</td><td>null</td><td>null</td><td>null</td><td>null</td><td>null</td><td>null</td><td>null</td><td>null</td><td>null</td><td>null</td><td>null</td><td>null</td><td>null</td><td>null</td><td>null</td><td>null</td><td>null</td></tr><tr><td>1213896543985516544</td><td>&quot;https://twitte…</td><td>&quot;@Austen Care t…</td><td>&quot;2020-01-05 18:…</td><td>165.0</td><td>3.0</td><td>0.018182</td><td>0.0</td><td>0.0</td><td>0.0</td><td>1.0</td><td>0.0</td><td>0.0</td><td>2.0</td><td>0.0</td><td>0</td><td>0</td><td>0</td><td>0</td><td>0</td><td>0</td><td>0</td><td>null</td><td>null</td><td>null</td><td>null</td><td>null</td><td>null</td><td>null</td><td>null</td><td>null</td><td>null</td><td>null</td><td>null</td><td>null</td><td>null</td><td>null</td><td>null</td><td>null</td><td>null</td></tr><tr><td>&hellip;</td><td>&hellip;</td><td>&hellip;</td><td>&hellip;</td><td>&hellip;</td><td>&hellip;</td><td>&hellip;</td><td>&hellip;</td><td>&hellip;</td><td>&hellip;</td><td>&hellip;</td><td>&hellip;</td><td>&hellip;</td><td>&hellip;</td><td>&hellip;</td><td>&hellip;</td><td>&hellip;</td><td>&hellip;</td><td>&hellip;</td><td>&hellip;</td><td>&hellip;</td><td>&hellip;</td><td>&hellip;</td><td>&hellip;</td><td>&hellip;</td><td>&hellip;</td><td>&hellip;</td><td>&hellip;</td><td>&hellip;</td><td>&hellip;</td><td>&hellip;</td><td>&hellip;</td><td>&hellip;</td><td>&hellip;</td><td>&hellip;</td><td>&hellip;</td><td>&hellip;</td><td>&hellip;</td><td>&hellip;</td><td>&hellip;</td></tr><tr><td>1474805013343981570</td><td>&quot;https://twitte…</td><td>&quot;@EricSchles @s…</td><td>&quot;2021-12-25 18:…</td><td>416.0</td><td>3.0</td><td>0.007212</td><td>0.0</td><td>0.0</td><td>2.0</td><td>1.0</td><td>0.0</td><td>0.0</td><td>0.0</td><td>0.0</td><td>0</td><td>0</td><td>0</td><td>0</td><td>0</td><td>0</td><td>0</td><td>null</td><td>null</td><td>null</td><td>null</td><td>null</td><td>null</td><td>null</td><td>null</td><td>null</td><td>null</td><td>null</td><td>null</td><td>null</td><td>null</td><td>null</td><td>null</td><td>null</td><td>null</td></tr><tr><td>1474820707234185217</td><td>&quot;https://twitte…</td><td>&quot;Mele kalikimak…</td><td>&quot;2021-12-25 19:…</td><td>15840.0</td><td>372.0</td><td>0.023485</td><td>0.0</td><td>2.0</td><td>61.0</td><td>59.0</td><td>6.0</td><td>0.0</td><td>66.0</td><td>0.0</td><td>0</td><td>0</td><td>0</td><td>0</td><td>0</td><td>178</td><td>178</td><td>null</td><td>null</td><td>null</td><td>null</td><td>null</td><td>null</td><td>null</td><td>null</td><td>null</td><td>null</td><td>null</td><td>null</td><td>null</td><td>null</td><td>null</td><td>null</td><td>null</td><td>null</td></tr><tr><td>1475023008620154882</td><td>&quot;https://twitte…</td><td>&quot;Good looking c…</td><td>&quot;2021-12-26 08:…</td><td>22557.0</td><td>501.0</td><td>0.02221</td><td>0.0</td><td>9.0</td><td>50.0</td><td>89.0</td><td>14.0</td><td>0.0</td><td>118.0</td><td>0.0</td><td>0</td><td>0</td><td>0</td><td>0</td><td>0</td><td>221</td><td>221</td><td>null</td><td>null</td><td>null</td><td>null</td><td>null</td><td>null</td><td>null</td><td>null</td><td>null</td><td>null</td><td>null</td><td>null</td><td>null</td><td>null</td><td>null</td><td>null</td><td>null</td><td>null</td></tr><tr><td>1475299210291343362</td><td>&quot;https://twitte…</td><td>&quot;@youtah A litt…</td><td>&quot;2021-12-27 02:…</td><td>1586.0</td><td>35.0</td><td>0.022068</td><td>0.0</td><td>0.0</td><td>2.0</td><td>1.0</td><td>1.0</td><td>0.0</td><td>0.0</td><td>0.0</td><td>0</td><td>0</td><td>0</td><td>0</td><td>0</td><td>31</td><td>31</td><td>null</td><td>null</td><td>null</td><td>null</td><td>null</td><td>null</td><td>null</td><td>null</td><td>null</td><td>null</td><td>null</td><td>null</td><td>null</td><td>null</td><td>null</td><td>null</td><td>null</td><td>null</td></tr><tr><td>1475299401681682434</td><td>&quot;https://twitte…</td><td>&quot;@mathsppblog S…</td><td>&quot;2021-12-27 02:…</td><td>4641.0</td><td>35.0</td><td>0.007541</td><td>0.0</td><td>4.0</td><td>11.0</td><td>10.0</td><td>0.0</td><td>0.0</td><td>10.0</td><td>0.0</td><td>0</td><td>0</td><td>0</td><td>0</td><td>0</td><td>0</td><td>0</td><td>null</td><td>null</td><td>null</td><td>null</td><td>null</td><td>null</td><td>null</td><td>null</td><td>null</td><td>null</td><td>null</td><td>null</td><td>null</td><td>null</td><td>null</td><td>null</td><td>null</td><td>null</td></tr><tr><td>1475299848093978626</td><td>&quot;https://twitte…</td><td>&quot;@willmcgugan P…</td><td>&quot;2021-12-27 02:…</td><td>1969.0</td><td>4.0</td><td>0.002031</td><td>0.0</td><td>0.0</td><td>4.0</td><td>0.0</td><td>0.0</td><td>0.0</td><td>0.0</td><td>0.0</td><td>0</td><td>0</td><td>0</td><td>0</td><td>0</td><td>0</td><td>0</td><td>null</td><td>null</td><td>null</td><td>null</td><td>null</td><td>null</td><td>null</td><td>null</td><td>null</td><td>null</td><td>null</td><td>null</td><td>null</td><td>null</td><td>null</td><td>null</td><td>null</td><td>null</td></tr><tr><td>1475300370138087426</td><td>&quot;https://twitte…</td><td>&quot;@reuvenmlerner…</td><td>&quot;2021-12-27 02:…</td><td>1669.0</td><td>5.0</td><td>0.002996</td><td>0.0</td><td>0.0</td><td>3.0</td><td>0.0</td><td>0.0</td><td>0.0</td><td>2.0</td><td>0.0</td><td>0</td><td>0</td><td>0</td><td>0</td><td>0</td><td>0</td><td>0</td><td>null</td><td>null</td><td>null</td><td>null</td><td>null</td><td>null</td><td>null</td><td>null</td><td>null</td><td>null</td><td>null</td><td>null</td><td>null</td><td>null</td><td>null</td><td>null</td><td>null</td><td>null</td></tr><tr><td>1475300661851934721</td><td>&quot;https://twitte…</td><td>&quot;@allison_horst…</td><td>&quot;2021-12-27 03:…</td><td>986.0</td><td>1.0</td><td>0.001014</td><td>0.0</td><td>0.0</td><td>0.0</td><td>0.0</td><td>0.0</td><td>0.0</td><td>1.0</td><td>0.0</td><td>0</td><td>0</td><td>0</td><td>0</td><td>0</td><td>0</td><td>0</td><td>null</td><td>null</td><td>null</td><td>null</td><td>null</td><td>null</td><td>null</td><td>null</td><td>null</td><td>null</td><td>null</td><td>null</td><td>null</td><td>null</td><td>null</td><td>null</td><td>null</td><td>null</td></tr><tr><td>1475518143690801156</td><td>&quot;https://twitte…</td><td>&quot;@willmcgugan Y…</td><td>&quot;2021-12-27 17:…</td><td>1790.0</td><td>7.0</td><td>0.003911</td><td>0.0</td><td>0.0</td><td>3.0</td><td>1.0</td><td>0.0</td><td>0.0</td><td>3.0</td><td>0.0</td><td>0</td><td>0</td><td>0</td><td>0</td><td>0</td><td>0</td><td>0</td><td>null</td><td>null</td><td>null</td><td>null</td><td>null</td><td>null</td><td>null</td><td>null</td><td>null</td><td>null</td><td>null</td><td>null</td><td>null</td><td>null</td><td>null</td><td>null</td><td>null</td><td>null</td></tr><tr><td>1475891441243025408</td><td>&quot;https://twitte…</td><td>&quot;@posco Visitin…</td><td>&quot;2021-12-28 18:…</td><td>1611.0</td><td>12.0</td><td>0.007449</td><td>0.0</td><td>0.0</td><td>4.0</td><td>4.0</td><td>0.0</td><td>0.0</td><td>4.0</td><td>0.0</td><td>0</td><td>0</td><td>0</td><td>0</td><td>0</td><td>0</td><td>0</td><td>null</td><td>null</td><td>null</td><td>null</td><td>null</td><td>null</td><td>null</td><td>null</td><td>null</td><td>null</td><td>null</td><td>null</td><td>null</td><td>null</td><td>null</td><td>null</td><td>null</td><td>null</td></tr><tr><td>1476453819751878656</td><td>&quot;https://twitte…</td><td>&quot;@johndsaunders…</td><td>&quot;2021-12-30 07:…</td><td>1354.0</td><td>8.0</td><td>0.005908</td><td>0.0</td><td>0.0</td><td>2.0</td><td>4.0</td><td>0.0</td><td>0.0</td><td>2.0</td><td>0.0</td><td>0</td><td>0</td><td>0</td><td>0</td><td>0</td><td>0</td><td>0</td><td>null</td><td>null</td><td>null</td><td>null</td><td>null</td><td>null</td><td>null</td><td>null</td><td>null</td><td>null</td><td>null</td><td>null</td><td>null</td><td>null</td><td>null</td><td>null</td><td>null</td><td>null</td></tr><tr><td>1477024722051158018</td><td>&quot;https://twitte…</td><td>&quot;@tunguz Xgboos…</td><td>&quot;2021-12-31 21:…</td><td>5041.0</td><td>63.0</td><td>0.012498</td><td>0.0</td><td>3.0</td><td>23.0</td><td>8.0</td><td>0.0</td><td>0.0</td><td>29.0</td><td>0.0</td><td>0</td><td>0</td><td>0</td><td>0</td><td>0</td><td>0</td><td>0</td><td>null</td><td>null</td><td>null</td><td>null</td><td>null</td><td>null</td><td>null</td><td>null</td><td>null</td><td>null</td><td>null</td><td>null</td><td>null</td><td>null</td><td>null</td><td>null</td><td>null</td><td>null</td></tr></tbody></table></div>"
      ],
      "text/plain": [
       "shape: (5_791, 40)\n",
       "┌───────────┬───────────┬───────────┬───────────┬───┬───────────┬───────────┬───────────┬──────────┐\n",
       "│ Tweet id  ┆ Tweet     ┆ Tweet     ┆ time      ┆ … ┆ promoted  ┆ promoted  ┆ promoted  ┆ promoted │\n",
       "│ ---       ┆ permalink ┆ text      ┆ ---       ┆   ┆ email     ┆ dial      ┆ media     ┆ media    │\n",
       "│ i64       ┆ ---       ┆ ---       ┆ str       ┆   ┆ tweet     ┆ phone     ┆ views     ┆ engageme │\n",
       "│           ┆ str       ┆ str       ┆           ┆   ┆ ---       ┆ ---       ┆ ---       ┆ nts      │\n",
       "│           ┆           ┆           ┆           ┆   ┆ str       ┆ str       ┆ str       ┆ ---      │\n",
       "│           ┆           ┆           ┆           ┆   ┆           ┆           ┆           ┆ str      │\n",
       "╞═══════════╪═══════════╪═══════════╪═══════════╪═══╪═══════════╪═══════════╪═══════════╪══════════╡\n",
       "│ 121258051 ┆ https://t ┆ Sounds    ┆ 2020-01-0 ┆ … ┆ null      ┆ null      ┆ null      ┆ null     │\n",
       "│ 790578073 ┆ witter.co ┆ like a    ┆ 2 03:44:0 ┆   ┆           ┆           ┆           ┆          │\n",
       "│ 7         ┆ m/__mharr ┆ great     ┆ 0+00:00   ┆   ┆           ┆           ┆           ┆          │\n",
       "│           ┆ ison_…    ┆ topic!    ┆           ┆   ┆           ┆           ┆           ┆          │\n",
       "│           ┆           ┆ https…    ┆           ┆   ┆           ┆           ┆           ┆          │\n",
       "│ 121258249 ┆ https://t ┆ @FogleBir ┆ 2020-01-0 ┆ … ┆ null      ┆ null      ┆ null      ┆ null     │\n",
       "│ 482803609 ┆ witter.co ┆ d Looks   ┆ 2 03:52:0 ┆   ┆           ┆           ┆           ┆          │\n",
       "│ 7         ┆ m/__mharr ┆ like SLC. ┆ 0+00:00   ┆   ┆           ┆           ┆           ┆          │\n",
       "│           ┆ ison_…    ┆ I can…    ┆           ┆   ┆           ┆           ┆           ┆          │\n",
       "│ 121261373 ┆ https://t ┆ @afilina  ┆ 2020-01-0 ┆ … ┆ null      ┆ null      ┆ null      ┆ null     │\n",
       "│ 569869004 ┆ witter.co ┆ That's    ┆ 2 05:56:0 ┆   ┆           ┆           ┆           ┆          │\n",
       "│ 9         ┆ m/__mharr ┆ really    ┆ 0+00:00   ┆   ┆           ┆           ┆           ┆          │\n",
       "│           ┆ ison_…    ┆ amount    ┆           ┆   ┆           ┆           ┆           ┆          │\n",
       "│           ┆           ┆ an…       ┆           ┆   ┆           ┆           ┆           ┆          │\n",
       "│ 121291174 ┆ https://t ┆ @randal_o ┆ 2020-01-0 ┆ … ┆ null      ┆ null      ┆ null      ┆ null     │\n",
       "│ 961724211 ┆ witter.co ┆ lson I    ┆ 3 01:41:0 ┆   ┆           ┆           ┆           ┆          │\n",
       "│ 3         ┆ m/__mharr ┆ use       ┆ 0+00:00   ┆   ┆           ┆           ┆           ┆          │\n",
       "│           ┆ ison_…    ┆ anaconda  ┆           ┆   ┆           ┆           ┆           ┆          │\n",
       "│           ┆           ┆ whe…      ┆           ┆   ┆           ┆           ┆           ┆          │\n",
       "│ …         ┆ …         ┆ …         ┆ …         ┆ … ┆ …         ┆ …         ┆ …         ┆ …        │\n",
       "│ 147551814 ┆ https://t ┆ @willmcgu ┆ 2021-12-2 ┆ … ┆ null      ┆ null      ┆ null      ┆ null     │\n",
       "│ 369080115 ┆ witter.co ┆ gan You   ┆ 7 17:25:0 ┆   ┆           ┆           ┆           ┆          │\n",
       "│ 6         ┆ m/__mharr ┆ need to   ┆ 0+00:00   ┆   ┆           ┆           ┆           ┆          │\n",
       "│           ┆ ison_…    ┆ find ou…  ┆           ┆   ┆           ┆           ┆           ┆          │\n",
       "│ 147589144 ┆ https://t ┆ @posco    ┆ 2021-12-2 ┆ … ┆ null      ┆ null      ┆ null      ┆ null     │\n",
       "│ 124302540 ┆ witter.co ┆ Visiting  ┆ 8 18:08:0 ┆   ┆           ┆           ┆           ┆          │\n",
       "│ 8         ┆ m/__mharr ┆ Hawaii    ┆ 0+00:00   ┆   ┆           ┆           ┆           ┆          │\n",
       "│           ┆ ison_…    ┆ for the   ┆           ┆   ┆           ┆           ┆           ┆          │\n",
       "│           ┆           ┆ h…        ┆           ┆   ┆           ┆           ┆           ┆          │\n",
       "│ 147645381 ┆ https://t ┆ @johndsau ┆ 2021-12-3 ┆ … ┆ null      ┆ null      ┆ null      ┆ null     │\n",
       "│ 975187865 ┆ witter.co ┆ nders My  ┆ 0 07:23:0 ┆   ┆           ┆           ┆           ┆          │\n",
       "│ 6         ┆ m/__mharr ┆ son just  ┆ 0+00:00   ┆   ┆           ┆           ┆           ┆          │\n",
       "│           ┆ ison_…    ┆ built…    ┆           ┆   ┆           ┆           ┆           ┆          │\n",
       "│ 147702472 ┆ https://t ┆ @tunguz   ┆ 2021-12-3 ┆ … ┆ null      ┆ null      ┆ null      ┆ null     │\n",
       "│ 205115801 ┆ witter.co ┆ Xgboost   ┆ 1 21:11:0 ┆   ┆           ┆           ┆           ┆          │\n",
       "│ 8         ┆ m/__mharr ┆           ┆ 0+00:00   ┆   ┆           ┆           ┆           ┆          │\n",
       "│           ┆ ison_…    ┆           ┆           ┆   ┆           ┆           ┆           ┆          │\n",
       "└───────────┴───────────┴───────────┴───────────┴───┴───────────┴───────────┴───────────┴──────────┘"
      ]
     },
     "execution_count": 3,
     "metadata": {},
     "output_type": "execute_result"
    }
   ],
   "source": [
    "df"
   ]
  },
  {
   "cell_type": "code",
   "execution_count": 4,
   "metadata": {},
   "outputs": [
    {
     "data": {
      "text/plain": [
       "['__add__',\n",
       " '__annotations__',\n",
       " '__array__',\n",
       " '__bool__',\n",
       " '__class__',\n",
       " '__contains__',\n",
       " '__copy__',\n",
       " '__dataframe__',\n",
       " '__dataframe_consortium_standard__',\n",
       " '__deepcopy__',\n",
       " '__delattr__',\n",
       " '__dict__',\n",
       " '__dir__',\n",
       " '__doc__',\n",
       " '__eq__',\n",
       " '__floordiv__',\n",
       " '__format__',\n",
       " '__ge__',\n",
       " '__getattribute__',\n",
       " '__getitem__',\n",
       " '__getstate__',\n",
       " '__gt__',\n",
       " '__hash__',\n",
       " '__init__',\n",
       " '__init_subclass__',\n",
       " '__iter__',\n",
       " '__le__',\n",
       " '__len__',\n",
       " '__lt__',\n",
       " '__mod__',\n",
       " '__module__',\n",
       " '__mul__',\n",
       " '__ne__',\n",
       " '__new__',\n",
       " '__radd__',\n",
       " '__reduce__',\n",
       " '__reduce_ex__',\n",
       " '__repr__',\n",
       " '__reversed__',\n",
       " '__rmul__',\n",
       " '__setattr__',\n",
       " '__setitem__',\n",
       " '__setstate__',\n",
       " '__sizeof__',\n",
       " '__str__',\n",
       " '__sub__',\n",
       " '__subclasshook__',\n",
       " '__truediv__',\n",
       " '__weakref__',\n",
       " '_accessors',\n",
       " '_cast_all_from_to',\n",
       " '_comp',\n",
       " '_compare_to_non_df',\n",
       " '_compare_to_other_df',\n",
       " '_df',\n",
       " '_div',\n",
       " '_from_arrow',\n",
       " '_from_dict',\n",
       " '_from_dicts',\n",
       " '_from_numpy',\n",
       " '_from_pandas',\n",
       " '_from_pydf',\n",
       " '_from_records',\n",
       " '_ipython_key_completions_',\n",
       " '_pos_idx',\n",
       " '_read_avro',\n",
       " '_read_csv',\n",
       " '_read_ipc',\n",
       " '_read_ipc_stream',\n",
       " '_read_json',\n",
       " '_read_ndjson',\n",
       " '_read_parquet',\n",
       " '_replace',\n",
       " '_repr_html_',\n",
       " '_take_with_series',\n",
       " 'apply',\n",
       " 'approx_n_unique',\n",
       " 'bottom_k',\n",
       " 'cast',\n",
       " 'clear',\n",
       " 'clone',\n",
       " 'columns',\n",
       " 'corr',\n",
       " 'count',\n",
       " 'describe',\n",
       " 'drop',\n",
       " 'drop_in_place',\n",
       " 'drop_nulls',\n",
       " 'dtypes',\n",
       " 'equals',\n",
       " 'estimated_size',\n",
       " 'explode',\n",
       " 'extend',\n",
       " 'fill_nan',\n",
       " 'fill_null',\n",
       " 'filter',\n",
       " 'find_idx_by_name',\n",
       " 'flags',\n",
       " 'fold',\n",
       " 'frame_equal',\n",
       " 'gather_every',\n",
       " 'get_column',\n",
       " 'get_column_index',\n",
       " 'get_columns',\n",
       " 'glimpse',\n",
       " 'group_by',\n",
       " 'group_by_dynamic',\n",
       " 'group_by_rolling',\n",
       " 'groupby',\n",
       " 'groupby_dynamic',\n",
       " 'groupby_rolling',\n",
       " 'hash_rows',\n",
       " 'head',\n",
       " 'height',\n",
       " 'hstack',\n",
       " 'insert_at_idx',\n",
       " 'insert_column',\n",
       " 'interpolate',\n",
       " 'is_duplicated',\n",
       " 'is_empty',\n",
       " 'is_unique',\n",
       " 'item',\n",
       " 'iter_columns',\n",
       " 'iter_rows',\n",
       " 'iter_slices',\n",
       " 'join',\n",
       " 'join_asof',\n",
       " 'lazy',\n",
       " 'limit',\n",
       " 'map_rows',\n",
       " 'max',\n",
       " 'max_horizontal',\n",
       " 'mean',\n",
       " 'mean_horizontal',\n",
       " 'median',\n",
       " 'melt',\n",
       " 'merge_sorted',\n",
       " 'min',\n",
       " 'min_horizontal',\n",
       " 'n_chunks',\n",
       " 'n_unique',\n",
       " 'null_count',\n",
       " 'partition_by',\n",
       " 'pipe',\n",
       " 'pivot',\n",
       " 'plot',\n",
       " 'product',\n",
       " 'quantile',\n",
       " 'rechunk',\n",
       " 'rename',\n",
       " 'replace',\n",
       " 'replace_at_idx',\n",
       " 'replace_column',\n",
       " 'reverse',\n",
       " 'rolling',\n",
       " 'row',\n",
       " 'rows',\n",
       " 'rows_by_key',\n",
       " 'sample',\n",
       " 'schema',\n",
       " 'select',\n",
       " 'select_seq',\n",
       " 'set_sorted',\n",
       " 'shape',\n",
       " 'shift',\n",
       " 'shift_and_fill',\n",
       " 'shrink_to_fit',\n",
       " 'slice',\n",
       " 'sort',\n",
       " 'std',\n",
       " 'sum',\n",
       " 'sum_horizontal',\n",
       " 'tail',\n",
       " 'take_every',\n",
       " 'to_arrow',\n",
       " 'to_dict',\n",
       " 'to_dicts',\n",
       " 'to_dummies',\n",
       " 'to_init_repr',\n",
       " 'to_numpy',\n",
       " 'to_pandas',\n",
       " 'to_series',\n",
       " 'to_struct',\n",
       " 'top_k',\n",
       " 'transpose',\n",
       " 'unique',\n",
       " 'unnest',\n",
       " 'unstack',\n",
       " 'update',\n",
       " 'upsample',\n",
       " 'var',\n",
       " 'vstack',\n",
       " 'width',\n",
       " 'with_columns',\n",
       " 'with_columns_seq',\n",
       " 'with_row_count',\n",
       " 'with_row_index',\n",
       " 'write_avro',\n",
       " 'write_csv',\n",
       " 'write_database',\n",
       " 'write_delta',\n",
       " 'write_excel',\n",
       " 'write_ipc',\n",
       " 'write_ipc_stream',\n",
       " 'write_json',\n",
       " 'write_ndjson',\n",
       " 'write_parquet']"
      ]
     },
     "execution_count": 4,
     "metadata": {},
     "output_type": "execute_result"
    }
   ],
   "source": [
    "dir(df)"
   ]
  },
  {
   "cell_type": "code",
   "execution_count": 5,
   "metadata": {},
   "outputs": [
    {
     "data": {
      "text/plain": [
       "['Tweet id',\n",
       " 'Tweet permalink',\n",
       " 'Tweet text',\n",
       " 'time',\n",
       " 'impressions',\n",
       " 'engagements',\n",
       " 'engagement rate',\n",
       " 'retweets',\n",
       " 'replies',\n",
       " 'likes',\n",
       " 'user profile clicks',\n",
       " 'url clicks',\n",
       " 'hashtag clicks',\n",
       " 'detail expands',\n",
       " 'permalink clicks',\n",
       " 'app opens',\n",
       " 'app installs',\n",
       " 'follows',\n",
       " 'email tweet',\n",
       " 'dial phone',\n",
       " 'media views',\n",
       " 'media engagements',\n",
       " 'promoted impressions',\n",
       " 'promoted engagements',\n",
       " 'promoted engagement rate',\n",
       " 'promoted retweets',\n",
       " 'promoted replies',\n",
       " 'promoted likes',\n",
       " 'promoted user profile clicks',\n",
       " 'promoted url clicks',\n",
       " 'promoted hashtag clicks',\n",
       " 'promoted detail expands',\n",
       " 'promoted permalink clicks',\n",
       " 'promoted app opens',\n",
       " 'promoted app installs',\n",
       " 'promoted follows',\n",
       " 'promoted email tweet',\n",
       " 'promoted dial phone',\n",
       " 'promoted media views',\n",
       " 'promoted media engagements']"
      ]
     },
     "execution_count": 5,
     "metadata": {},
     "output_type": "execute_result"
    }
   ],
   "source": [
    "df.columns"
   ]
  },
  {
   "cell_type": "code",
   "execution_count": 6,
   "metadata": {},
   "outputs": [
    {
     "data": {
      "text/html": [
       "<div><style>\n",
       ".dataframe > thead > tr,\n",
       ".dataframe > tbody > tr {\n",
       "  text-align: right;\n",
       "  white-space: pre-wrap;\n",
       "}\n",
       "</style>\n",
       "<small>shape: (40, 20)</small><table border=\"1\" class=\"dataframe\"><thead><tr><th>column_0</th><th>column_1</th><th>column_2</th><th>column_3</th><th>column_4</th><th>column_5</th><th>column_6</th><th>column_7</th><th>column_8</th><th>column_9</th><th>column_10</th><th>column_11</th><th>column_12</th><th>column_13</th><th>column_14</th><th>column_15</th><th>column_16</th><th>column_17</th><th>column_18</th><th>column_19</th></tr><tr><td>str</td><td>str</td><td>str</td><td>str</td><td>str</td><td>str</td><td>str</td><td>str</td><td>str</td><td>str</td><td>str</td><td>str</td><td>str</td><td>str</td><td>str</td><td>str</td><td>str</td><td>str</td><td>str</td><td>str</td></tr></thead><tbody><tr><td>&quot;13643071680155…</td><td>&quot;13758356741174…</td><td>&quot;14701931135157…</td><td>&quot;14432598268600…</td><td>&quot;12925103060741…</td><td>&quot;14388879604982…</td><td>&quot;13494044131236…</td><td>&quot;14283946763404…</td><td>&quot;14593916531149…</td><td>&quot;13223241828063…</td><td>&quot;13877624324922…</td><td>&quot;13270537307898…</td><td>&quot;13060950620282…</td><td>&quot;14005629097096…</td><td>&quot;13721582724933…</td><td>&quot;12711897407593…</td><td>&quot;13338504900948…</td><td>&quot;13917834073366…</td><td>&quot;13185679554000…</td><td>&quot;13613230889655…</td></tr><tr><td>&quot;https://twitte…</td><td>&quot;https://twitte…</td><td>&quot;https://twitte…</td><td>&quot;https://twitte…</td><td>&quot;https://twitte…</td><td>&quot;https://twitte…</td><td>&quot;https://twitte…</td><td>&quot;https://twitte…</td><td>&quot;https://twitte…</td><td>&quot;https://twitte…</td><td>&quot;https://twitte…</td><td>&quot;https://twitte…</td><td>&quot;https://twitte…</td><td>&quot;https://twitte…</td><td>&quot;https://twitte…</td><td>&quot;https://twitte…</td><td>&quot;https://twitte…</td><td>&quot;https://twitte…</td><td>&quot;https://twitte…</td><td>&quot;https://twitte…</td></tr><tr><td>&quot;You might thin…</td><td>&quot;@WillingCarol …</td><td>&quot;@vivianmshen D…</td><td>&quot;I was on the @…</td><td>&quot;@cdcasey @zuli…</td><td>&quot;If you like th…</td><td>&quot;@fonnesbeck Ya…</td><td>&quot;@ayodeji_fasul…</td><td>&quot;What would you…</td><td>&quot;@AnderSalazar …</td><td>&quot;Join us on Thu…</td><td>&quot;Absolutely per…</td><td>&quot;@chrisalbon Ni…</td><td>&quot;@amjithr Train…</td><td>&quot;@ben_j_lindsay…</td><td>&quot;@marc_data Det…</td><td>&quot;@MrFreshy @Cli…</td><td>&quot;@justgeorgeous…</td><td>&quot;@Cmrn_DP Sound…</td><td>&quot;@tunguz This i…</td></tr><tr><td>&quot;2021-02-23 20:…</td><td>&quot;2021-03-27 15:…</td><td>&quot;2021-12-13 00:…</td><td>&quot;2021-09-29 17:…</td><td>&quot;2020-08-09 17:…</td><td>&quot;2021-09-17 15:…</td><td>&quot;2021-01-13 17:…</td><td>&quot;2021-08-19 16:…</td><td>&quot;2021-11-13 05:…</td><td>&quot;2020-10-30 23:…</td><td>&quot;2021-04-29 13:…</td><td>&quot;2020-11-13 01:…</td><td>&quot;2020-09-16 04:…</td><td>&quot;2021-06-03 21:…</td><td>&quot;2021-03-17 12:…</td><td>&quot;2020-06-11 21:…</td><td>&quot;2020-12-01 19:…</td><td>&quot;2021-05-10 15:…</td><td>&quot;2020-10-20 15:…</td><td>&quot;2021-02-15 14:…</td></tr><tr><td>&quot;224.0&quot;</td><td>&quot;249.0&quot;</td><td>&quot;2534.0&quot;</td><td>&quot;1435.0&quot;</td><td>&quot;209.0&quot;</td><td>&quot;1854.0&quot;</td><td>&quot;190.0&quot;</td><td>&quot;1130.0&quot;</td><td>&quot;10028.0&quot;</td><td>&quot;110.0&quot;</td><td>&quot;3464.0&quot;</td><td>&quot;1828.0&quot;</td><td>&quot;831.0&quot;</td><td>&quot;745.0&quot;</td><td>&quot;117.0&quot;</td><td>&quot;190.0&quot;</td><td>&quot;14.0&quot;</td><td>&quot;1187.0&quot;</td><td>&quot;693.0&quot;</td><td>&quot;489.0&quot;</td></tr><tr><td>&quot;4.0&quot;</td><td>&quot;7.0&quot;</td><td>&quot;9.0&quot;</td><td>&quot;34.0&quot;</td><td>&quot;3.0&quot;</td><td>&quot;46.0&quot;</td><td>&quot;2.0&quot;</td><td>&quot;28.0&quot;</td><td>&quot;283.0&quot;</td><td>&quot;0.0&quot;</td><td>&quot;39.0&quot;</td><td>&quot;34.0&quot;</td><td>&quot;5.0&quot;</td><td>&quot;3.0&quot;</td><td>&quot;10.0&quot;</td><td>&quot;6.0&quot;</td><td>&quot;3.0&quot;</td><td>&quot;12.0&quot;</td><td>&quot;15.0&quot;</td><td>&quot;10.0&quot;</td></tr><tr><td>&quot;0.017857142857…</td><td>&quot;0.028112449799…</td><td>&quot;0.003551696921…</td><td>&quot;0.023693379790…</td><td>&quot;0.014354066985…</td><td>&quot;0.024811218985…</td><td>&quot;0.010526315789…</td><td>&quot;0.024778761061…</td><td>&quot;0.028220981252…</td><td>&quot;0.0&quot;</td><td>&quot;0.011258660508…</td><td>&quot;0.018599562363…</td><td>&quot;0.006016847172…</td><td>&quot;0.004026845637…</td><td>&quot;0.085470085470…</td><td>&quot;0.031578947368…</td><td>&quot;0.214285714285…</td><td>&quot;0.010109519797…</td><td>&quot;0.021645021645…</td><td>&quot;0.020449897750…</td></tr><tr><td>&quot;0.0&quot;</td><td>&quot;0.0&quot;</td><td>&quot;0.0&quot;</td><td>&quot;0.0&quot;</td><td>&quot;0.0&quot;</td><td>&quot;1.0&quot;</td><td>&quot;0.0&quot;</td><td>&quot;0.0&quot;</td><td>&quot;0.0&quot;</td><td>&quot;0.0&quot;</td><td>&quot;1.0&quot;</td><td>&quot;0.0&quot;</td><td>&quot;0.0&quot;</td><td>&quot;0.0&quot;</td><td>&quot;0.0&quot;</td><td>&quot;0.0&quot;</td><td>&quot;0.0&quot;</td><td>&quot;0.0&quot;</td><td>&quot;0.0&quot;</td><td>&quot;0.0&quot;</td></tr><tr><td>&quot;1.0&quot;</td><td>&quot;1.0&quot;</td><td>&quot;0.0&quot;</td><td>&quot;1.0&quot;</td><td>&quot;0.0&quot;</td><td>&quot;1.0&quot;</td><td>&quot;0.0&quot;</td><td>&quot;1.0&quot;</td><td>&quot;11.0&quot;</td><td>&quot;0.0&quot;</td><td>&quot;0.0&quot;</td><td>&quot;1.0&quot;</td><td>&quot;0.0&quot;</td><td>&quot;1.0&quot;</td><td>&quot;1.0&quot;</td><td>&quot;0.0&quot;</td><td>&quot;0.0&quot;</td><td>&quot;2.0&quot;</td><td>&quot;1.0&quot;</td><td>&quot;0.0&quot;</td></tr><tr><td>&quot;0.0&quot;</td><td>&quot;2.0&quot;</td><td>&quot;5.0&quot;</td><td>&quot;7.0&quot;</td><td>&quot;1.0&quot;</td><td>&quot;2.0&quot;</td><td>&quot;1.0&quot;</td><td>&quot;2.0&quot;</td><td>&quot;11.0&quot;</td><td>&quot;0.0&quot;</td><td>&quot;6.0&quot;</td><td>&quot;1.0&quot;</td><td>&quot;0.0&quot;</td><td>&quot;0.0&quot;</td><td>&quot;2.0&quot;</td><td>&quot;1.0&quot;</td><td>&quot;0.0&quot;</td><td>&quot;1.0&quot;</td><td>&quot;7.0&quot;</td><td>&quot;2.0&quot;</td></tr><tr><td>&quot;1.0&quot;</td><td>&quot;2.0&quot;</td><td>&quot;3.0&quot;</td><td>&quot;10.0&quot;</td><td>&quot;1.0&quot;</td><td>&quot;8.0&quot;</td><td>&quot;1.0&quot;</td><td>&quot;14.0&quot;</td><td>&quot;18.0&quot;</td><td>&quot;0.0&quot;</td><td>&quot;1.0&quot;</td><td>&quot;4.0&quot;</td><td>&quot;2.0&quot;</td><td>&quot;2.0&quot;</td><td>&quot;0.0&quot;</td><td>&quot;3.0&quot;</td><td>&quot;0.0&quot;</td><td>&quot;2.0&quot;</td><td>&quot;2.0&quot;</td><td>&quot;3.0&quot;</td></tr><tr><td>&quot;0.0&quot;</td><td>&quot;0.0&quot;</td><td>&quot;0.0&quot;</td><td>&quot;6.0&quot;</td><td>&quot;0.0&quot;</td><td>&quot;0.0&quot;</td><td>&quot;0.0&quot;</td><td>&quot;0.0&quot;</td><td>&quot;17.0&quot;</td><td>&quot;0.0&quot;</td><td>&quot;24.0&quot;</td><td>&quot;3.0&quot;</td><td>&quot;0.0&quot;</td><td>&quot;0.0&quot;</td><td>&quot;0.0&quot;</td><td>&quot;0.0&quot;</td><td>&quot;0.0&quot;</td><td>&quot;0.0&quot;</td><td>&quot;0.0&quot;</td><td>&quot;0.0&quot;</td></tr><tr><td>&hellip;</td><td>&hellip;</td><td>&hellip;</td><td>&hellip;</td><td>&hellip;</td><td>&hellip;</td><td>&hellip;</td><td>&hellip;</td><td>&hellip;</td><td>&hellip;</td><td>&hellip;</td><td>&hellip;</td><td>&hellip;</td><td>&hellip;</td><td>&hellip;</td><td>&hellip;</td><td>&hellip;</td><td>&hellip;</td><td>&hellip;</td><td>&hellip;</td></tr><tr><td>null</td><td>null</td><td>null</td><td>null</td><td>null</td><td>null</td><td>null</td><td>null</td><td>null</td><td>null</td><td>null</td><td>null</td><td>null</td><td>null</td><td>null</td><td>null</td><td>null</td><td>null</td><td>null</td><td>null</td></tr><tr><td>null</td><td>null</td><td>null</td><td>null</td><td>null</td><td>null</td><td>null</td><td>null</td><td>null</td><td>null</td><td>null</td><td>null</td><td>null</td><td>null</td><td>null</td><td>null</td><td>null</td><td>null</td><td>null</td><td>null</td></tr><tr><td>null</td><td>null</td><td>null</td><td>null</td><td>null</td><td>null</td><td>null</td><td>null</td><td>null</td><td>null</td><td>null</td><td>null</td><td>null</td><td>null</td><td>null</td><td>null</td><td>null</td><td>null</td><td>null</td><td>null</td></tr><tr><td>null</td><td>null</td><td>null</td><td>null</td><td>null</td><td>null</td><td>null</td><td>null</td><td>null</td><td>null</td><td>null</td><td>null</td><td>null</td><td>null</td><td>null</td><td>null</td><td>null</td><td>null</td><td>null</td><td>null</td></tr><tr><td>null</td><td>null</td><td>null</td><td>null</td><td>null</td><td>null</td><td>null</td><td>null</td><td>null</td><td>null</td><td>null</td><td>null</td><td>null</td><td>null</td><td>null</td><td>null</td><td>null</td><td>null</td><td>null</td><td>null</td></tr><tr><td>null</td><td>null</td><td>null</td><td>null</td><td>null</td><td>null</td><td>null</td><td>null</td><td>null</td><td>null</td><td>null</td><td>null</td><td>null</td><td>null</td><td>null</td><td>null</td><td>null</td><td>null</td><td>null</td><td>null</td></tr><tr><td>null</td><td>null</td><td>null</td><td>null</td><td>null</td><td>null</td><td>null</td><td>null</td><td>null</td><td>null</td><td>null</td><td>null</td><td>null</td><td>null</td><td>null</td><td>null</td><td>null</td><td>null</td><td>null</td><td>null</td></tr><tr><td>null</td><td>null</td><td>null</td><td>null</td><td>null</td><td>null</td><td>null</td><td>null</td><td>null</td><td>null</td><td>null</td><td>null</td><td>null</td><td>null</td><td>null</td><td>null</td><td>null</td><td>null</td><td>null</td><td>null</td></tr><tr><td>null</td><td>null</td><td>null</td><td>null</td><td>null</td><td>null</td><td>null</td><td>null</td><td>null</td><td>null</td><td>null</td><td>null</td><td>null</td><td>null</td><td>null</td><td>null</td><td>null</td><td>null</td><td>null</td><td>null</td></tr><tr><td>null</td><td>null</td><td>null</td><td>null</td><td>null</td><td>null</td><td>null</td><td>null</td><td>null</td><td>null</td><td>null</td><td>null</td><td>null</td><td>null</td><td>null</td><td>null</td><td>null</td><td>null</td><td>null</td><td>null</td></tr><tr><td>null</td><td>null</td><td>null</td><td>null</td><td>null</td><td>null</td><td>null</td><td>null</td><td>null</td><td>null</td><td>null</td><td>null</td><td>null</td><td>null</td><td>null</td><td>null</td><td>null</td><td>null</td><td>null</td><td>null</td></tr><tr><td>null</td><td>null</td><td>null</td><td>null</td><td>null</td><td>null</td><td>null</td><td>null</td><td>null</td><td>null</td><td>null</td><td>null</td><td>null</td><td>null</td><td>null</td><td>null</td><td>null</td><td>null</td><td>null</td><td>null</td></tr></tbody></table></div>"
      ],
      "text/plain": [
       "shape: (40, 20)\n",
       "┌───────────┬───────────┬───────────┬───────────┬───┬───────────┬───────────┬───────────┬──────────┐\n",
       "│ column_0  ┆ column_1  ┆ column_2  ┆ column_3  ┆ … ┆ column_16 ┆ column_17 ┆ column_18 ┆ column_1 │\n",
       "│ ---       ┆ ---       ┆ ---       ┆ ---       ┆   ┆ ---       ┆ ---       ┆ ---       ┆ 9        │\n",
       "│ str       ┆ str       ┆ str       ┆ str       ┆   ┆ str       ┆ str       ┆ str       ┆ ---      │\n",
       "│           ┆           ┆           ┆           ┆   ┆           ┆           ┆           ┆ str      │\n",
       "╞═══════════╪═══════════╪═══════════╪═══════════╪═══╪═══════════╪═══════════╪═══════════╪══════════╡\n",
       "│ 136430716 ┆ 137583567 ┆ 147019311 ┆ 144325982 ┆ … ┆ 133385049 ┆ 139178340 ┆ 131856795 ┆ 13613230 │\n",
       "│ 801551564 ┆ 411746816 ┆ 351578624 ┆ 686002790 ┆   ┆ 009484185 ┆ 733662413 ┆ 540001996 ┆ 88965562 │\n",
       "│ 8         ┆ 3         ┆ 2         ┆ 8         ┆   ┆ 6         ┆ 1         ┆ 8         ┆ 369      │\n",
       "│ https://t ┆ https://t ┆ https://t ┆ https://t ┆ … ┆ https://t ┆ https://t ┆ https://t ┆ https:// │\n",
       "│ witter.co ┆ witter.co ┆ witter.co ┆ witter.co ┆   ┆ witter.co ┆ witter.co ┆ witter.co ┆ twitter. │\n",
       "│ m/__mharr ┆ m/__mharr ┆ m/__mharr ┆ m/__mharr ┆   ┆ m/__mharr ┆ m/__mharr ┆ m/__mharr ┆ com/__mh │\n",
       "│ ison_…    ┆ ison_…    ┆ ison_…    ┆ ison_…    ┆   ┆ ison_…    ┆ ison_…    ┆ ison_…    ┆ arrison_ │\n",
       "│           ┆           ┆           ┆           ┆   ┆           ┆           ┆           ┆ …        │\n",
       "│ You might ┆ @WillingC ┆ @vivianms ┆ I was on  ┆ … ┆ @MrFreshy ┆ @justgeor ┆ @Cmrn_DP  ┆ @tunguz  │\n",
       "│ think     ┆ arol What ┆ hen Did   ┆ the @test ┆   ┆ @ClintRut ┆ geous2    ┆ Sounds    ┆ This is  │\n",
       "│ these     ┆ if they   ┆ you learn ┆ andcode   ┆   ┆ kas @DrKe ┆ @DrEricDi ┆ like you  ┆ just Ben │\n",
       "│ jobs are  ┆ didn'…    ┆ this …    ┆ podcas…   ┆   ┆ ller…     ┆ ng What…  ┆ want a …  ┆ ford's   │\n",
       "│ u…        ┆           ┆           ┆           ┆   ┆           ┆           ┆           ┆ l…       │\n",
       "│ 2021-02-2 ┆ 2021-03-2 ┆ 2021-12-1 ┆ 2021-09-2 ┆ … ┆ 2020-12-0 ┆ 2021-05-1 ┆ 2020-10-2 ┆ 2021-02- │\n",
       "│ 3 20:12:0 ┆ 7 15:42:0 ┆ 3 00:45:0 ┆ 9 17:02:0 ┆   ┆ 1 19:08:0 ┆ 0 15:53:0 ┆ 0 15:01:0 ┆ 15 14:34 │\n",
       "│ 0+00:00   ┆ 0+00:00   ┆ 0+00:00   ┆ 0+00:00   ┆   ┆ 0+00:00   ┆ 0+00:00   ┆ 0+00:00   ┆ :00+00:0 │\n",
       "│           ┆           ┆           ┆           ┆   ┆           ┆           ┆           ┆ 0        │\n",
       "│ …         ┆ …         ┆ …         ┆ …         ┆ … ┆ …         ┆ …         ┆ …         ┆ …        │\n",
       "│ null      ┆ null      ┆ null      ┆ null      ┆ … ┆ null      ┆ null      ┆ null      ┆ null     │\n",
       "│ null      ┆ null      ┆ null      ┆ null      ┆ … ┆ null      ┆ null      ┆ null      ┆ null     │\n",
       "│ null      ┆ null      ┆ null      ┆ null      ┆ … ┆ null      ┆ null      ┆ null      ┆ null     │\n",
       "│ null      ┆ null      ┆ null      ┆ null      ┆ … ┆ null      ┆ null      ┆ null      ┆ null     │\n",
       "└───────────┴───────────┴───────────┴───────────┴───┴───────────┴───────────┴───────────┴──────────┘"
      ]
     },
     "execution_count": 6,
     "metadata": {},
     "output_type": "execute_result"
    }
   ],
   "source": [
    "df.sample(20).transpose()"
   ]
  },
  {
   "cell_type": "code",
   "execution_count": 7,
   "metadata": {},
   "outputs": [
    {
     "data": {
      "text/plain": [
       "(5791, 40)"
      ]
     },
     "execution_count": 7,
     "metadata": {},
     "output_type": "execute_result"
    }
   ],
   "source": [
    "df.shape"
   ]
  },
  {
   "cell_type": "code",
   "execution_count": 8,
   "metadata": {},
   "outputs": [
    {
     "data": {
      "text/plain": [
       "[Int64,\n",
       " String,\n",
       " String,\n",
       " String,\n",
       " Float64,\n",
       " Float64,\n",
       " Float64,\n",
       " Float64,\n",
       " Float64,\n",
       " Float64,\n",
       " Float64,\n",
       " Float64,\n",
       " Float64,\n",
       " Float64,\n",
       " Float64,\n",
       " Int64,\n",
       " Int64,\n",
       " Int64,\n",
       " Int64,\n",
       " Int64,\n",
       " Int64,\n",
       " Int64,\n",
       " String,\n",
       " String,\n",
       " String,\n",
       " String,\n",
       " String,\n",
       " String,\n",
       " String,\n",
       " String,\n",
       " String,\n",
       " String,\n",
       " String,\n",
       " String,\n",
       " String,\n",
       " String,\n",
       " String,\n",
       " String,\n",
       " String,\n",
       " String]"
      ]
     },
     "execution_count": 8,
     "metadata": {},
     "output_type": "execute_result"
    }
   ],
   "source": [
    "df.dtypes"
   ]
  },
  {
   "cell_type": "code",
   "execution_count": null,
   "metadata": {},
   "outputs": [],
   "source": []
  },
  {
   "cell_type": "code",
   "execution_count": 9,
   "metadata": {},
   "outputs": [
    {
     "data": {
      "text/plain": [
       "2914731"
      ]
     },
     "execution_count": 9,
     "metadata": {},
     "output_type": "execute_result"
    }
   ],
   "source": [
    "df.estimated_size()"
   ]
  },
  {
   "cell_type": "code",
   "execution_count": 10,
   "metadata": {},
   "outputs": [
    {
     "data": {
      "text/html": [
       "<div><style>\n",
       ".dataframe > thead > tr,\n",
       ".dataframe > tbody > tr {\n",
       "  text-align: right;\n",
       "  white-space: pre-wrap;\n",
       "}\n",
       "</style>\n",
       "<small>shape: (9, 41)</small><table border=\"1\" class=\"dataframe\"><thead><tr><th>describe</th><th>Tweet id</th><th>Tweet permalink</th><th>Tweet text</th><th>time</th><th>impressions</th><th>engagements</th><th>engagement rate</th><th>retweets</th><th>replies</th><th>likes</th><th>user profile clicks</th><th>url clicks</th><th>hashtag clicks</th><th>detail expands</th><th>permalink clicks</th><th>app opens</th><th>app installs</th><th>follows</th><th>email tweet</th><th>dial phone</th><th>media views</th><th>media engagements</th><th>promoted impressions</th><th>promoted engagements</th><th>promoted engagement rate</th><th>promoted retweets</th><th>promoted replies</th><th>promoted likes</th><th>promoted user profile clicks</th><th>promoted url clicks</th><th>promoted hashtag clicks</th><th>promoted detail expands</th><th>promoted permalink clicks</th><th>promoted app opens</th><th>promoted app installs</th><th>promoted follows</th><th>promoted email tweet</th><th>promoted dial phone</th><th>promoted media views</th><th>promoted media engagements</th></tr><tr><td>str</td><td>f64</td><td>str</td><td>str</td><td>str</td><td>f64</td><td>f64</td><td>f64</td><td>f64</td><td>f64</td><td>f64</td><td>f64</td><td>f64</td><td>f64</td><td>f64</td><td>f64</td><td>f64</td><td>f64</td><td>f64</td><td>f64</td><td>f64</td><td>f64</td><td>f64</td><td>str</td><td>str</td><td>str</td><td>str</td><td>str</td><td>str</td><td>str</td><td>str</td><td>str</td><td>str</td><td>str</td><td>str</td><td>str</td><td>str</td><td>str</td><td>str</td><td>str</td><td>str</td></tr></thead><tbody><tr><td>&quot;count&quot;</td><td>5791.0</td><td>&quot;5791&quot;</td><td>&quot;5791&quot;</td><td>&quot;5791&quot;</td><td>5791.0</td><td>5791.0</td><td>5791.0</td><td>5791.0</td><td>5791.0</td><td>5791.0</td><td>5791.0</td><td>5791.0</td><td>5791.0</td><td>5791.0</td><td>5791.0</td><td>5791.0</td><td>5791.0</td><td>5791.0</td><td>5791.0</td><td>5791.0</td><td>5791.0</td><td>5791.0</td><td>&quot;0&quot;</td><td>&quot;0&quot;</td><td>&quot;0&quot;</td><td>&quot;0&quot;</td><td>&quot;0&quot;</td><td>&quot;0&quot;</td><td>&quot;0&quot;</td><td>&quot;0&quot;</td><td>&quot;0&quot;</td><td>&quot;0&quot;</td><td>&quot;0&quot;</td><td>&quot;0&quot;</td><td>&quot;0&quot;</td><td>&quot;0&quot;</td><td>&quot;0&quot;</td><td>&quot;0&quot;</td><td>&quot;0&quot;</td><td>&quot;0&quot;</td></tr><tr><td>&quot;null_count&quot;</td><td>0.0</td><td>&quot;0&quot;</td><td>&quot;0&quot;</td><td>&quot;0&quot;</td><td>0.0</td><td>0.0</td><td>0.0</td><td>0.0</td><td>0.0</td><td>0.0</td><td>0.0</td><td>0.0</td><td>0.0</td><td>0.0</td><td>0.0</td><td>0.0</td><td>0.0</td><td>0.0</td><td>0.0</td><td>0.0</td><td>0.0</td><td>0.0</td><td>&quot;5791&quot;</td><td>&quot;5791&quot;</td><td>&quot;5791&quot;</td><td>&quot;5791&quot;</td><td>&quot;5791&quot;</td><td>&quot;5791&quot;</td><td>&quot;5791&quot;</td><td>&quot;5791&quot;</td><td>&quot;5791&quot;</td><td>&quot;5791&quot;</td><td>&quot;5791&quot;</td><td>&quot;5791&quot;</td><td>&quot;5791&quot;</td><td>&quot;5791&quot;</td><td>&quot;5791&quot;</td><td>&quot;5791&quot;</td><td>&quot;5791&quot;</td><td>&quot;5791&quot;</td></tr><tr><td>&quot;mean&quot;</td><td>1.3604e18</td><td>null</td><td>null</td><td>null</td><td>2297.820411</td><td>111.400967</td><td>0.034748</td><td>0.979796</td><td>1.124504</td><td>9.400622</td><td>20.594543</td><td>4.502331</td><td>0.019686</td><td>34.658436</td><td>0.0</td><td>0.001036</td><td>0.0</td><td>0.135901</td><td>0.0</td><td>0.0</td><td>39.868935</td><td>39.712485</td><td>null</td><td>null</td><td>null</td><td>null</td><td>null</td><td>null</td><td>null</td><td>null</td><td>null</td><td>null</td><td>null</td><td>null</td><td>null</td><td>null</td><td>null</td><td>null</td><td>null</td><td>null</td></tr><tr><td>&quot;std&quot;</td><td>6.8508e16</td><td>null</td><td>null</td><td>null</td><td>16414.560844</td><td>976.353689</td><td>0.050031</td><td>10.903919</td><td>6.322059</td><td>108.117865</td><td>436.521415</td><td>32.377223</td><td>0.302481</td><td>355.671163</td><td>0.0</td><td>0.045513</td><td>0.0</td><td>3.870531</td><td>0.0</td><td>0.0</td><td>333.838003</td><td>333.753866</td><td>null</td><td>null</td><td>null</td><td>null</td><td>null</td><td>null</td><td>null</td><td>null</td><td>null</td><td>null</td><td>null</td><td>null</td><td>null</td><td>null</td><td>null</td><td>null</td><td>null</td><td>null</td></tr><tr><td>&quot;min&quot;</td><td>1.2126e18</td><td>&quot;https://twitte…</td><td>&quot;&quot;i&quot; has a spec…</td><td>&quot;2020-01-02 03:…</td><td>7.0</td><td>0.0</td><td>0.0</td><td>0.0</td><td>0.0</td><td>0.0</td><td>0.0</td><td>0.0</td><td>0.0</td><td>0.0</td><td>0.0</td><td>0.0</td><td>0.0</td><td>0.0</td><td>0.0</td><td>0.0</td><td>0.0</td><td>0.0</td><td>null</td><td>null</td><td>null</td><td>null</td><td>null</td><td>null</td><td>null</td><td>null</td><td>null</td><td>null</td><td>null</td><td>null</td><td>null</td><td>null</td><td>null</td><td>null</td><td>null</td><td>null</td></tr><tr><td>&quot;25%&quot;</td><td>1.3142e18</td><td>null</td><td>null</td><td>null</td><td>175.0</td><td>3.0</td><td>0.007064</td><td>0.0</td><td>0.0</td><td>0.0</td><td>0.0</td><td>0.0</td><td>0.0</td><td>1.0</td><td>0.0</td><td>0.0</td><td>0.0</td><td>0.0</td><td>0.0</td><td>0.0</td><td>0.0</td><td>0.0</td><td>null</td><td>null</td><td>null</td><td>null</td><td>null</td><td>null</td><td>null</td><td>null</td><td>null</td><td>null</td><td>null</td><td>null</td><td>null</td><td>null</td><td>null</td><td>null</td><td>null</td><td>null</td></tr><tr><td>&quot;50%&quot;</td><td>1.3589e18</td><td>null</td><td>null</td><td>null</td><td>612.0</td><td>7.0</td><td>0.016043</td><td>0.0</td><td>0.0</td><td>1.0</td><td>1.0</td><td>0.0</td><td>0.0</td><td>3.0</td><td>0.0</td><td>0.0</td><td>0.0</td><td>0.0</td><td>0.0</td><td>0.0</td><td>0.0</td><td>0.0</td><td>null</td><td>null</td><td>null</td><td>null</td><td>null</td><td>null</td><td>null</td><td>null</td><td>null</td><td>null</td><td>null</td><td>null</td><td>null</td><td>null</td><td>null</td><td>null</td><td>null</td><td>null</td></tr><tr><td>&quot;75%&quot;</td><td>1.4155e18</td><td>null</td><td>null</td><td>null</td><td>1617.0</td><td>25.0</td><td>0.040902</td><td>0.0</td><td>1.0</td><td>4.0</td><td>4.0</td><td>0.0</td><td>0.0</td><td>8.0</td><td>0.0</td><td>0.0</td><td>0.0</td><td>0.0</td><td>0.0</td><td>0.0</td><td>0.0</td><td>0.0</td><td>null</td><td>null</td><td>null</td><td>null</td><td>null</td><td>null</td><td>null</td><td>null</td><td>null</td><td>null</td><td>null</td><td>null</td><td>null</td><td>null</td><td>null</td><td>null</td><td>null</td><td>null</td></tr><tr><td>&quot;max&quot;</td><td>1.4770e18</td><td>&quot;https://twitte…</td><td>&quot;🤯🙏 https://t.c…</td><td>&quot;2021-12-31 21:…</td><td>856749.0</td><td>45660.0</td><td>0.484127</td><td>465.0</td><td>207.0</td><td>5358.0</td><td>22393.0</td><td>1272.0</td><td>12.0</td><td>17078.0</td><td>0.0</td><td>3.0</td><td>0.0</td><td>191.0</td><td>0.0</td><td>0.0</td><td>16816.0</td><td>16816.0</td><td>null</td><td>null</td><td>null</td><td>null</td><td>null</td><td>null</td><td>null</td><td>null</td><td>null</td><td>null</td><td>null</td><td>null</td><td>null</td><td>null</td><td>null</td><td>null</td><td>null</td><td>null</td></tr></tbody></table></div>"
      ],
      "text/plain": [
       "shape: (9, 41)\n",
       "┌───────────┬───────────┬───────────┬───────────┬───┬───────────┬───────────┬───────────┬──────────┐\n",
       "│ describe  ┆ Tweet id  ┆ Tweet     ┆ Tweet     ┆ … ┆ promoted  ┆ promoted  ┆ promoted  ┆ promoted │\n",
       "│ ---       ┆ ---       ┆ permalink ┆ text      ┆   ┆ email     ┆ dial      ┆ media     ┆ media    │\n",
       "│ str       ┆ f64       ┆ ---       ┆ ---       ┆   ┆ tweet     ┆ phone     ┆ views     ┆ engageme │\n",
       "│           ┆           ┆ str       ┆ str       ┆   ┆ ---       ┆ ---       ┆ ---       ┆ nts      │\n",
       "│           ┆           ┆           ┆           ┆   ┆ str       ┆ str       ┆ str       ┆ ---      │\n",
       "│           ┆           ┆           ┆           ┆   ┆           ┆           ┆           ┆ str      │\n",
       "╞═══════════╪═══════════╪═══════════╪═══════════╪═══╪═══════════╪═══════════╪═══════════╪══════════╡\n",
       "│ count     ┆ 5791.0    ┆ 5791      ┆ 5791      ┆ … ┆ 0         ┆ 0         ┆ 0         ┆ 0        │\n",
       "│ null_coun ┆ 0.0       ┆ 0         ┆ 0         ┆ … ┆ 5791      ┆ 5791      ┆ 5791      ┆ 5791     │\n",
       "│ t         ┆           ┆           ┆           ┆   ┆           ┆           ┆           ┆          │\n",
       "│ mean      ┆ 1.3604e18 ┆ null      ┆ null      ┆ … ┆ null      ┆ null      ┆ null      ┆ null     │\n",
       "│ std       ┆ 6.8508e16 ┆ null      ┆ null      ┆ … ┆ null      ┆ null      ┆ null      ┆ null     │\n",
       "│ min       ┆ 1.2126e18 ┆ https://t ┆ \"i\" has a ┆ … ┆ null      ┆ null      ┆ null      ┆ null     │\n",
       "│           ┆           ┆ witter.co ┆ specific  ┆   ┆           ┆           ┆           ┆          │\n",
       "│           ┆           ┆ m/__mharr ┆ connotati ┆   ┆           ┆           ┆           ┆          │\n",
       "│           ┆           ┆ ison_…    ┆ on i…     ┆   ┆           ┆           ┆           ┆          │\n",
       "│ 25%       ┆ 1.3142e18 ┆ null      ┆ null      ┆ … ┆ null      ┆ null      ┆ null      ┆ null     │\n",
       "│ 50%       ┆ 1.3589e18 ┆ null      ┆ null      ┆ … ┆ null      ┆ null      ┆ null      ┆ null     │\n",
       "│ 75%       ┆ 1.4155e18 ┆ null      ┆ null      ┆ … ┆ null      ┆ null      ┆ null      ┆ null     │\n",
       "│ max       ┆ 1.4770e18 ┆ https://t ┆ 🤯🙏 http ┆ … ┆ null      ┆ null      ┆ null      ┆ null     │\n",
       "│           ┆           ┆ witter.co ┆ s://t.co/ ┆   ┆           ┆           ┆           ┆          │\n",
       "│           ┆           ┆ m/__mharr ┆ AsLaS3Hrd ┆   ┆           ┆           ┆           ┆          │\n",
       "│           ┆           ┆ ison_…    ┆ v         ┆   ┆           ┆           ┆           ┆          │\n",
       "└───────────┴───────────┴───────────┴───────────┴───┴───────────┴───────────┴───────────┴──────────┘"
      ]
     },
     "execution_count": 10,
     "metadata": {},
     "output_type": "execute_result"
    }
   ],
   "source": [
    "df.describe()"
   ]
  },
  {
   "cell_type": "code",
   "execution_count": 11,
   "metadata": {},
   "outputs": [
    {
     "data": {
      "text/html": [
       "<div><style>\n",
       ".dataframe > thead > tr,\n",
       ".dataframe > tbody > tr {\n",
       "  text-align: right;\n",
       "  white-space: pre-wrap;\n",
       "}\n",
       "</style>\n",
       "<small>shape: (1, 40)</small><table border=\"1\" class=\"dataframe\"><thead><tr><th>Tweet id</th><th>Tweet permalink</th><th>Tweet text</th><th>time</th><th>impressions</th><th>engagements</th><th>engagement rate</th><th>retweets</th><th>replies</th><th>likes</th><th>user profile clicks</th><th>url clicks</th><th>hashtag clicks</th><th>detail expands</th><th>permalink clicks</th><th>app opens</th><th>app installs</th><th>follows</th><th>email tweet</th><th>dial phone</th><th>media views</th><th>media engagements</th><th>promoted impressions</th><th>promoted engagements</th><th>promoted engagement rate</th><th>promoted retweets</th><th>promoted replies</th><th>promoted likes</th><th>promoted user profile clicks</th><th>promoted url clicks</th><th>promoted hashtag clicks</th><th>promoted detail expands</th><th>promoted permalink clicks</th><th>promoted app opens</th><th>promoted app installs</th><th>promoted follows</th><th>promoted email tweet</th><th>promoted dial phone</th><th>promoted media views</th><th>promoted media engagements</th></tr><tr><td>f64</td><td>str</td><td>str</td><td>str</td><td>f64</td><td>f64</td><td>f64</td><td>f64</td><td>f64</td><td>f64</td><td>f64</td><td>f64</td><td>f64</td><td>f64</td><td>f64</td><td>f64</td><td>f64</td><td>f64</td><td>f64</td><td>f64</td><td>f64</td><td>f64</td><td>str</td><td>str</td><td>str</td><td>str</td><td>str</td><td>str</td><td>str</td><td>str</td><td>str</td><td>str</td><td>str</td><td>str</td><td>str</td><td>str</td><td>str</td><td>str</td><td>str</td><td>str</td></tr></thead><tbody><tr><td>1.3142e18</td><td>null</td><td>null</td><td>null</td><td>175.0</td><td>3.0</td><td>0.007064</td><td>0.0</td><td>0.0</td><td>0.0</td><td>0.0</td><td>0.0</td><td>0.0</td><td>1.0</td><td>0.0</td><td>0.0</td><td>0.0</td><td>0.0</td><td>0.0</td><td>0.0</td><td>0.0</td><td>0.0</td><td>null</td><td>null</td><td>null</td><td>null</td><td>null</td><td>null</td><td>null</td><td>null</td><td>null</td><td>null</td><td>null</td><td>null</td><td>null</td><td>null</td><td>null</td><td>null</td><td>null</td><td>null</td></tr></tbody></table></div>"
      ],
      "text/plain": [
       "shape: (1, 40)\n",
       "┌───────────┬─────────────┬───────┬──────┬───┬─────────────┬─────────────┬────────────┬────────────┐\n",
       "│ Tweet id  ┆ Tweet       ┆ Tweet ┆ time ┆ … ┆ promoted    ┆ promoted    ┆ promoted   ┆ promoted   │\n",
       "│ ---       ┆ permalink   ┆ text  ┆ ---  ┆   ┆ email tweet ┆ dial phone  ┆ media      ┆ media enga │\n",
       "│ f64       ┆ ---         ┆ ---   ┆ str  ┆   ┆ ---         ┆ ---         ┆ views      ┆ gements    │\n",
       "│           ┆ str         ┆ str   ┆      ┆   ┆ str         ┆ str         ┆ ---        ┆ ---        │\n",
       "│           ┆             ┆       ┆      ┆   ┆             ┆             ┆ str        ┆ str        │\n",
       "╞═══════════╪═════════════╪═══════╪══════╪═══╪═════════════╪═════════════╪════════════╪════════════╡\n",
       "│ 1.3142e18 ┆ null        ┆ null  ┆ null ┆ … ┆ null        ┆ null        ┆ null       ┆ null       │\n",
       "└───────────┴─────────────┴───────┴──────┴───┴─────────────┴─────────────┴────────────┴────────────┘"
      ]
     },
     "execution_count": 11,
     "metadata": {},
     "output_type": "execute_result"
    }
   ],
   "source": [
    "df.quantile(.25)"
   ]
  },
  {
   "cell_type": "code",
   "execution_count": 12,
   "metadata": {},
   "outputs": [
    {
     "data": {
      "text/html": [
       "<div><style>\n",
       ".dataframe > thead > tr,\n",
       ".dataframe > tbody > tr {\n",
       "  text-align: right;\n",
       "  white-space: pre-wrap;\n",
       "}\n",
       "</style>\n",
       "<small>shape: (5_791, 40)</small><table border=\"1\" class=\"dataframe\"><thead><tr><th>Tweet id</th><th>Tweet permalink</th><th>Tweet text</th><th>time</th><th>impressions</th><th>engagements</th><th>engagement rate</th><th>retweets</th><th>replies</th><th>likes</th><th>user profile clicks</th><th>url clicks</th><th>hashtag clicks</th><th>detail expands</th><th>permalink clicks</th><th>app opens</th><th>app installs</th><th>follows</th><th>email tweet</th><th>dial phone</th><th>media views</th><th>media engagements</th><th>promoted impressions</th><th>promoted engagements</th><th>promoted engagement rate</th><th>promoted retweets</th><th>promoted replies</th><th>promoted likes</th><th>promoted user profile clicks</th><th>promoted url clicks</th><th>promoted hashtag clicks</th><th>promoted detail expands</th><th>promoted permalink clicks</th><th>promoted app opens</th><th>promoted app installs</th><th>promoted follows</th><th>promoted email tweet</th><th>promoted dial phone</th><th>promoted media views</th><th>promoted media engagements</th></tr><tr><td>i64</td><td>str</td><td>str</td><td>str</td><td>f64</td><td>f64</td><td>f64</td><td>f64</td><td>f64</td><td>f64</td><td>f64</td><td>f64</td><td>f64</td><td>f64</td><td>f64</td><td>i64</td><td>i64</td><td>i64</td><td>i64</td><td>i64</td><td>i64</td><td>i64</td><td>str</td><td>str</td><td>str</td><td>str</td><td>str</td><td>str</td><td>str</td><td>str</td><td>str</td><td>str</td><td>str</td><td>str</td><td>str</td><td>str</td><td>str</td><td>str</td><td>str</td><td>str</td></tr></thead><tbody><tr><td>1212580517905780737</td><td>&quot;https://twitte…</td><td>&quot;Sounds like a …</td><td>&quot;2020-01-02 03:…</td><td>1465.0</td><td>7.0</td><td>0.004778</td><td>0.0</td><td>0.0</td><td>3.0</td><td>3.0</td><td>0.0</td><td>0.0</td><td>1.0</td><td>0.0</td><td>0</td><td>0</td><td>0</td><td>0</td><td>0</td><td>0</td><td>0</td><td>null</td><td>null</td><td>null</td><td>null</td><td>null</td><td>null</td><td>null</td><td>null</td><td>null</td><td>null</td><td>null</td><td>null</td><td>null</td><td>null</td><td>null</td><td>null</td><td>null</td><td>null</td></tr><tr><td>1212582494828036097</td><td>&quot;https://twitte…</td><td>&quot;@FogleBird Loo…</td><td>&quot;2020-01-02 03:…</td><td>154.0</td><td>3.0</td><td>0.019481</td><td>0.0</td><td>0.0</td><td>1.0</td><td>1.0</td><td>0.0</td><td>0.0</td><td>1.0</td><td>0.0</td><td>0</td><td>0</td><td>0</td><td>0</td><td>0</td><td>0</td><td>0</td><td>null</td><td>null</td><td>null</td><td>null</td><td>null</td><td>null</td><td>null</td><td>null</td><td>null</td><td>null</td><td>null</td><td>null</td><td>null</td><td>null</td><td>null</td><td>null</td><td>null</td><td>null</td></tr><tr><td>1212613735698690049</td><td>&quot;https://twitte…</td><td>&quot;@afilina That&#x27;…</td><td>&quot;2020-01-02 05:…</td><td>1024.0</td><td>6.0</td><td>0.005859</td><td>0.0</td><td>0.0</td><td>1.0</td><td>2.0</td><td>0.0</td><td>0.0</td><td>3.0</td><td>0.0</td><td>0</td><td>0</td><td>0</td><td>0</td><td>0</td><td>0</td><td>0</td><td>null</td><td>null</td><td>null</td><td>null</td><td>null</td><td>null</td><td>null</td><td>null</td><td>null</td><td>null</td><td>null</td><td>null</td><td>null</td><td>null</td><td>null</td><td>null</td><td>null</td><td>null</td></tr><tr><td>1212911749617242113</td><td>&quot;https://twitte…</td><td>&quot;@randal_olson …</td><td>&quot;2020-01-03 01:…</td><td>1419.0</td><td>14.0</td><td>0.009866</td><td>0.0</td><td>1.0</td><td>5.0</td><td>7.0</td><td>0.0</td><td>0.0</td><td>1.0</td><td>0.0</td><td>0</td><td>0</td><td>0</td><td>0</td><td>0</td><td>0</td><td>0</td><td>null</td><td>null</td><td>null</td><td>null</td><td>null</td><td>null</td><td>null</td><td>null</td><td>null</td><td>null</td><td>null</td><td>null</td><td>null</td><td>null</td><td>null</td><td>null</td><td>null</td><td>null</td></tr><tr><td>1212920556028252160</td><td>&quot;https://twitte…</td><td>&quot;@AlSweigart So…</td><td>&quot;2020-01-03 02:…</td><td>198.0</td><td>1.0</td><td>0.005051</td><td>0.0</td><td>0.0</td><td>1.0</td><td>0.0</td><td>0.0</td><td>0.0</td><td>0.0</td><td>0.0</td><td>0</td><td>0</td><td>0</td><td>0</td><td>0</td><td>0</td><td>0</td><td>null</td><td>null</td><td>null</td><td>null</td><td>null</td><td>null</td><td>null</td><td>null</td><td>null</td><td>null</td><td>null</td><td>null</td><td>null</td><td>null</td><td>null</td><td>null</td><td>null</td><td>null</td></tr><tr><td>1212921038356434947</td><td>&quot;https://twitte…</td><td>&quot;@tmarthal @Ted…</td><td>&quot;2020-01-03 02:…</td><td>170.0</td><td>3.0</td><td>0.017647</td><td>0.0</td><td>0.0</td><td>1.0</td><td>1.0</td><td>0.0</td><td>0.0</td><td>1.0</td><td>0.0</td><td>0</td><td>0</td><td>0</td><td>0</td><td>0</td><td>0</td><td>0</td><td>null</td><td>null</td><td>null</td><td>null</td><td>null</td><td>null</td><td>null</td><td>null</td><td>null</td><td>null</td><td>null</td><td>null</td><td>null</td><td>null</td><td>null</td><td>null</td><td>null</td><td>null</td></tr><tr><td>1212921192287330304</td><td>&quot;https://twitte…</td><td>&quot;@gabegundy It&#x27;…</td><td>&quot;2020-01-03 02:…</td><td>104.0</td><td>2.0</td><td>0.019231</td><td>0.0</td><td>1.0</td><td>1.0</td><td>0.0</td><td>0.0</td><td>0.0</td><td>0.0</td><td>0.0</td><td>0</td><td>0</td><td>0</td><td>0</td><td>0</td><td>0</td><td>0</td><td>null</td><td>null</td><td>null</td><td>null</td><td>null</td><td>null</td><td>null</td><td>null</td><td>null</td><td>null</td><td>null</td><td>null</td><td>null</td><td>null</td><td>null</td><td>null</td><td>null</td><td>null</td></tr><tr><td>1212969747186208768</td><td>&quot;https://twitte…</td><td>&quot;@anthonypjshaw…</td><td>&quot;2020-01-03 05:…</td><td>189.0</td><td>0.0</td><td>0.0</td><td>0.0</td><td>0.0</td><td>0.0</td><td>0.0</td><td>0.0</td><td>0.0</td><td>0.0</td><td>0.0</td><td>0</td><td>0</td><td>0</td><td>0</td><td>0</td><td>0</td><td>0</td><td>null</td><td>null</td><td>null</td><td>null</td><td>null</td><td>null</td><td>null</td><td>null</td><td>null</td><td>null</td><td>null</td><td>null</td><td>null</td><td>null</td><td>null</td><td>null</td><td>null</td><td>null</td></tr><tr><td>1212971634019033088</td><td>&quot;https://twitte…</td><td>&quot;@jet_set A lit…</td><td>&quot;2020-01-03 05:…</td><td>900.0</td><td>4.0</td><td>0.004444</td><td>0.0</td><td>0.0</td><td>0.0</td><td>4.0</td><td>0.0</td><td>0.0</td><td>0.0</td><td>0.0</td><td>0</td><td>0</td><td>0</td><td>0</td><td>0</td><td>0</td><td>0</td><td>null</td><td>null</td><td>null</td><td>null</td><td>null</td><td>null</td><td>null</td><td>null</td><td>null</td><td>null</td><td>null</td><td>null</td><td>null</td><td>null</td><td>null</td><td>null</td><td>null</td><td>null</td></tr><tr><td>1213194379793293312</td><td>&quot;https://twitte…</td><td>&quot;@juliasilge @r…</td><td>&quot;2020-01-03 20:…</td><td>252.0</td><td>2.0</td><td>0.007937</td><td>0.0</td><td>0.0</td><td>1.0</td><td>1.0</td><td>0.0</td><td>0.0</td><td>0.0</td><td>0.0</td><td>0</td><td>0</td><td>0</td><td>0</td><td>0</td><td>0</td><td>0</td><td>null</td><td>null</td><td>null</td><td>null</td><td>null</td><td>null</td><td>null</td><td>null</td><td>null</td><td>null</td><td>null</td><td>null</td><td>null</td><td>null</td><td>null</td><td>null</td><td>null</td><td>null</td></tr><tr><td>1213699561962631168</td><td>&quot;https://twitte…</td><td>&quot;Herein you wil…</td><td>&quot;2020-01-05 05:…</td><td>1610.0</td><td>6.0</td><td>0.003727</td><td>0.0</td><td>0.0</td><td>2.0</td><td>2.0</td><td>0.0</td><td>0.0</td><td>2.0</td><td>0.0</td><td>0</td><td>0</td><td>0</td><td>0</td><td>0</td><td>0</td><td>0</td><td>null</td><td>null</td><td>null</td><td>null</td><td>null</td><td>null</td><td>null</td><td>null</td><td>null</td><td>null</td><td>null</td><td>null</td><td>null</td><td>null</td><td>null</td><td>null</td><td>null</td><td>null</td></tr><tr><td>1213896543985516544</td><td>&quot;https://twitte…</td><td>&quot;@Austen Care t…</td><td>&quot;2020-01-05 18:…</td><td>165.0</td><td>3.0</td><td>0.018182</td><td>0.0</td><td>0.0</td><td>0.0</td><td>1.0</td><td>0.0</td><td>0.0</td><td>2.0</td><td>0.0</td><td>0</td><td>0</td><td>0</td><td>0</td><td>0</td><td>0</td><td>0</td><td>null</td><td>null</td><td>null</td><td>null</td><td>null</td><td>null</td><td>null</td><td>null</td><td>null</td><td>null</td><td>null</td><td>null</td><td>null</td><td>null</td><td>null</td><td>null</td><td>null</td><td>null</td></tr><tr><td>&hellip;</td><td>&hellip;</td><td>&hellip;</td><td>&hellip;</td><td>&hellip;</td><td>&hellip;</td><td>&hellip;</td><td>&hellip;</td><td>&hellip;</td><td>&hellip;</td><td>&hellip;</td><td>&hellip;</td><td>&hellip;</td><td>&hellip;</td><td>&hellip;</td><td>&hellip;</td><td>&hellip;</td><td>&hellip;</td><td>&hellip;</td><td>&hellip;</td><td>&hellip;</td><td>&hellip;</td><td>&hellip;</td><td>&hellip;</td><td>&hellip;</td><td>&hellip;</td><td>&hellip;</td><td>&hellip;</td><td>&hellip;</td><td>&hellip;</td><td>&hellip;</td><td>&hellip;</td><td>&hellip;</td><td>&hellip;</td><td>&hellip;</td><td>&hellip;</td><td>&hellip;</td><td>&hellip;</td><td>&hellip;</td><td>&hellip;</td></tr><tr><td>1474805013343981570</td><td>&quot;https://twitte…</td><td>&quot;@EricSchles @s…</td><td>&quot;2021-12-25 18:…</td><td>416.0</td><td>3.0</td><td>0.007212</td><td>0.0</td><td>0.0</td><td>2.0</td><td>1.0</td><td>0.0</td><td>0.0</td><td>0.0</td><td>0.0</td><td>0</td><td>0</td><td>0</td><td>0</td><td>0</td><td>0</td><td>0</td><td>null</td><td>null</td><td>null</td><td>null</td><td>null</td><td>null</td><td>null</td><td>null</td><td>null</td><td>null</td><td>null</td><td>null</td><td>null</td><td>null</td><td>null</td><td>null</td><td>null</td><td>null</td></tr><tr><td>1474820707234185217</td><td>&quot;https://twitte…</td><td>&quot;Mele kalikimak…</td><td>&quot;2021-12-25 19:…</td><td>15840.0</td><td>372.0</td><td>0.023485</td><td>0.0</td><td>2.0</td><td>61.0</td><td>59.0</td><td>6.0</td><td>0.0</td><td>66.0</td><td>0.0</td><td>0</td><td>0</td><td>0</td><td>0</td><td>0</td><td>178</td><td>178</td><td>null</td><td>null</td><td>null</td><td>null</td><td>null</td><td>null</td><td>null</td><td>null</td><td>null</td><td>null</td><td>null</td><td>null</td><td>null</td><td>null</td><td>null</td><td>null</td><td>null</td><td>null</td></tr><tr><td>1475023008620154882</td><td>&quot;https://twitte…</td><td>&quot;Good looking c…</td><td>&quot;2021-12-26 08:…</td><td>22557.0</td><td>501.0</td><td>0.02221</td><td>0.0</td><td>9.0</td><td>50.0</td><td>89.0</td><td>14.0</td><td>0.0</td><td>118.0</td><td>0.0</td><td>0</td><td>0</td><td>0</td><td>0</td><td>0</td><td>221</td><td>221</td><td>null</td><td>null</td><td>null</td><td>null</td><td>null</td><td>null</td><td>null</td><td>null</td><td>null</td><td>null</td><td>null</td><td>null</td><td>null</td><td>null</td><td>null</td><td>null</td><td>null</td><td>null</td></tr><tr><td>1475299210291343362</td><td>&quot;https://twitte…</td><td>&quot;@youtah A litt…</td><td>&quot;2021-12-27 02:…</td><td>1586.0</td><td>35.0</td><td>0.022068</td><td>0.0</td><td>0.0</td><td>2.0</td><td>1.0</td><td>1.0</td><td>0.0</td><td>0.0</td><td>0.0</td><td>0</td><td>0</td><td>0</td><td>0</td><td>0</td><td>31</td><td>31</td><td>null</td><td>null</td><td>null</td><td>null</td><td>null</td><td>null</td><td>null</td><td>null</td><td>null</td><td>null</td><td>null</td><td>null</td><td>null</td><td>null</td><td>null</td><td>null</td><td>null</td><td>null</td></tr><tr><td>1475299401681682434</td><td>&quot;https://twitte…</td><td>&quot;@mathsppblog S…</td><td>&quot;2021-12-27 02:…</td><td>4641.0</td><td>35.0</td><td>0.007541</td><td>0.0</td><td>4.0</td><td>11.0</td><td>10.0</td><td>0.0</td><td>0.0</td><td>10.0</td><td>0.0</td><td>0</td><td>0</td><td>0</td><td>0</td><td>0</td><td>0</td><td>0</td><td>null</td><td>null</td><td>null</td><td>null</td><td>null</td><td>null</td><td>null</td><td>null</td><td>null</td><td>null</td><td>null</td><td>null</td><td>null</td><td>null</td><td>null</td><td>null</td><td>null</td><td>null</td></tr><tr><td>1475299848093978626</td><td>&quot;https://twitte…</td><td>&quot;@willmcgugan P…</td><td>&quot;2021-12-27 02:…</td><td>1969.0</td><td>4.0</td><td>0.002031</td><td>0.0</td><td>0.0</td><td>4.0</td><td>0.0</td><td>0.0</td><td>0.0</td><td>0.0</td><td>0.0</td><td>0</td><td>0</td><td>0</td><td>0</td><td>0</td><td>0</td><td>0</td><td>null</td><td>null</td><td>null</td><td>null</td><td>null</td><td>null</td><td>null</td><td>null</td><td>null</td><td>null</td><td>null</td><td>null</td><td>null</td><td>null</td><td>null</td><td>null</td><td>null</td><td>null</td></tr><tr><td>1475300370138087426</td><td>&quot;https://twitte…</td><td>&quot;@reuvenmlerner…</td><td>&quot;2021-12-27 02:…</td><td>1669.0</td><td>5.0</td><td>0.002996</td><td>0.0</td><td>0.0</td><td>3.0</td><td>0.0</td><td>0.0</td><td>0.0</td><td>2.0</td><td>0.0</td><td>0</td><td>0</td><td>0</td><td>0</td><td>0</td><td>0</td><td>0</td><td>null</td><td>null</td><td>null</td><td>null</td><td>null</td><td>null</td><td>null</td><td>null</td><td>null</td><td>null</td><td>null</td><td>null</td><td>null</td><td>null</td><td>null</td><td>null</td><td>null</td><td>null</td></tr><tr><td>1475300661851934721</td><td>&quot;https://twitte…</td><td>&quot;@allison_horst…</td><td>&quot;2021-12-27 03:…</td><td>986.0</td><td>1.0</td><td>0.001014</td><td>0.0</td><td>0.0</td><td>0.0</td><td>0.0</td><td>0.0</td><td>0.0</td><td>1.0</td><td>0.0</td><td>0</td><td>0</td><td>0</td><td>0</td><td>0</td><td>0</td><td>0</td><td>null</td><td>null</td><td>null</td><td>null</td><td>null</td><td>null</td><td>null</td><td>null</td><td>null</td><td>null</td><td>null</td><td>null</td><td>null</td><td>null</td><td>null</td><td>null</td><td>null</td><td>null</td></tr><tr><td>1475518143690801156</td><td>&quot;https://twitte…</td><td>&quot;@willmcgugan Y…</td><td>&quot;2021-12-27 17:…</td><td>1790.0</td><td>7.0</td><td>0.003911</td><td>0.0</td><td>0.0</td><td>3.0</td><td>1.0</td><td>0.0</td><td>0.0</td><td>3.0</td><td>0.0</td><td>0</td><td>0</td><td>0</td><td>0</td><td>0</td><td>0</td><td>0</td><td>null</td><td>null</td><td>null</td><td>null</td><td>null</td><td>null</td><td>null</td><td>null</td><td>null</td><td>null</td><td>null</td><td>null</td><td>null</td><td>null</td><td>null</td><td>null</td><td>null</td><td>null</td></tr><tr><td>1475891441243025408</td><td>&quot;https://twitte…</td><td>&quot;@posco Visitin…</td><td>&quot;2021-12-28 18:…</td><td>1611.0</td><td>12.0</td><td>0.007449</td><td>0.0</td><td>0.0</td><td>4.0</td><td>4.0</td><td>0.0</td><td>0.0</td><td>4.0</td><td>0.0</td><td>0</td><td>0</td><td>0</td><td>0</td><td>0</td><td>0</td><td>0</td><td>null</td><td>null</td><td>null</td><td>null</td><td>null</td><td>null</td><td>null</td><td>null</td><td>null</td><td>null</td><td>null</td><td>null</td><td>null</td><td>null</td><td>null</td><td>null</td><td>null</td><td>null</td></tr><tr><td>1476453819751878656</td><td>&quot;https://twitte…</td><td>&quot;@johndsaunders…</td><td>&quot;2021-12-30 07:…</td><td>1354.0</td><td>8.0</td><td>0.005908</td><td>0.0</td><td>0.0</td><td>2.0</td><td>4.0</td><td>0.0</td><td>0.0</td><td>2.0</td><td>0.0</td><td>0</td><td>0</td><td>0</td><td>0</td><td>0</td><td>0</td><td>0</td><td>null</td><td>null</td><td>null</td><td>null</td><td>null</td><td>null</td><td>null</td><td>null</td><td>null</td><td>null</td><td>null</td><td>null</td><td>null</td><td>null</td><td>null</td><td>null</td><td>null</td><td>null</td></tr><tr><td>1477024722051158018</td><td>&quot;https://twitte…</td><td>&quot;@tunguz Xgboos…</td><td>&quot;2021-12-31 21:…</td><td>5041.0</td><td>63.0</td><td>0.012498</td><td>0.0</td><td>3.0</td><td>23.0</td><td>8.0</td><td>0.0</td><td>0.0</td><td>29.0</td><td>0.0</td><td>0</td><td>0</td><td>0</td><td>0</td><td>0</td><td>0</td><td>0</td><td>null</td><td>null</td><td>null</td><td>null</td><td>null</td><td>null</td><td>null</td><td>null</td><td>null</td><td>null</td><td>null</td><td>null</td><td>null</td><td>null</td><td>null</td><td>null</td><td>null</td><td>null</td></tr></tbody></table></div>"
      ],
      "text/plain": [
       "shape: (5_791, 40)\n",
       "┌───────────┬───────────┬───────────┬───────────┬───┬───────────┬───────────┬───────────┬──────────┐\n",
       "│ Tweet id  ┆ Tweet     ┆ Tweet     ┆ time      ┆ … ┆ promoted  ┆ promoted  ┆ promoted  ┆ promoted │\n",
       "│ ---       ┆ permalink ┆ text      ┆ ---       ┆   ┆ email     ┆ dial      ┆ media     ┆ media    │\n",
       "│ i64       ┆ ---       ┆ ---       ┆ str       ┆   ┆ tweet     ┆ phone     ┆ views     ┆ engageme │\n",
       "│           ┆ str       ┆ str       ┆           ┆   ┆ ---       ┆ ---       ┆ ---       ┆ nts      │\n",
       "│           ┆           ┆           ┆           ┆   ┆ str       ┆ str       ┆ str       ┆ ---      │\n",
       "│           ┆           ┆           ┆           ┆   ┆           ┆           ┆           ┆ str      │\n",
       "╞═══════════╪═══════════╪═══════════╪═══════════╪═══╪═══════════╪═══════════╪═══════════╪══════════╡\n",
       "│ 121258051 ┆ https://t ┆ Sounds    ┆ 2020-01-0 ┆ … ┆ null      ┆ null      ┆ null      ┆ null     │\n",
       "│ 790578073 ┆ witter.co ┆ like a    ┆ 2 03:44:0 ┆   ┆           ┆           ┆           ┆          │\n",
       "│ 7         ┆ m/__mharr ┆ great     ┆ 0+00:00   ┆   ┆           ┆           ┆           ┆          │\n",
       "│           ┆ ison_…    ┆ topic!    ┆           ┆   ┆           ┆           ┆           ┆          │\n",
       "│           ┆           ┆ https…    ┆           ┆   ┆           ┆           ┆           ┆          │\n",
       "│ 121258249 ┆ https://t ┆ @FogleBir ┆ 2020-01-0 ┆ … ┆ null      ┆ null      ┆ null      ┆ null     │\n",
       "│ 482803609 ┆ witter.co ┆ d Looks   ┆ 2 03:52:0 ┆   ┆           ┆           ┆           ┆          │\n",
       "│ 7         ┆ m/__mharr ┆ like SLC. ┆ 0+00:00   ┆   ┆           ┆           ┆           ┆          │\n",
       "│           ┆ ison_…    ┆ I can…    ┆           ┆   ┆           ┆           ┆           ┆          │\n",
       "│ 121261373 ┆ https://t ┆ @afilina  ┆ 2020-01-0 ┆ … ┆ null      ┆ null      ┆ null      ┆ null     │\n",
       "│ 569869004 ┆ witter.co ┆ That's    ┆ 2 05:56:0 ┆   ┆           ┆           ┆           ┆          │\n",
       "│ 9         ┆ m/__mharr ┆ really    ┆ 0+00:00   ┆   ┆           ┆           ┆           ┆          │\n",
       "│           ┆ ison_…    ┆ amount    ┆           ┆   ┆           ┆           ┆           ┆          │\n",
       "│           ┆           ┆ an…       ┆           ┆   ┆           ┆           ┆           ┆          │\n",
       "│ 121291174 ┆ https://t ┆ @randal_o ┆ 2020-01-0 ┆ … ┆ null      ┆ null      ┆ null      ┆ null     │\n",
       "│ 961724211 ┆ witter.co ┆ lson I    ┆ 3 01:41:0 ┆   ┆           ┆           ┆           ┆          │\n",
       "│ 3         ┆ m/__mharr ┆ use       ┆ 0+00:00   ┆   ┆           ┆           ┆           ┆          │\n",
       "│           ┆ ison_…    ┆ anaconda  ┆           ┆   ┆           ┆           ┆           ┆          │\n",
       "│           ┆           ┆ whe…      ┆           ┆   ┆           ┆           ┆           ┆          │\n",
       "│ …         ┆ …         ┆ …         ┆ …         ┆ … ┆ …         ┆ …         ┆ …         ┆ …        │\n",
       "│ 147551814 ┆ https://t ┆ @willmcgu ┆ 2021-12-2 ┆ … ┆ null      ┆ null      ┆ null      ┆ null     │\n",
       "│ 369080115 ┆ witter.co ┆ gan You   ┆ 7 17:25:0 ┆   ┆           ┆           ┆           ┆          │\n",
       "│ 6         ┆ m/__mharr ┆ need to   ┆ 0+00:00   ┆   ┆           ┆           ┆           ┆          │\n",
       "│           ┆ ison_…    ┆ find ou…  ┆           ┆   ┆           ┆           ┆           ┆          │\n",
       "│ 147589144 ┆ https://t ┆ @posco    ┆ 2021-12-2 ┆ … ┆ null      ┆ null      ┆ null      ┆ null     │\n",
       "│ 124302540 ┆ witter.co ┆ Visiting  ┆ 8 18:08:0 ┆   ┆           ┆           ┆           ┆          │\n",
       "│ 8         ┆ m/__mharr ┆ Hawaii    ┆ 0+00:00   ┆   ┆           ┆           ┆           ┆          │\n",
       "│           ┆ ison_…    ┆ for the   ┆           ┆   ┆           ┆           ┆           ┆          │\n",
       "│           ┆           ┆ h…        ┆           ┆   ┆           ┆           ┆           ┆          │\n",
       "│ 147645381 ┆ https://t ┆ @johndsau ┆ 2021-12-3 ┆ … ┆ null      ┆ null      ┆ null      ┆ null     │\n",
       "│ 975187865 ┆ witter.co ┆ nders My  ┆ 0 07:23:0 ┆   ┆           ┆           ┆           ┆          │\n",
       "│ 6         ┆ m/__mharr ┆ son just  ┆ 0+00:00   ┆   ┆           ┆           ┆           ┆          │\n",
       "│           ┆ ison_…    ┆ built…    ┆           ┆   ┆           ┆           ┆           ┆          │\n",
       "│ 147702472 ┆ https://t ┆ @tunguz   ┆ 2021-12-3 ┆ … ┆ null      ┆ null      ┆ null      ┆ null     │\n",
       "│ 205115801 ┆ witter.co ┆ Xgboost   ┆ 1 21:11:0 ┆   ┆           ┆           ┆           ┆          │\n",
       "│ 8         ┆ m/__mharr ┆           ┆ 0+00:00   ┆   ┆           ┆           ┆           ┆          │\n",
       "│           ┆ ison_…    ┆           ┆           ┆   ┆           ┆           ┆           ┆          │\n",
       "└───────────┴───────────┴───────────┴───────────┴───┴───────────┴───────────┴───────────┴──────────┘"
      ]
     },
     "execution_count": 12,
     "metadata": {},
     "output_type": "execute_result"
    }
   ],
   "source": [
    "df.select(pl.all())"
   ]
  },
  {
   "cell_type": "code",
   "execution_count": 13,
   "metadata": {},
   "outputs": [
    {
     "data": {
      "text/html": [
       "<div><style>\n",
       ".dataframe > thead > tr,\n",
       ".dataframe > tbody > tr {\n",
       "  text-align: right;\n",
       "  white-space: pre-wrap;\n",
       "}\n",
       "</style>\n",
       "<small>shape: (5_791, 11)</small><table border=\"1\" class=\"dataframe\"><thead><tr><th>impressions</th><th>engagements</th><th>engagement rate</th><th>retweets</th><th>replies</th><th>likes</th><th>user profile clicks</th><th>url clicks</th><th>hashtag clicks</th><th>detail expands</th><th>permalink clicks</th></tr><tr><td>f64</td><td>f64</td><td>f64</td><td>f64</td><td>f64</td><td>f64</td><td>f64</td><td>f64</td><td>f64</td><td>f64</td><td>f64</td></tr></thead><tbody><tr><td>1465.0</td><td>7.0</td><td>0.004778</td><td>0.0</td><td>0.0</td><td>3.0</td><td>3.0</td><td>0.0</td><td>0.0</td><td>1.0</td><td>0.0</td></tr><tr><td>154.0</td><td>3.0</td><td>0.019481</td><td>0.0</td><td>0.0</td><td>1.0</td><td>1.0</td><td>0.0</td><td>0.0</td><td>1.0</td><td>0.0</td></tr><tr><td>1024.0</td><td>6.0</td><td>0.005859</td><td>0.0</td><td>0.0</td><td>1.0</td><td>2.0</td><td>0.0</td><td>0.0</td><td>3.0</td><td>0.0</td></tr><tr><td>1419.0</td><td>14.0</td><td>0.009866</td><td>0.0</td><td>1.0</td><td>5.0</td><td>7.0</td><td>0.0</td><td>0.0</td><td>1.0</td><td>0.0</td></tr><tr><td>198.0</td><td>1.0</td><td>0.005051</td><td>0.0</td><td>0.0</td><td>1.0</td><td>0.0</td><td>0.0</td><td>0.0</td><td>0.0</td><td>0.0</td></tr><tr><td>170.0</td><td>3.0</td><td>0.017647</td><td>0.0</td><td>0.0</td><td>1.0</td><td>1.0</td><td>0.0</td><td>0.0</td><td>1.0</td><td>0.0</td></tr><tr><td>104.0</td><td>2.0</td><td>0.019231</td><td>0.0</td><td>1.0</td><td>1.0</td><td>0.0</td><td>0.0</td><td>0.0</td><td>0.0</td><td>0.0</td></tr><tr><td>189.0</td><td>0.0</td><td>0.0</td><td>0.0</td><td>0.0</td><td>0.0</td><td>0.0</td><td>0.0</td><td>0.0</td><td>0.0</td><td>0.0</td></tr><tr><td>900.0</td><td>4.0</td><td>0.004444</td><td>0.0</td><td>0.0</td><td>0.0</td><td>4.0</td><td>0.0</td><td>0.0</td><td>0.0</td><td>0.0</td></tr><tr><td>252.0</td><td>2.0</td><td>0.007937</td><td>0.0</td><td>0.0</td><td>1.0</td><td>1.0</td><td>0.0</td><td>0.0</td><td>0.0</td><td>0.0</td></tr><tr><td>1610.0</td><td>6.0</td><td>0.003727</td><td>0.0</td><td>0.0</td><td>2.0</td><td>2.0</td><td>0.0</td><td>0.0</td><td>2.0</td><td>0.0</td></tr><tr><td>165.0</td><td>3.0</td><td>0.018182</td><td>0.0</td><td>0.0</td><td>0.0</td><td>1.0</td><td>0.0</td><td>0.0</td><td>2.0</td><td>0.0</td></tr><tr><td>&hellip;</td><td>&hellip;</td><td>&hellip;</td><td>&hellip;</td><td>&hellip;</td><td>&hellip;</td><td>&hellip;</td><td>&hellip;</td><td>&hellip;</td><td>&hellip;</td><td>&hellip;</td></tr><tr><td>416.0</td><td>3.0</td><td>0.007212</td><td>0.0</td><td>0.0</td><td>2.0</td><td>1.0</td><td>0.0</td><td>0.0</td><td>0.0</td><td>0.0</td></tr><tr><td>15840.0</td><td>372.0</td><td>0.023485</td><td>0.0</td><td>2.0</td><td>61.0</td><td>59.0</td><td>6.0</td><td>0.0</td><td>66.0</td><td>0.0</td></tr><tr><td>22557.0</td><td>501.0</td><td>0.02221</td><td>0.0</td><td>9.0</td><td>50.0</td><td>89.0</td><td>14.0</td><td>0.0</td><td>118.0</td><td>0.0</td></tr><tr><td>1586.0</td><td>35.0</td><td>0.022068</td><td>0.0</td><td>0.0</td><td>2.0</td><td>1.0</td><td>1.0</td><td>0.0</td><td>0.0</td><td>0.0</td></tr><tr><td>4641.0</td><td>35.0</td><td>0.007541</td><td>0.0</td><td>4.0</td><td>11.0</td><td>10.0</td><td>0.0</td><td>0.0</td><td>10.0</td><td>0.0</td></tr><tr><td>1969.0</td><td>4.0</td><td>0.002031</td><td>0.0</td><td>0.0</td><td>4.0</td><td>0.0</td><td>0.0</td><td>0.0</td><td>0.0</td><td>0.0</td></tr><tr><td>1669.0</td><td>5.0</td><td>0.002996</td><td>0.0</td><td>0.0</td><td>3.0</td><td>0.0</td><td>0.0</td><td>0.0</td><td>2.0</td><td>0.0</td></tr><tr><td>986.0</td><td>1.0</td><td>0.001014</td><td>0.0</td><td>0.0</td><td>0.0</td><td>0.0</td><td>0.0</td><td>0.0</td><td>1.0</td><td>0.0</td></tr><tr><td>1790.0</td><td>7.0</td><td>0.003911</td><td>0.0</td><td>0.0</td><td>3.0</td><td>1.0</td><td>0.0</td><td>0.0</td><td>3.0</td><td>0.0</td></tr><tr><td>1611.0</td><td>12.0</td><td>0.007449</td><td>0.0</td><td>0.0</td><td>4.0</td><td>4.0</td><td>0.0</td><td>0.0</td><td>4.0</td><td>0.0</td></tr><tr><td>1354.0</td><td>8.0</td><td>0.005908</td><td>0.0</td><td>0.0</td><td>2.0</td><td>4.0</td><td>0.0</td><td>0.0</td><td>2.0</td><td>0.0</td></tr><tr><td>5041.0</td><td>63.0</td><td>0.012498</td><td>0.0</td><td>3.0</td><td>23.0</td><td>8.0</td><td>0.0</td><td>0.0</td><td>29.0</td><td>0.0</td></tr></tbody></table></div>"
      ],
      "text/plain": [
       "shape: (5_791, 11)\n",
       "┌────────────┬────────────┬────────────┬──────────┬───┬────────┬───────────┬───────────┬───────────┐\n",
       "│ impression ┆ engagement ┆ engagement ┆ retweets ┆ … ┆ url    ┆ hashtag   ┆ detail    ┆ permalink │\n",
       "│ s          ┆ s          ┆ rate       ┆ ---      ┆   ┆ clicks ┆ clicks    ┆ expands   ┆ clicks    │\n",
       "│ ---        ┆ ---        ┆ ---        ┆ f64      ┆   ┆ ---    ┆ ---       ┆ ---       ┆ ---       │\n",
       "│ f64        ┆ f64        ┆ f64        ┆          ┆   ┆ f64    ┆ f64       ┆ f64       ┆ f64       │\n",
       "╞════════════╪════════════╪════════════╪══════════╪═══╪════════╪═══════════╪═══════════╪═══════════╡\n",
       "│ 1465.0     ┆ 7.0        ┆ 0.004778   ┆ 0.0      ┆ … ┆ 0.0    ┆ 0.0       ┆ 1.0       ┆ 0.0       │\n",
       "│ 154.0      ┆ 3.0        ┆ 0.019481   ┆ 0.0      ┆ … ┆ 0.0    ┆ 0.0       ┆ 1.0       ┆ 0.0       │\n",
       "│ 1024.0     ┆ 6.0        ┆ 0.005859   ┆ 0.0      ┆ … ┆ 0.0    ┆ 0.0       ┆ 3.0       ┆ 0.0       │\n",
       "│ 1419.0     ┆ 14.0       ┆ 0.009866   ┆ 0.0      ┆ … ┆ 0.0    ┆ 0.0       ┆ 1.0       ┆ 0.0       │\n",
       "│ …          ┆ …          ┆ …          ┆ …        ┆ … ┆ …      ┆ …         ┆ …         ┆ …         │\n",
       "│ 1790.0     ┆ 7.0        ┆ 0.003911   ┆ 0.0      ┆ … ┆ 0.0    ┆ 0.0       ┆ 3.0       ┆ 0.0       │\n",
       "│ 1611.0     ┆ 12.0       ┆ 0.007449   ┆ 0.0      ┆ … ┆ 0.0    ┆ 0.0       ┆ 4.0       ┆ 0.0       │\n",
       "│ 1354.0     ┆ 8.0        ┆ 0.005908   ┆ 0.0      ┆ … ┆ 0.0    ┆ 0.0       ┆ 2.0       ┆ 0.0       │\n",
       "│ 5041.0     ┆ 63.0       ┆ 0.012498   ┆ 0.0      ┆ … ┆ 0.0    ┆ 0.0       ┆ 29.0      ┆ 0.0       │\n",
       "└────────────┴────────────┴────────────┴──────────┴───┴────────┴───────────┴───────────┴───────────┘"
      ]
     },
     "execution_count": 13,
     "metadata": {},
     "output_type": "execute_result"
    }
   ],
   "source": [
    "df.select(pl.col(pl.Float64))"
   ]
  },
  {
   "cell_type": "code",
   "execution_count": 14,
   "metadata": {},
   "outputs": [
    {
     "ename": "DuplicateError",
     "evalue": "column with name 'impressions' has more than one occurrences",
     "output_type": "error",
     "traceback": [
      "\u001b[0;31m---------------------------------------------------------------------------\u001b[0m",
      "\u001b[0;31mDuplicateError\u001b[0m                            Traceback (most recent call last)",
      "Cell \u001b[0;32mIn[14], line 1\u001b[0m\n\u001b[0;32m----> 1\u001b[0m \u001b[43mdf\u001b[49m\u001b[38;5;241;43m.\u001b[39;49m\u001b[43mselect\u001b[49m\u001b[43m(\u001b[49m\u001b[43m[\u001b[49m\u001b[38;5;124;43m'\u001b[39;49m\u001b[38;5;124;43mimpressions\u001b[39;49m\u001b[38;5;124;43m'\u001b[39;49m\u001b[43m,\u001b[49m\u001b[38;5;124;43m'\u001b[39;49m\u001b[38;5;124;43mimpressions\u001b[39;49m\u001b[38;5;124;43m'\u001b[39;49m\u001b[43m]\u001b[49m\u001b[43m)\u001b[49m\n",
      "File \u001b[0;32m~/.local/lib/python3.10/site-packages/polars/dataframe/frame.py:8097\u001b[0m, in \u001b[0;36mDataFrame.select\u001b[0;34m(self, *exprs, **named_exprs)\u001b[0m\n\u001b[1;32m   7997\u001b[0m \u001b[38;5;28;01mdef\u001b[39;00m \u001b[38;5;21mselect\u001b[39m(\n\u001b[1;32m   7998\u001b[0m     \u001b[38;5;28mself\u001b[39m, \u001b[38;5;241m*\u001b[39mexprs: IntoExpr \u001b[38;5;241m|\u001b[39m Iterable[IntoExpr], \u001b[38;5;241m*\u001b[39m\u001b[38;5;241m*\u001b[39mnamed_exprs: IntoExpr\n\u001b[1;32m   7999\u001b[0m ) \u001b[38;5;241m-\u001b[39m\u001b[38;5;241m>\u001b[39m DataFrame:\n\u001b[1;32m   8000\u001b[0m \u001b[38;5;250m    \u001b[39m\u001b[38;5;124;03m\"\"\"\u001b[39;00m\n\u001b[1;32m   8001\u001b[0m \u001b[38;5;124;03m    Select columns from this DataFrame.\u001b[39;00m\n\u001b[1;32m   8002\u001b[0m \n\u001b[0;32m   (...)\u001b[0m\n\u001b[1;32m   8095\u001b[0m \u001b[38;5;124;03m    └───────────┘\u001b[39;00m\n\u001b[1;32m   8096\u001b[0m \u001b[38;5;124;03m    \"\"\"\u001b[39;00m\n\u001b[0;32m-> 8097\u001b[0m     \u001b[38;5;28;01mreturn\u001b[39;00m \u001b[38;5;28;43mself\u001b[39;49m\u001b[38;5;241;43m.\u001b[39;49m\u001b[43mlazy\u001b[49m\u001b[43m(\u001b[49m\u001b[43m)\u001b[49m\u001b[38;5;241;43m.\u001b[39;49m\u001b[43mselect\u001b[49m\u001b[43m(\u001b[49m\u001b[38;5;241;43m*\u001b[39;49m\u001b[43mexprs\u001b[49m\u001b[43m,\u001b[49m\u001b[43m \u001b[49m\u001b[38;5;241;43m*\u001b[39;49m\u001b[38;5;241;43m*\u001b[39;49m\u001b[43mnamed_exprs\u001b[49m\u001b[43m)\u001b[49m\u001b[38;5;241;43m.\u001b[39;49m\u001b[43mcollect\u001b[49m\u001b[43m(\u001b[49m\u001b[43m_eager\u001b[49m\u001b[38;5;241;43m=\u001b[39;49m\u001b[38;5;28;43;01mTrue\u001b[39;49;00m\u001b[43m)\u001b[49m\n",
      "File \u001b[0;32m~/.local/lib/python3.10/site-packages/polars/lazyframe/frame.py:1730\u001b[0m, in \u001b[0;36mLazyFrame.collect\u001b[0;34m(self, type_coercion, predicate_pushdown, projection_pushdown, simplify_expression, slice_pushdown, comm_subplan_elim, comm_subexpr_elim, no_optimization, streaming, background, _eager)\u001b[0m\n\u001b[1;32m   1727\u001b[0m \u001b[38;5;28;01mif\u001b[39;00m background:\n\u001b[1;32m   1728\u001b[0m     \u001b[38;5;28;01mreturn\u001b[39;00m InProcessQuery(ldf\u001b[38;5;241m.\u001b[39mcollect_concurrently())\n\u001b[0;32m-> 1730\u001b[0m \u001b[38;5;28;01mreturn\u001b[39;00m wrap_df(\u001b[43mldf\u001b[49m\u001b[38;5;241;43m.\u001b[39;49m\u001b[43mcollect\u001b[49m\u001b[43m(\u001b[49m\u001b[43m)\u001b[49m)\n",
      "\u001b[0;31mDuplicateError\u001b[0m: column with name 'impressions' has more than one occurrences"
     ]
    }
   ],
   "source": [
    "df.select(['impressions','impressions'])"
   ]
  },
  {
   "cell_type": "code",
   "execution_count": 15,
   "metadata": {},
   "outputs": [
    {
     "name": "stderr",
     "output_type": "stream",
     "text": [
      "/tmp/ipykernel_5544/838267696.py:1: DeprecationWarning: `suffix` is deprecated. It has been moved to `name.suffix`.\n",
      "  df.select([\"impressions\",pl.col(\"impressions\").suffix(\"_2\")])\n"
     ]
    },
    {
     "data": {
      "text/html": [
       "<div><style>\n",
       ".dataframe > thead > tr,\n",
       ".dataframe > tbody > tr {\n",
       "  text-align: right;\n",
       "  white-space: pre-wrap;\n",
       "}\n",
       "</style>\n",
       "<small>shape: (5_791, 2)</small><table border=\"1\" class=\"dataframe\"><thead><tr><th>impressions</th><th>impressions_2</th></tr><tr><td>f64</td><td>f64</td></tr></thead><tbody><tr><td>1465.0</td><td>1465.0</td></tr><tr><td>154.0</td><td>154.0</td></tr><tr><td>1024.0</td><td>1024.0</td></tr><tr><td>1419.0</td><td>1419.0</td></tr><tr><td>198.0</td><td>198.0</td></tr><tr><td>170.0</td><td>170.0</td></tr><tr><td>104.0</td><td>104.0</td></tr><tr><td>189.0</td><td>189.0</td></tr><tr><td>900.0</td><td>900.0</td></tr><tr><td>252.0</td><td>252.0</td></tr><tr><td>1610.0</td><td>1610.0</td></tr><tr><td>165.0</td><td>165.0</td></tr><tr><td>&hellip;</td><td>&hellip;</td></tr><tr><td>416.0</td><td>416.0</td></tr><tr><td>15840.0</td><td>15840.0</td></tr><tr><td>22557.0</td><td>22557.0</td></tr><tr><td>1586.0</td><td>1586.0</td></tr><tr><td>4641.0</td><td>4641.0</td></tr><tr><td>1969.0</td><td>1969.0</td></tr><tr><td>1669.0</td><td>1669.0</td></tr><tr><td>986.0</td><td>986.0</td></tr><tr><td>1790.0</td><td>1790.0</td></tr><tr><td>1611.0</td><td>1611.0</td></tr><tr><td>1354.0</td><td>1354.0</td></tr><tr><td>5041.0</td><td>5041.0</td></tr></tbody></table></div>"
      ],
      "text/plain": [
       "shape: (5_791, 2)\n",
       "┌─────────────┬───────────────┐\n",
       "│ impressions ┆ impressions_2 │\n",
       "│ ---         ┆ ---           │\n",
       "│ f64         ┆ f64           │\n",
       "╞═════════════╪═══════════════╡\n",
       "│ 1465.0      ┆ 1465.0        │\n",
       "│ 154.0       ┆ 154.0         │\n",
       "│ 1024.0      ┆ 1024.0        │\n",
       "│ 1419.0      ┆ 1419.0        │\n",
       "│ …           ┆ …             │\n",
       "│ 1790.0      ┆ 1790.0        │\n",
       "│ 1611.0      ┆ 1611.0        │\n",
       "│ 1354.0      ┆ 1354.0        │\n",
       "│ 5041.0      ┆ 5041.0        │\n",
       "└─────────────┴───────────────┘"
      ]
     },
     "execution_count": 15,
     "metadata": {},
     "output_type": "execute_result"
    }
   ],
   "source": [
    "df.select([\"impressions\",pl.col(\"impressions\").suffix(\"_2\")])"
   ]
  },
  {
   "cell_type": "code",
   "execution_count": 16,
   "metadata": {},
   "outputs": [
    {
     "name": "stderr",
     "output_type": "stream",
     "text": [
      "/tmp/ipykernel_5544/1196240429.py:1: DeprecationWarning: `suffix` is deprecated. It has been moved to `name.suffix`.\n",
      "  df.select([pl.all().quantile(.25),pl.all().quantile(.5).suffix(\"q5\")])\n"
     ]
    },
    {
     "ename": "InvalidOperationError",
     "evalue": "`quantile` operation not supported for dtype `str`",
     "output_type": "error",
     "traceback": [
      "\u001b[0;31m---------------------------------------------------------------------------\u001b[0m",
      "\u001b[0;31mInvalidOperationError\u001b[0m                     Traceback (most recent call last)",
      "Cell \u001b[0;32mIn[16], line 1\u001b[0m\n\u001b[0;32m----> 1\u001b[0m \u001b[43mdf\u001b[49m\u001b[38;5;241;43m.\u001b[39;49m\u001b[43mselect\u001b[49m\u001b[43m(\u001b[49m\u001b[43m[\u001b[49m\u001b[43mpl\u001b[49m\u001b[38;5;241;43m.\u001b[39;49m\u001b[43mall\u001b[49m\u001b[43m(\u001b[49m\u001b[43m)\u001b[49m\u001b[38;5;241;43m.\u001b[39;49m\u001b[43mquantile\u001b[49m\u001b[43m(\u001b[49m\u001b[38;5;241;43m.25\u001b[39;49m\u001b[43m)\u001b[49m\u001b[43m,\u001b[49m\u001b[43mpl\u001b[49m\u001b[38;5;241;43m.\u001b[39;49m\u001b[43mall\u001b[49m\u001b[43m(\u001b[49m\u001b[43m)\u001b[49m\u001b[38;5;241;43m.\u001b[39;49m\u001b[43mquantile\u001b[49m\u001b[43m(\u001b[49m\u001b[38;5;241;43m.5\u001b[39;49m\u001b[43m)\u001b[49m\u001b[38;5;241;43m.\u001b[39;49m\u001b[43msuffix\u001b[49m\u001b[43m(\u001b[49m\u001b[38;5;124;43m\"\u001b[39;49m\u001b[38;5;124;43mq5\u001b[39;49m\u001b[38;5;124;43m\"\u001b[39;49m\u001b[43m)\u001b[49m\u001b[43m]\u001b[49m\u001b[43m)\u001b[49m\n",
      "File \u001b[0;32m~/.local/lib/python3.10/site-packages/polars/dataframe/frame.py:8097\u001b[0m, in \u001b[0;36mDataFrame.select\u001b[0;34m(self, *exprs, **named_exprs)\u001b[0m\n\u001b[1;32m   7997\u001b[0m \u001b[38;5;28;01mdef\u001b[39;00m \u001b[38;5;21mselect\u001b[39m(\n\u001b[1;32m   7998\u001b[0m     \u001b[38;5;28mself\u001b[39m, \u001b[38;5;241m*\u001b[39mexprs: IntoExpr \u001b[38;5;241m|\u001b[39m Iterable[IntoExpr], \u001b[38;5;241m*\u001b[39m\u001b[38;5;241m*\u001b[39mnamed_exprs: IntoExpr\n\u001b[1;32m   7999\u001b[0m ) \u001b[38;5;241m-\u001b[39m\u001b[38;5;241m>\u001b[39m DataFrame:\n\u001b[1;32m   8000\u001b[0m \u001b[38;5;250m    \u001b[39m\u001b[38;5;124;03m\"\"\"\u001b[39;00m\n\u001b[1;32m   8001\u001b[0m \u001b[38;5;124;03m    Select columns from this DataFrame.\u001b[39;00m\n\u001b[1;32m   8002\u001b[0m \n\u001b[0;32m   (...)\u001b[0m\n\u001b[1;32m   8095\u001b[0m \u001b[38;5;124;03m    └───────────┘\u001b[39;00m\n\u001b[1;32m   8096\u001b[0m \u001b[38;5;124;03m    \"\"\"\u001b[39;00m\n\u001b[0;32m-> 8097\u001b[0m     \u001b[38;5;28;01mreturn\u001b[39;00m \u001b[38;5;28;43mself\u001b[39;49m\u001b[38;5;241;43m.\u001b[39;49m\u001b[43mlazy\u001b[49m\u001b[43m(\u001b[49m\u001b[43m)\u001b[49m\u001b[38;5;241;43m.\u001b[39;49m\u001b[43mselect\u001b[49m\u001b[43m(\u001b[49m\u001b[38;5;241;43m*\u001b[39;49m\u001b[43mexprs\u001b[49m\u001b[43m,\u001b[49m\u001b[43m \u001b[49m\u001b[38;5;241;43m*\u001b[39;49m\u001b[38;5;241;43m*\u001b[39;49m\u001b[43mnamed_exprs\u001b[49m\u001b[43m)\u001b[49m\u001b[38;5;241;43m.\u001b[39;49m\u001b[43mcollect\u001b[49m\u001b[43m(\u001b[49m\u001b[43m_eager\u001b[49m\u001b[38;5;241;43m=\u001b[39;49m\u001b[38;5;28;43;01mTrue\u001b[39;49;00m\u001b[43m)\u001b[49m\n",
      "File \u001b[0;32m~/.local/lib/python3.10/site-packages/polars/lazyframe/frame.py:1730\u001b[0m, in \u001b[0;36mLazyFrame.collect\u001b[0;34m(self, type_coercion, predicate_pushdown, projection_pushdown, simplify_expression, slice_pushdown, comm_subplan_elim, comm_subexpr_elim, no_optimization, streaming, background, _eager)\u001b[0m\n\u001b[1;32m   1727\u001b[0m \u001b[38;5;28;01mif\u001b[39;00m background:\n\u001b[1;32m   1728\u001b[0m     \u001b[38;5;28;01mreturn\u001b[39;00m InProcessQuery(ldf\u001b[38;5;241m.\u001b[39mcollect_concurrently())\n\u001b[0;32m-> 1730\u001b[0m \u001b[38;5;28;01mreturn\u001b[39;00m wrap_df(\u001b[43mldf\u001b[49m\u001b[38;5;241;43m.\u001b[39;49m\u001b[43mcollect\u001b[49m\u001b[43m(\u001b[49m\u001b[43m)\u001b[49m)\n",
      "\u001b[0;31mInvalidOperationError\u001b[0m: `quantile` operation not supported for dtype `str`"
     ]
    }
   ],
   "source": [
    "df.select([pl.all().quantile(.25),pl.all().quantile(.5).suffix(\"q5\")])"
   ]
  },
  {
   "cell_type": "code",
   "execution_count": null,
   "metadata": {},
   "outputs": [],
   "source": []
  }
 ],
 "metadata": {
  "kernelspec": {
   "display_name": "Python 3",
   "language": "python",
   "name": "python3"
  },
  "language_info": {
   "codemirror_mode": {
    "name": "ipython",
    "version": 3
   },
   "file_extension": ".py",
   "mimetype": "text/x-python",
   "name": "python",
   "nbconvert_exporter": "python",
   "pygments_lexer": "ipython3",
   "version": "3.10.13"
  }
 },
 "nbformat": 4,
 "nbformat_minor": 2
}
